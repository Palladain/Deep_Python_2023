{
  "nbformat": 4,
  "nbformat_minor": 0,
  "metadata": {
    "colab": {
      "provenance": [],
      "collapsed_sections": [
        "PEoDN6Wn3Rjx",
        "owJSkKaNUjHW",
        "Jd4u_e9YmdcZ"
      ]
    },
    "kernelspec": {
      "name": "python3",
      "display_name": "Python 3"
    },
    "language_info": {
      "name": "python"
    }
  },
  "cells": [
    {
      "cell_type": "markdown",
      "source": [
        "# Продвинутый Python, лекция 13\n",
        "\n",
        "**Лектор:** Петров Тимур\n",
        "\n",
        "**Семинаристы:** Петров Тимур, Коган Александра, Бузаев Федор, Дешеулин Олег\n",
        "\n",
        "**Spoiler Alert:** в рамках курса нельзя изучить ни одну из тем от и до досконально (к сожалению, на это требуется больше времени, чем даже 3 часа в неделю). Но мы попробуем рассказать столько, сколько возможно :)"
      ],
      "metadata": {
        "id": "wAjy7jcIsEE-"
      }
    },
    {
      "cell_type": "markdown",
      "source": [
        "## Асинхронность"
      ],
      "metadata": {
        "id": "PEoDN6Wn3Rjx"
      }
    },
    {
      "cell_type": "markdown",
      "source": [
        "Что такое асинхронность? Представим себе программу, которая запрашивает данные на каком-либо сервере. Отправляется запрос... ждем ... ждем ... и получаем ответ.\n",
        "\n",
        "Что происходит в момент ожидания? Ничего, мы просто ждем результата. А вообще было бы классно не тратить время попусту (как и ресурсы), а делать что-то еще (как будто наше ожидание происходит на фоне). В этом и суть асинхронности!\n",
        "\n",
        "У нас есть несколько функций, которые мы вызываем, но не ожидаем результат прямо сейчас. Внутри асинхронного программирования - идея конкурентности (concurrency) — две или более задачи могут запускаться, выполняться и завершаться в перекрывающиеся периоды времени.\n",
        "\n",
        "Для этого в Python есть библиотека [asyncio](https://docs.python.org/3/library/asyncio.html), которая основана на корутинах. Корутины - это некоторая функция, которая может начинаться, приостанавливаться и завершаться в произвольный момент времени.\n",
        "\n",
        "Давайте на примере:"
      ],
      "metadata": {
        "id": "pCqLIv3CtWt0"
      }
    },
    {
      "cell_type": "code",
      "execution_count": null,
      "metadata": {
        "id": "eu63f4cgr7rw"
      },
      "outputs": [],
      "source": [
        "import asyncio\n",
        "\n",
        "async def compute(a, b):\n",
        "    print('Compute...')\n",
        "    await asyncio.sleep(1.0)\n",
        "    return a + b\n",
        "\n",
        "async def print_sum(a, b):\n",
        "    result = await compute(a, b)\n",
        "    print('{} + {} = {}'.format(a, b, result))"
      ]
    },
    {
      "cell_type": "code",
      "source": [
        "import asyncio\n",
        "\n",
        "async def compute(a, b):\n",
        "    print('Compute...')\n",
        "    await asyncio.sleep(1.0)\n",
        "    return a + b\n",
        "\n",
        "async def main():\n",
        "    a, b = 1, 2\n",
        "    result = await compute(a, b)\n",
        "    print('{} + {} = {}'.format(a, b, result))\n",
        "\n",
        "asyncio.run(main())"
      ],
      "metadata": {
        "id": "P9gEJjzqCToK"
      },
      "execution_count": null,
      "outputs": []
    },
    {
      "cell_type": "markdown",
      "source": [
        "Что здесь происходит?\n",
        "\n",
        "Мы создали две корутины, compute и print_sum (указывается с помощью слова async)\n",
        "\n",
        "Далее мы запустили наше выполнение с помощью так называемого event_loop, который берет нашу функцию, и запускает ее. В свою очередь, наша корутина compute запускается и находится в режиме ожидания, пока не выполнится compute() (это делается с помощью слова await). После ожидания в секунду, compute выводит ответ, который передается к print_sum (напоминаю, все это время print_sum выполняется) и далее выводит ответ\n",
        "\n",
        "Общая схема выглядит вот так:\n",
        "\n",
        "![](https://camo.githubusercontent.com/de86a2c33affd5101ddc77b69a274823e643bda2/687474703a2f2f6e746f6c6c2e6f72672f7374617469632f696d616765732f74756c69705f636f726f2e706e67)"
      ],
      "metadata": {
        "id": "Tu6Iw_QGy8tV"
      }
    },
    {
      "cell_type": "markdown",
      "source": [
        "Понятное дело, что сейчас собрали такой игрушечный пример (какой сейчас был смсл так сделать). Но таким образом можно запустить выполнение и ждать результата, например, от нескольких функций etc. Давайте на вот таком примере:"
      ],
      "metadata": {
        "id": "Aiatj43I0ggu"
      }
    },
    {
      "cell_type": "code",
      "source": [
        "import asyncio\n",
        "\n",
        "async def factorial(name, number):\n",
        "    f = 1\n",
        "    for i in range(2, number + 1):\n",
        "        print(f\"Task {name}: Compute factorial({i})...\")\n",
        "        await asyncio.sleep(1)\n",
        "        f *= i\n",
        "    print(f\"Task {name}: factorial({number}) = {f}\")\n",
        "    return f\n",
        "\n",
        "res = await asyncio.gather(\n",
        "    factorial(\"A\", 2),\n",
        "    factorial(\"B\", 3),\n",
        "    factorial(\"C\", 4),\n",
        "    return_exceptions= True # как обрабатывать ошибки, если что-то упадет\n",
        ")\n",
        "print(res)\n"
      ],
      "metadata": {
        "id": "5f4c8kYd1gCl",
        "colab": {
          "base_uri": "https://localhost:8080/"
        },
        "outputId": "e3c88adf-9110-4530-a672-b2ac1bfeeb5c"
      },
      "execution_count": null,
      "outputs": [
        {
          "output_type": "stream",
          "name": "stdout",
          "text": [
            "Task A: Compute factorial(2)...\n",
            "Task B: Compute factorial(2)...\n",
            "Task C: Compute factorial(2)...\n",
            "Task A: factorial(2) = 2\n",
            "Task B: Compute factorial(3)...\n",
            "Task C: Compute factorial(3)...\n",
            "Task B: factorial(3) = 6\n",
            "Task C: Compute factorial(4)...\n",
            "Task C: factorial(4) = 24\n",
            "[2, 6, 24]\n"
          ]
        }
      ]
    },
    {
      "cell_type": "markdown",
      "source": [
        "Что у нас происходит здесь и что добавилось?\n",
        "\n",
        "* gather - запусти все, что мы перечислили, асихнронно\n",
        "\n",
        "Что мы видим по выводу?\n",
        "\n",
        "У нас есть таска A, B, C. В линейной логике мы бы вначале посчитали A, потом B, потом C (и все время ожидания сложилось бы). Как это здесь работает?\n",
        "\n",
        "Идем в задачу A, что-то сделали, уходим в режим ожидания. Пока ожидаем, можно взять и что-то сделать в таске B, уходим, можем сделать что-то в таске С. Дождались внутри A, делаем ее и так далее. Таким образом, мы делаем 3 таски в одно время"
      ],
      "metadata": {
        "id": "N7iwjnmM13vY"
      }
    },
    {
      "cell_type": "markdown",
      "source": [
        "![](https://pythonru.com/wp-content/uploads/2021/05/ispolzovanii-asinhronnosti.png)"
      ],
      "metadata": {
        "id": "RMF52HUSJjsF"
      }
    },
    {
      "cell_type": "markdown",
      "source": [
        "### Ограничение ожидания"
      ],
      "metadata": {
        "id": "CK2kOCcu3QuB"
      }
    },
    {
      "cell_type": "markdown",
      "source": [
        "Отлично, можем делать что-то асинхронно, но что, если у нас один из вызовов затупил настолько, что мы не хотим ждать и пойти делать дальше что-то без него (скажем, какой-то сервер упал, ответа от него мы не дождемся)?\n",
        "\n",
        "Для этого есть timeout - ограничение на время ответа"
      ],
      "metadata": {
        "id": "C-t1HE3S3Vgq"
      }
    },
    {
      "cell_type": "code",
      "source": [
        "import asyncio\n",
        "\n",
        "async def eternity():\n",
        "    await asyncio.sleep(3600)\n",
        "    print('yay!')\n",
        "\n",
        "\n",
        "# Wait for at most 1 second\n",
        "try:\n",
        "    await asyncio.wait_for(eternity(), timeout=1.0) # Отдельная функция wait_for, то есть ждем функцию, но ограничиваем по времени\n",
        "except asyncio.TimeoutError: # если выплюнул ошибку ожидания, то делаем то или иное\n",
        "    print('timeout!')\n"
      ],
      "metadata": {
        "id": "OfyRqyIX3s9P",
        "colab": {
          "base_uri": "https://localhost:8080/"
        },
        "outputId": "bb103748-a217-4078-ae5e-d307e817df84"
      },
      "execution_count": null,
      "outputs": [
        {
          "output_type": "stream",
          "name": "stdout",
          "text": [
            "timeout!\n"
          ]
        }
      ]
    },
    {
      "cell_type": "markdown",
      "source": [
        "Что происходит на уровне корутины? Он ловит ошибку, убивается и закрывается. Но внутри той же самой корутины можно сделать что-то еще с этой ошибкой (и это нормально)"
      ],
      "metadata": {
        "id": "5uI_S1UZ_tSW"
      }
    },
    {
      "cell_type": "code",
      "source": [
        "import asyncio\n",
        "\n",
        "async def eternity():\n",
        "    try:\n",
        "        await asyncio.sleep(3600)\n",
        "        print('yay!')\n",
        "    except asyncio.CancelledError:\n",
        "        print(\"closed\")\n",
        "        await asyncio.sleep(5)\n",
        "\n",
        "# Wait for at most 1 second\n",
        "try:\n",
        "    await asyncio.wait_for(eternity(), timeout=1.0) # Отдельная функция wait_for, то есть ждем функцию, но ограничиваем по времени\n",
        "except asyncio.TimeoutError: # если выплюнул ошибку ожидания, то делаем то или иное\n",
        "    print('timeout!')\n"
      ],
      "metadata": {
        "colab": {
          "base_uri": "https://localhost:8080/"
        },
        "id": "5-qozhb3_s_z",
        "outputId": "83d08600-c213-4e48-b9c5-db70e9b6bbb3"
      },
      "execution_count": null,
      "outputs": [
        {
          "output_type": "stream",
          "name": "stdout",
          "text": [
            "closed\n",
            "timeout!\n"
          ]
        }
      ]
    },
    {
      "cell_type": "markdown",
      "source": [
        "А ежели мы хотим сделать так, чтобы она все-таки доработала, но скинула ошибку того, что она работает долго? На этот случай есть shield (защита от отмены таска):"
      ],
      "metadata": {
        "id": "XmasZweoBKnN"
      }
    },
    {
      "cell_type": "code",
      "source": [
        "import asyncio\n",
        "\n",
        "async def eternity():\n",
        "    await asyncio.sleep(5)\n",
        "    print('yay!')\n",
        "\n",
        "# Wait for at most 1 second\n",
        "try:\n",
        "    await asyncio.wait_for(asyncio.shield(eternity()), timeout=1.0) # Отдельная функция wait_for, то есть ждем функцию, но ограничиваем по времени\n",
        "except asyncio.TimeoutError: # если выплюнул ошибку ожидания, то делаем то или иное\n",
        "    print('timeout!')\n",
        "    await asyncio.sleep(5)"
      ],
      "metadata": {
        "colab": {
          "base_uri": "https://localhost:8080/"
        },
        "id": "-XU5Vov0BVES",
        "outputId": "1f73df1c-3441-4d12-e8b0-4375fd4efed3"
      },
      "execution_count": null,
      "outputs": [
        {
          "output_type": "stream",
          "name": "stdout",
          "text": [
            "timeout!\n",
            "yay!\n"
          ]
        }
      ]
    },
    {
      "cell_type": "markdown",
      "source": [
        "### Таски"
      ],
      "metadata": {
        "id": "upB53OvdKBwl"
      }
    },
    {
      "cell_type": "markdown",
      "source": [
        "У нас есть ожидание, есть запуски и так далее. А нельзя это как-то обернуть в сущность типа задачи, которую можно вызвать позже сразу как результат? Можно! Для этого есть объект Task, который создается с помощью функции create_task() (и отсчет начинается уже в момент создания таски):"
      ],
      "metadata": {
        "id": "ANp0ZwTPKDh4"
      }
    },
    {
      "cell_type": "code",
      "source": [
        "import asyncio\n",
        "import time\n",
        "\n",
        "async def say(word, delay):\n",
        "    print(\"heh\" + word)\n",
        "    await asyncio.sleep(delay)\n",
        "    print(word)\n",
        "\n",
        "t_1 = asyncio.create_task(say(\"Hi_1\", 2))\n",
        "t_2 = asyncio.create_task(say(\"Hi_2\", 1))\n",
        "\n",
        "print(time.strftime(\"%X\"))\n",
        "\n",
        "await t_1\n",
        "await t_2\n",
        "\n",
        "print(time.strftime(\"%X\"))"
      ],
      "metadata": {
        "colab": {
          "base_uri": "https://localhost:8080/"
        },
        "id": "iOufky448bk7",
        "outputId": "416948b7-cc50-4b71-95e8-89a5c1e374e3"
      },
      "execution_count": null,
      "outputs": [
        {
          "output_type": "stream",
          "name": "stdout",
          "text": [
            "16:41:22\n",
            "hehHi_1\n",
            "hehHi_2\n",
            "Hi_2\n",
            "Hi_1\n",
            "16:41:24\n"
          ]
        }
      ]
    },
    {
      "cell_type": "markdown",
      "source": [
        "### Забираем результаты как придут"
      ],
      "metadata": {
        "id": "RlKfadD8DNXl"
      }
    },
    {
      "cell_type": "markdown",
      "source": [
        "Хорошо, у нас есть несколько корутин, умеем запускать с помощью gather, а как сразу забирать результаты, не ожидая окончания каждого из них? На это есть as_completed:"
      ],
      "metadata": {
        "id": "COWMCrJ6DRbR"
      }
    },
    {
      "cell_type": "code",
      "source": [
        "async def fact(number):\n",
        "    res = 1\n",
        "    for i in range(2, number + 1):\n",
        "        await asyncio.sleep(1)\n",
        "        res *= i\n",
        "    return number, res\n",
        "\n",
        "for i, future in enumerate(asyncio.as_completed([fact(4), fact(3), fact(2)])):\n",
        "    number, result = await future\n",
        "    print(f\"Factorial({number}) = {result}\")"
      ],
      "metadata": {
        "colab": {
          "base_uri": "https://localhost:8080/"
        },
        "id": "JijfXtPbDgWF",
        "outputId": "58667af4-540c-4873-b8cd-354af1b52972"
      },
      "execution_count": null,
      "outputs": [
        {
          "output_type": "stream",
          "name": "stdout",
          "text": [
            "Factorial(2) = 2\n",
            "Factorial(3) = 6\n",
            "Factorial(4) = 24\n"
          ]
        }
      ]
    },
    {
      "cell_type": "markdown",
      "source": [
        "## Комбинируем потоки и корутины"
      ],
      "metadata": {
        "id": "owJSkKaNUjHW"
      }
    },
    {
      "cell_type": "markdown",
      "source": [
        "Зачем это нужно?\n",
        "\n",
        "Допустим, что вы настраиваете работу системы, допустим, системы доставки. Вам что необходимо? Вы ждете заказов от пользователя, но пока вы их ждете, то у вас же все не простаивает на месте: заказы собираются, курьеры возят. И все это синхронно. Давайте осуществлять мечту"
      ],
      "metadata": {
        "id": "SqjDFA9PUoHw"
      }
    },
    {
      "cell_type": "code",
      "execution_count": null,
      "metadata": {
        "id": "3CjD2eVDTejn"
      },
      "outputs": [],
      "source": [
        "import time\n",
        "import asyncio\n",
        "\n",
        "\n",
        "def blocking_io():\n",
        "    print(f\"{time.strftime('%X')} block IO\")\n",
        "    time.sleep(5) # снимает GIL\n",
        "    print(f\"{time.strftime('%X')} unblock IO\")\n",
        "\n",
        "non_block = asyncio.to_thread(blocking_io) # без скобочек!!! аргументы просто через пробел, версия 3.9+\n",
        "\n",
        "async def main():\n",
        "    print(f\"{time.strftime('%X')} start async\")\n",
        "    _ = await asyncio.gather(non_block, asyncio.sleep(5))\n",
        "    print(f\"{time.strftime('%X')} finish async\")\n",
        "\n",
        "asyncio.run(main())"
      ]
    },
    {
      "cell_type": "markdown",
      "source": [
        "Аналогично с теми же самими факториалами (опять-таки, это нам не даст ускорения по сравнению с просто корутинами, потому что слишком малые рассчеты) и опять-таки - внутри Python паралеллить вычисления - дело такое себе"
      ],
      "metadata": {
        "id": "QllSst9HaPte"
      }
    },
    {
      "cell_type": "code",
      "source": [
        "import time\n",
        "import asyncio\n",
        "\n",
        "def factorial(name, number):\n",
        "    f = 1\n",
        "    for i in range(2, number + 1):\n",
        "        print(f\"Task {name}: Compute factorial({i})...\")\n",
        "        time.sleep(0.1)\n",
        "        f *= i\n",
        "    print(f\"Task {name}: factorial({number}) = {f}\")\n",
        "    return f\n",
        "\n",
        "\n",
        "fact_1 = asyncio.to_thread(factorial, \"A\", 2)\n",
        "fact_2 = asyncio.to_thread(factorial, \"B\", 3)\n",
        "fact_3 = asyncio.to_thread(factorial, \"C\", 4)\n",
        "\n",
        "async def main():\n",
        "    print(f\"{time.time()} beg\")\n",
        "    res = await asyncio.gather(\n",
        "        fact_1,\n",
        "        fact_2,\n",
        "        fact_3\n",
        "    )\n",
        "    print(f\"{time.time()} end\")\n",
        "\n",
        "asyncio.run(main())\n"
      ],
      "metadata": {
        "id": "3X6EjqUAawqS"
      },
      "execution_count": null,
      "outputs": []
    },
    {
      "cell_type": "markdown",
      "source": [
        "## А где работать с асихнронностью?"
      ],
      "metadata": {
        "id": "P-icj441lHQR"
      }
    },
    {
      "cell_type": "markdown",
      "source": [
        "### Aioschedule"
      ],
      "metadata": {
        "id": "Jd4u_e9YmdcZ"
      }
    },
    {
      "cell_type": "markdown",
      "source": [
        "Первый пример - это шедулинг! Собственно, мы говорили о том, что ожидание делает работу медленнее, а наличие корутин ее ускоряет (потому что занимается чем-то еще, помимо самого ожидания)\n",
        "\n",
        "\n",
        "Одна из вещей, которая очень полезна внутри асинхронности - это шедулинг (нам часто нужно что-то делать раз в какое-то время, например, раз в день нам точно надо)"
      ],
      "metadata": {
        "id": "N8xUZqDnmo_k"
      }
    },
    {
      "cell_type": "code",
      "source": [
        "!pip install aioschedule"
      ],
      "metadata": {
        "colab": {
          "base_uri": "https://localhost:8080/"
        },
        "id": "JoVSkAZnnwz8",
        "outputId": "315af2fc-f06f-4e26-d06e-5c5c9c653c07"
      },
      "execution_count": null,
      "outputs": [
        {
          "output_type": "stream",
          "name": "stdout",
          "text": [
            "Collecting aioschedule\n",
            "  Downloading aioschedule-0.5.2.tar.gz (12 kB)\n",
            "  Preparing metadata (setup.py) ... \u001b[?25l\u001b[?25hdone\n",
            "Building wheels for collected packages: aioschedule\n",
            "  Building wheel for aioschedule (setup.py) ... \u001b[?25l\u001b[?25hdone\n",
            "  Created wheel for aioschedule: filename=aioschedule-0.5.2-py3-none-any.whl size=8479 sha256=b516ad79a82809ceae31650bb3440b7ce8a31c0132960b2e432ecdf74af1b2b3\n",
            "  Stored in directory: /root/.cache/pip/wheels/f5/b2/2a/ee29c2ee340b4c4552cda20998765a51eb48563c97c2bb2577\n",
            "Successfully built aioschedule\n",
            "Installing collected packages: aioschedule\n",
            "Successfully installed aioschedule-0.5.2\n"
          ]
        }
      ]
    },
    {
      "cell_type": "markdown",
      "source": [
        "Давайте на примере:"
      ],
      "metadata": {
        "id": "lN5N6QWKn7b-"
      }
    },
    {
      "cell_type": "code",
      "source": [
        "import asyncio\n",
        "import aioschedule as schedule\n",
        "import time\n",
        "\n",
        "async def job():\n",
        "    print(\"HaHa\")\n",
        "\n",
        "async def new_job():\n",
        "    print(\"Heh\")\n",
        "\n",
        "schedule.every(1).seconds.do(job) # В шедулере говорим как часто использовать и что\n",
        "schedule.every(2).seconds.do(new_job)\n",
        "\n",
        "loop = asyncio.new_event_loop()\n",
        "while True:\n",
        "    loop.run_until_complete(schedule.run_pending()) # запускаем loop\n",
        "    time.sleep(0.1)"
      ],
      "metadata": {
        "id": "WktO3kFqn88B"
      },
      "execution_count": null,
      "outputs": []
    },
    {
      "cell_type": "markdown",
      "source": [
        "### Aiogram"
      ],
      "metadata": {
        "id": "JNE6ov11lc0z"
      }
    },
    {
      "cell_type": "markdown",
      "source": [
        "Зачем в Телеграм боте нужна асинхронность, спросите вы? Ответ прост: это гораздо быстрее работает (особенно чем больше нагрузка, тем больше вам нужна асинхронность), ну а также это позволяет более эффективно использовать параллельность (которая, сама собой, и так есть в телеграм-боте)\n",
        "\n",
        "В чем разница? По существу, вместо requests используется [aiohttp](https://docs.aiohttp.org/en/stable/) - асинхронная версия requests, если так можно высказаться"
      ],
      "metadata": {
        "id": "5r7CmuOpdJx3"
      }
    },
    {
      "cell_type": "code",
      "source": [
        "import asyncio\n",
        "import aioschedule\n",
        "from telebot.async_telebot import AsyncTeleBot\n",
        "\n",
        "API_TOKEN = '<api_token>'\n",
        "bot = AsyncTeleBot(API_TOKEN)\n",
        "\n",
        "\n",
        "async def beep(chat_id):\n",
        "    \"\"\"Send the beep message.\"\"\"\n",
        "    await bot.send_message(chat_id, text='Beep!')\n",
        "    aioschedule.clear(chat_id)\n",
        "\n",
        "\n",
        "@bot.message_handler(commands=['help', 'start'])\n",
        "async def send_welcome(message):\n",
        "    await bot.reply_to(message, \"Hi! Use /set <seconds> to set a timer\")\n",
        "\n",
        "\n",
        "@bot.message_handler(commands=['set'])\n",
        "async def set_timer(message):\n",
        "    args = message.text.split()\n",
        "    if len(args) > 1 and args[1].isdigit():\n",
        "        sec = int(args[1])\n",
        "        aioschedule.every(sec).seconds.do(beep, message.chat.id).tag(message.chat.id)\n",
        "    else:\n",
        "        await bot.reply_to(message, 'Usage: /set <seconds>')\n",
        "\n",
        "\n",
        "@bot.message_handler(commands=['unset'])\n",
        "def unset_timer(message):\n",
        "    aioschedule.clean(message.chat.id)\n",
        "\n",
        "\n",
        "async def scheduler():\n",
        "    while True:\n",
        "        await aioschedule.run_pending()\n",
        "        await asyncio.sleep(1)\n",
        "\n",
        "\n",
        "async def main():\n",
        "    await asyncio.gather(bot.infinity_polling(), scheduler())\n",
        "\n",
        "\n",
        "if __name__ == '__main__':\n",
        "    asyncio.run(main())"
      ],
      "metadata": {
        "id": "4N3_uv7rj3GA"
      },
      "execution_count": null,
      "outputs": []
    },
    {
      "cell_type": "markdown",
      "source": [
        "Зачем еще нужна асинхронность? Опять-таки для подключения к БД. Допустим, что вы храните информацию по юзерам: как их зовут и так далее (та самая проблема, которую вы получали на ДЗ для обработки бана юзера и так далее). Так вот, для создания более сложных ботов (например, магазина), вам нужно подключаться к БД, делать асинхронного бота, и таким образом, запрос еще ждать. А остальные ждут и ждут..."
      ],
      "metadata": {
        "id": "TDUINjIfmyQD"
      }
    },
    {
      "cell_type": "markdown",
      "source": [
        "## Животное дня"
      ],
      "metadata": {
        "id": "Vt295navnN5Z"
      }
    },
    {
      "cell_type": "markdown",
      "source": [
        "Итак, сегодня у нас ламы! На самом деле ламы - это 4 отдельных вида, которых стоит различать. Какие есть виды?\n",
        "\n",
        "* Гуанако\n",
        "\n",
        "* Викунья\n",
        "\n",
        "* Лама\n",
        "\n",
        "* Альпака"
      ],
      "metadata": {
        "id": "one_AAvXnSZ2"
      }
    },
    {
      "cell_type": "markdown",
      "source": [
        "![](https://i.natgeofe.com/k/aadfa881-c630-4078-93b3-c75e89a42f09/guanaco-mountain.jpg)"
      ],
      "metadata": {
        "id": "Y-FHNstwtimQ"
      }
    },
    {
      "cell_type": "markdown",
      "source": [
        "Это гуанако. Они дикие и прыгучие, а одомашненный вид - это лама\n",
        "\n",
        "![](https://upload.wikimedia.org/wikipedia/commons/thumb/c/cd/Black_Llama.jpg/1920px-Black_Llama.jpg)"
      ],
      "metadata": {
        "id": "bIlMhQOntqzJ"
      }
    },
    {
      "cell_type": "markdown",
      "source": [
        "Викунья - дикая, меньше и стройнее, чем гуанако (различить сложно)\n",
        "\n",
        "![](https://i.artfile.ru/2048x1365_851478_[www.ArtFile.ru].jpg)"
      ],
      "metadata": {
        "id": "DKJgR8ZeuC85"
      }
    },
    {
      "cell_type": "markdown",
      "source": [
        "А одомашненный вид - это альпака. Она пышная и пушистая!\n",
        "\n",
        "![](https://static.fjcdn.com/large/pictures/6d/7d/6d7d59_5574469.jpg)"
      ],
      "metadata": {
        "id": "OSz2XJRTuMut"
      }
    },
    {
      "cell_type": "markdown",
      "source": [
        "Лам используют в качестве вьючных животных (но они очень гордые, положи на них больше - они пошлют)\n",
        "\n",
        "А альпак - для того, чтобы их стричь и из шерсти делать одежду и так далее\n",
        "\n",
        "Одомашнили примерно 5000 тыс лет назад предками инков и прочих народов Анд"
      ],
      "metadata": {
        "id": "2WMmp862uciW"
      }
    }
  ]
}