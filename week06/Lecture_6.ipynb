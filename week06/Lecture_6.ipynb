{
  "nbformat": 4,
  "nbformat_minor": 0,
  "metadata": {
    "colab": {
      "provenance": []
    },
    "kernelspec": {
      "name": "python3",
      "display_name": "Python 3"
    },
    "language_info": {
      "name": "python"
    }
  },
  "cells": [
    {
      "cell_type": "markdown",
      "source": [
        "# Продвинутый Python, лекция 6\n",
        "\n",
        "**Лектор:** Петров Тимур\n",
        "\n",
        "**Семинаристы:** Петров Тимур, Бузаев Федор, Коган Александра, Дешеулин Олег\n",
        "\n",
        "**Spoiler Alert:** в рамках курса нельзя изучить ни одну из тем от и до досконально (к сожалению, на это требуется больше времени, чем даже 3 часа в неделю). Но мы попробуем рассказать столько, сколько возможно :)"
      ],
      "metadata": {
        "id": "mEM1Na_ftoIw"
      }
    },
    {
      "cell_type": "markdown",
      "source": [
        "Итак, сегодня поговорим про такую важную составляющую для любого Python-разработчика: обработка исключений, тестирование и логирование\n",
        "\n",
        "На 1 курсе мы уже обсуждали исключения, но немного напомним и чуть поглубже погрузимся в устройство. Приступим!"
      ],
      "metadata": {
        "id": "uXQc4A7GuB6S"
      }
    },
    {
      "cell_type": "markdown",
      "source": [
        "# Исключения"
      ],
      "metadata": {
        "id": "3wAPPG3-us_N"
      }
    },
    {
      "cell_type": "markdown",
      "source": [
        "Итак, что такое вообще исключения и зачем нам все это нужно?\n",
        "\n",
        "У вас есть код, он работает, все бы славно, да вот могут происходить ситуации, когда логика кода нарушается (самый простой и базовый случай - деление на ноль):"
      ],
      "metadata": {
        "id": "3svWB_vKvjqs"
      }
    },
    {
      "cell_type": "code",
      "execution_count": null,
      "metadata": {
        "colab": {
          "base_uri": "https://localhost:8080/",
          "height": 185
        },
        "id": "fCBULiAGtjrz",
        "outputId": "6850a739-740b-416c-bc17-6245dd8e178f"
      },
      "outputs": [
        {
          "output_type": "error",
          "ename": "ZeroDivisionError",
          "evalue": "ignored",
          "traceback": [
            "\u001b[0;31m---------------------------------------------------------------------------\u001b[0m",
            "\u001b[0;31mZeroDivisionError\u001b[0m                         Traceback (most recent call last)",
            "\u001b[0;32m<ipython-input-1-3ec96714f820>\u001b[0m in \u001b[0;36m<cell line: 1>\u001b[0;34m()\u001b[0m\n\u001b[0;32m----> 1\u001b[0;31m \u001b[0mprint\u001b[0m\u001b[0;34m(\u001b[0m\u001b[0;36m1\u001b[0m \u001b[0;34m/\u001b[0m \u001b[0;36m0\u001b[0m\u001b[0;34m)\u001b[0m\u001b[0;34m\u001b[0m\u001b[0;34m\u001b[0m\u001b[0m\n\u001b[0m",
            "\u001b[0;31mZeroDivisionError\u001b[0m: division by zero"
          ]
        }
      ],
      "source": [
        "print(1 / 0)"
      ]
    },
    {
      "cell_type": "markdown",
      "source": [
        "Отлично, код упал, все рухнуло, ваш сервис потерял кучу денег из-за падения. Неприятно, надо что-то делать. Вот как в этом случае нам помогают исключения и их обработка. Базово: конструкция try-except:"
      ],
      "metadata": {
        "id": "a2YgzdvHwbfE"
      }
    },
    {
      "cell_type": "markdown",
      "source": [
        "![](https://studyglance.in/python/images/try-except-else.jpg)"
      ],
      "metadata": {
        "id": "cBKCgKjSwzd9"
      }
    },
    {
      "cell_type": "code",
      "source": [
        "try:\n",
        "    print(1 / 0)\n",
        "except :\n",
        "    print(\"error\")\n",
        "else:\n",
        "    print(\"it's fine bro\")\n",
        "finally:\n",
        "    print(\"end\")\n",
        "\n",
        "print('-' * 30)\n",
        "\n",
        "try:\n",
        "    print(1 / 1)\n",
        "except :\n",
        "    print(\"error\")\n",
        "else:\n",
        "    print(\"it's fine bro\")\n",
        "finally:\n",
        "    print(\"end\")"
      ],
      "metadata": {
        "colab": {
          "base_uri": "https://localhost:8080/"
        },
        "id": "6rim9Sezwy_Y",
        "outputId": "b018bccd-7bc5-468c-d99f-af4ae3c1a117"
      },
      "execution_count": null,
      "outputs": [
        {
          "output_type": "stream",
          "name": "stdout",
          "text": [
            "error\n",
            "end\n",
            "------------------------------\n",
            "1.0\n",
            "it's fine bro\n",
            "end\n"
          ]
        }
      ]
    },
    {
      "cell_type": "markdown",
      "source": [
        "Можно ли специально вывести ошибку? Конечно можно (это помогает в тех условиях, где у вас получаются уже не те результаты, например, и вы хотите их отдельно разобрать по-другому)\n",
        "\n",
        "Делается это с помощью raise:"
      ],
      "metadata": {
        "id": "3Y-UCw3G0d8O"
      }
    },
    {
      "cell_type": "code",
      "source": [
        "try:\n",
        "    a = int(input())\n",
        "    if a <= 1:\n",
        "        raise NameError\n",
        "except NameError:\n",
        "    print(\"raised error\")"
      ],
      "metadata": {
        "colab": {
          "base_uri": "https://localhost:8080/"
        },
        "id": "e8xGoswa0pie",
        "outputId": "58dfd3a2-0682-4c9a-e1be-e53cae8893bd"
      },
      "execution_count": null,
      "outputs": [
        {
          "output_type": "stream",
          "name": "stdout",
          "text": [
            "1\n",
            "raised error\n"
          ]
        }
      ]
    },
    {
      "cell_type": "markdown",
      "source": [
        "Какие бывают исключения?\n",
        "\n"
      ],
      "metadata": {
        "id": "eW8uMOH_0Tx-"
      }
    },
    {
      "cell_type": "markdown",
      "source": [
        "![](https://s1.o7planning.com/ru/11421/images/7601427.png)"
      ],
      "metadata": {
        "id": "MmCeLpLp1SI6"
      }
    },
    {
      "cell_type": "markdown",
      "source": [
        "Всегда ли стоит использовать исключения? Не всегда, особенно, когда можно предотврарить их на этапе кода (пробуем замерить время выполнения двух идентичных програм: с обработкой исключений и с простым if)\n",
        "\n",
        "Получается в 10 раз медленнее!"
      ],
      "metadata": {
        "id": "kqoBWRVazmR6"
      }
    },
    {
      "cell_type": "code",
      "source": [
        "import timeit\n",
        "\n",
        "setup=\"a = 0\"\n",
        "\n",
        "stmt1 = '''\n",
        "try:\n",
        "    b=10 / a\n",
        "except ZeroDivisionError:\n",
        "    pass\n",
        "'''\n",
        "\n",
        "stmt2 = '''\n",
        "if a != 0:\n",
        "    b = 10 / a\n",
        "'''\n",
        "\n",
        "print(\"time with Exception \\n\",timeit.timeit(stmt1,setup,number=10000))\n",
        "print(\"time with if \\n\",timeit.timeit(stmt2,setup,number=10000))"
      ],
      "metadata": {
        "colab": {
          "base_uri": "https://localhost:8080/"
        },
        "id": "Ipm_b_Whzg0q",
        "outputId": "2592e1f4-251e-46ed-fc43-2332c4f9beca"
      },
      "execution_count": null,
      "outputs": [
        {
          "output_type": "stream",
          "name": "stdout",
          "text": [
            "time with Exception \n",
            " 0.004722453999988829\n",
            "time with if \n",
            " 0.0005154149999953006\n"
          ]
        }
      ]
    },
    {
      "cell_type": "markdown",
      "source": [
        "# Логирование"
      ],
      "metadata": {
        "id": "dYc4bHKkuxLr"
      }
    },
    {
      "cell_type": "markdown",
      "source": [
        "Одна из вещей, которая ходит рядом с обработкой ошибок - это логирование, которое нужно, дабы следить за работой. Ведь если мы даже ошибку обработали, код работает, все славно, сам факт наличия ошибки может нас о чем-нибудь предупредить...\n",
        "\n",
        "Тем более, что в продовых системах вы не сделаете простой ```print()```.\n"
      ],
      "metadata": {
        "id": "c_vw0HTioO49"
      }
    },
    {
      "cell_type": "markdown",
      "source": [
        "Логи должны быть:\n",
        "\n",
        "1. Наглядными - позволяют разработчику быстро получать информацию о работе системы и обнаруживать потенциальные проблемы еще до того, как они станут серьезными.\n",
        "2. Контекстными - включают в себя не только запись логов в хронологическом порядке, но и анализ этих логов для выявления связей и зависимостей между событиями.\n",
        "3. Реактивными - фокусируется на событиях, которые приводят к возникновению определенного типа лога."
      ],
      "metadata": {
        "id": "qQBnX6e2pbgO"
      }
    },
    {
      "cell_type": "markdown",
      "source": [
        "## Уровни логгирования\n",
        "\n",
        "Логи также делются по уровням релевантности:\n",
        "\n",
        "Внутри бибилиотеки существует 5 уровней логирования (в скобочках - уровень критичности, чем выше - тем больше крит):\n",
        "\n",
        "* ```DEBUG``` (10) - отладка, когда происходит не совсем важное и  не нужно выдавать весь контекст информации.\n",
        "\n",
        "* ```INFO``` (20) - вывод данных, когда происходит что-то важное и нужно выдавать информацию\n",
        "\n",
        "* ```WARNING``` (30) - предупреждение (и дефолтный уровень логирования), когда произошло что-то странное, но не сломало операцию.\n",
        "\n",
        "* ```ERROR``` (40) - произошла какая-то ошибка, требуется устранить по-быстрее\n",
        "\n",
        "* ```CRITICAL``` (50) - случилось что-то оооочень плохое и требует немедленного вмешательства (даже в 5 утра воскресенья или в новый год)\n",
        "\n",
        "Каждый из них - это своя функция (по дефолту в консоли вы увидите только сообщения уровня ```WARNING``` и выше)"
      ],
      "metadata": {
        "id": "EP3c6FJf-pVG"
      }
    },
    {
      "cell_type": "markdown",
      "source": [
        "![kinopoisk_log.png](data:image/png;base64,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)"
      ],
      "metadata": {
        "id": "k0vJN-coAREy"
      }
    },
    {
      "cell_type": "markdown",
      "source": [
        "Различные этапы стоит логгировать по-разному. Например «Запрос в базу данных» стоит логгировать с уровнем ```ERROR```, так как это самый значимый этап в пути аутефикации юзера.\n",
        "\n",
        "Где:\n",
        "\n",
        "Серый - это ```DEBUG```;\n",
        "\n",
        "Голубой - это ```INFO```;\n",
        "\n",
        "Красный - это ```ERROR```;"
      ],
      "metadata": {
        "id": "tnnSQorJ-uTE"
      }
    },
    {
      "cell_type": "markdown",
      "source": [
        "## Инициализация логгера"
      ],
      "metadata": {
        "id": "sVdiLXaeGHDI"
      }
    },
    {
      "cell_type": "code",
      "source": [
        "import logging"
      ],
      "metadata": {
        "id": "tr0QeG_8u5wM"
      },
      "execution_count": null,
      "outputs": []
    },
    {
      "cell_type": "code",
      "source": [
        "logging.debug(\"Debugging\")\n",
        "logging.info(\"Information\")\n",
        "logging.warning(\"Warning\")\n",
        "logging.error(\"ERROR\")\n",
        "logging.critical(\"Wake up bitch, production is broken\")"
      ],
      "metadata": {
        "colab": {
          "base_uri": "https://localhost:8080/"
        },
        "id": "havL704kutZe",
        "outputId": "afe9214d-5d29-4c17-d8a9-eaa54de199db"
      },
      "execution_count": null,
      "outputs": [
        {
          "output_type": "stream",
          "name": "stderr",
          "text": [
            "WARNING:root:Warning\n",
            "ERROR:root:ERROR\n",
            "CRITICAL:root:Wake up bitch, production is broken\n"
          ]
        }
      ]
    },
    {
      "cell_type": "markdown",
      "source": [
        "Видим ```Уровень логгирования:какой-то root:сообщение```\n",
        "\n",
        "Что такое root?\n",
        "\n",
        "Это название логгера (по дефолту logger называется root)\n",
        "\n",
        "Итак, а теперь представим, что у нас большой проект. А это значит несколько модулей как минимум. Понятное дело, что иметь для них один логер - дело плохое, хочется иметь каждый для себя. Давайте создавать несколько подобных. Чтобы создать отдельный логер, используем getLogger(), который принимает в себя название логгера. По дефолту это root, можно назвать самостоятельно, но принято называть __ name __ (то есть по названию модуля). Если же сделать везде одинаково, то ничего понятно не будет...\n",
        "\n",
        "Что важно знать при создании собственного логера? А то, что в нем есть несколько частей:\n",
        "\n",
        "* Logger - сам логгер, который будет все делать (посылка сообщений)\n",
        "\n",
        "* Handler - часть логгера, которая отвечает за обработку посланных сообщений (что и куда)\n",
        "\n",
        "* Formatter - форматирование сообщения (как правильно вывести)\n",
        "\n",
        "* Filter - дополнительно можно фильтровать сообщения (что выводить, а что не выводить)\n",
        "\n",
        "Давайте на примере соберем:\n"
      ],
      "metadata": {
        "id": "Y8rVbiBvv9Q0"
      }
    },
    {
      "cell_type": "code",
      "source": [
        "logger = logging.getLogger(\"logger_name\")"
      ],
      "metadata": {
        "id": "qxkR3IKlv84E"
      },
      "execution_count": null,
      "outputs": []
    },
    {
      "cell_type": "code",
      "source": [
        "logger.debug(\"Debugging\")\n",
        "logger.info(\"Information\")\n",
        "logger.warning(\"Warning\")\n",
        "logger.error(\"ERROR\")\n",
        "logger.critical(\"Wake up bitch, production is broken\")"
      ],
      "metadata": {
        "colab": {
          "base_uri": "https://localhost:8080/"
        },
        "id": "Ihr_VWw5wJ-V",
        "outputId": "cbfe7e53-6e0e-4870-e13a-1cf065efdd7e"
      },
      "execution_count": null,
      "outputs": [
        {
          "output_type": "stream",
          "name": "stderr",
          "text": [
            "WARNING:logger_name:Warning\n",
            "ERROR:logger_name:ERROR\n",
            "CRITICAL:logger_name:Wake up bitch, production is broken\n"
          ]
        }
      ]
    },
    {
      "cell_type": "markdown",
      "source": [
        "В данном выводе мы можем увидеть:\n",
        "\n",
        "```Уровень логгирования:имя логгера:сообщение```\n",
        "\n",
        "И также мы можем увидеть, что не вывелись сообщения с первым и вторыми уровнями логгирования. Давайте исправим это:"
      ],
      "metadata": {
        "id": "pyp76Wfgw5KU"
      }
    },
    {
      "cell_type": "code",
      "source": [
        "logger.setLevel(logging.DEBUG) # поставить уровень, с которого мы что-либо логируем\n",
        "\n",
        "logger.debug(\"Debugging\")\n",
        "logger.info(\"Information\")\n",
        "logger.warning(\"Warning\")\n",
        "logger.error(\"ERROR\")\n",
        "logger.critical(\"Wake up bitch, production is broken\")"
      ],
      "metadata": {
        "colab": {
          "base_uri": "https://localhost:8080/"
        },
        "id": "D3TL0jLST-t2",
        "outputId": "88214ffd-1596-42e8-c3f6-5f10dd758148"
      },
      "execution_count": null,
      "outputs": [
        {
          "output_type": "stream",
          "name": "stderr",
          "text": [
            "DEBUG:logger_name:Debugging\n",
            "INFO:logger_name:Information\n",
            "WARNING:logger_name:Warning\n",
            "ERROR:logger_name:ERROR\n",
            "CRITICAL:logger_name:Wake up bitch, production is broken\n"
          ]
        }
      ]
    },
    {
      "cell_type": "markdown",
      "source": [
        "Задание имени логгеру - важная часть эффективного логгирования, так как это позволяет легче идентифицировать, отслеживать и анализировать записи в журналах. Вот несколько рекомендаций по заданию имени логгеру:\n",
        "\n",
        "1. **Используйте описательные имена**: Имя логгера должно быть описательным и четким. Оно должно отражать контекст или компонент приложения, который генерирует логи. Например, если у вас есть веб-приложение, вы можете назвать логгер \"web_app_logger\".\n",
        "\n",
        "2. **Соблюдайте структуру иерархии**: Если ваша система имеет иерархию компонентов, используйте иерархическую структуру для именования логгеров. Например, \"web_app_logger.database\" для логирования действий, связанных с базой данных внутри вашего веб-приложения.\n",
        "\n",
        "4. **Избегайте избыточной сложности**: Не создавайте слишком длинные и сложные имена логгеров. Имя логгера должно быть информативным, но не избыточным.\n",
        "\n",
        "5. **Учитывайте контекст и цель логирования**: Имя логгера должно отражать контекст, в котором происходит логирование, и цель, с которой это происходит. Например, если логируются операции с оплатой, то имя логгера может быть связано с оплатой, например, \"payment_logger\".\n",
        "\n",
        "6. **Используйте согласованный подход**: Важно, чтобы в вашем проекте использовался согласованный подход к именованию логгеров, чтобы все разработчики следовали одним и тем же правилам.\n",
        "\n",
        "Примеры хороших имен логгеров могут быть:\n",
        "\n",
        "    \"main_app_logger\" для основного логгера приложения.\n",
        "    \"authentication_logger\" для логгера, отвечающего за аутентификацию.\n",
        "    \"order_processing_logger\" для логгера, связанного с обработкой заказов в интернет-магазине.\n",
        "\n",
        "Избегайте неинформативных имен типа \"Logger1\" или \"LoggerA\", так как они могут затруднить понимание, какие события логируются в журналах.\n"
      ],
      "metadata": {
        "id": "eM1pPRMhBVQx"
      }
    },
    {
      "cell_type": "markdown",
      "source": [
        "Давайте соединим наш обработчик исключений с логгером:"
      ],
      "metadata": {
        "id": "KmZ0bKkhOUp0"
      }
    },
    {
      "cell_type": "code",
      "source": [
        "try:\n",
        "    n = int(input(\"Please enter an integer: \"))\n",
        "    res = 1 / n\n",
        "    logger.info(f\"Successful call: {n}, the result is {res}\")\n",
        "except (ZeroDivisionError, ValueError) as e:\n",
        "    logger.error(e, exc_info=True) # Последнее - вывести сообщение из консоли, которое мы получаем\n",
        "    logger.exception(e) # Можно вот так еще\n",
        "finally:\n",
        "    logger.info(\"Programm is ended\")"
      ],
      "metadata": {
        "colab": {
          "base_uri": "https://localhost:8080/"
        },
        "id": "g-wUx_HaTlhp",
        "outputId": "dd58299a-2916-4bb9-859d-0e5b935c9da7"
      },
      "execution_count": null,
      "outputs": [
        {
          "name": "stdout",
          "output_type": "stream",
          "text": [
            "Please enter an integer: 1\n"
          ]
        },
        {
          "output_type": "stream",
          "name": "stderr",
          "text": [
            "INFO:logger_name:Successful call: 1, the result is 1.0\n",
            "INFO:logger_name:Programm is ended\n"
          ]
        }
      ]
    },
    {
      "cell_type": "markdown",
      "source": [
        "## Handler"
      ],
      "metadata": {
        "id": "_vBWOW0RGNcM"
      }
    },
    {
      "cell_type": "markdown",
      "source": [
        "Handler – это специальный модуль, который управляет  выводом или сохранением логов в различные места, такие как консоль, файлы, удаленные серверы и другие места назначения. Он определяет, какие сообщения логгировать, в каком формате и куда отправлять.\n",
        "\n",
        "Наиболее часто используемые [хендлеры](https://docs.python.org/3/library/logging.handlers.html):\n",
        "\n",
        "1. **StreamHandler**: Этот хендлер выводит логи в поток, обычно в стандартный вывод (stdout) или стандартный поток ошибок (stderr). Это полезно для вывода логов на консоль.\n",
        "\n",
        "2. **FileHandler**: Этот хендлер записывает логи в файл. Вы можете указать имя файла, куда следует записывать логи, и его формат.\n",
        "\n",
        "3. **RotatingFileHandler**: Этот хендлер записывает логи в файл, но также обеспечивает ротацию лог-файлов, чтобы предотвратить переполнение диска. Вы можете указать максимальный размер файла и количество ротированных файлов.\n",
        "\n",
        "4. **TimedRotatingFileHandler**: Этот хендлер аналогичен RotatingFileHandler, но ротация происходит на основе времени, а не размера файла.\n",
        "\n",
        "5. **SocketHandler**: Этот хендлер отправляет логи по сети на удаленный сервер, где они могут быть централизованно сохранены и анализированы.\n",
        "\n",
        "6. **SMTPHandler**: Этот хендлер отправляет логи через электронную почту на заданный адрес, что может быть полезно для мониторинга и оповещения об ошибках.\n",
        "\n",
        "7. **NullHandler**: Этот хендлер не выполняет никаких действий и используется для подавления логирования в случае, когда вы хотите отключить логирование в определенном контексте.\n"
      ],
      "metadata": {
        "id": "pxMJpBiPGP4K"
      }
    },
    {
      "cell_type": "markdown",
      "source": [
        "Давайте инициализируем наш Handler и добавим его в наш предыдущий код:"
      ],
      "metadata": {
        "id": "-4DtkBPyPW5k"
      }
    },
    {
      "cell_type": "code",
      "source": [
        "!ls # Проверяем, есть ли логи"
      ],
      "metadata": {
        "colab": {
          "base_uri": "https://localhost:8080/"
        },
        "id": "rZ21cnVAP-g8",
        "outputId": "564a795e-bd95-4c2a-ca71-a73b9d7187be"
      },
      "execution_count": null,
      "outputs": [
        {
          "output_type": "stream",
          "name": "stdout",
          "text": [
            "sample_data\n"
          ]
        }
      ]
    },
    {
      "cell_type": "code",
      "source": [
        "handler_for_exceptions = logging.FileHandler(f\"{__name__}.log\", mode='w') # Инициализация handler'a\n",
        "logger.addHandler(handler_for_exceptions) # добавление handler'a в логгер\n",
        "\n",
        "try:\n",
        "    n = int(input(\"Please enter an integer: \"))\n",
        "    res = 1 / n\n",
        "    logger.info(f\"Successful call: {n}, the result is {res}\")\n",
        "except (ZeroDivisionError, ValueError) as e:\n",
        "    logger.error(e, exc_info=True) # Последнее - вывести сообщение из консоли, которое мы получаем\n",
        "    logger.exception(e) # Можно вот так еще\n",
        "finally:\n",
        "    logger.info(\"Programm is ended\")"
      ],
      "metadata": {
        "colab": {
          "base_uri": "https://localhost:8080/"
        },
        "id": "sIXxEboZPeL9",
        "outputId": "81272446-e95a-4349-e56a-aa38f2ccbbb0"
      },
      "execution_count": null,
      "outputs": [
        {
          "name": "stdout",
          "output_type": "stream",
          "text": [
            "Please enter an integer: 0\n"
          ]
        },
        {
          "output_type": "stream",
          "name": "stderr",
          "text": [
            "ERROR:logger_name:division by zero\n",
            "Traceback (most recent call last):\n",
            "  File \"<ipython-input-64-a132791c9600>\", line 6, in <cell line: 4>\n",
            "    res = 1 / n\n",
            "ZeroDivisionError: division by zero\n",
            "ERROR:logger_name:division by zero\n",
            "Traceback (most recent call last):\n",
            "  File \"<ipython-input-64-a132791c9600>\", line 6, in <cell line: 4>\n",
            "    res = 1 / n\n",
            "ZeroDivisionError: division by zero\n",
            "INFO:logger_name:Programm is ended\n"
          ]
        }
      ]
    },
    {
      "cell_type": "code",
      "source": [
        "!ls"
      ],
      "metadata": {
        "colab": {
          "base_uri": "https://localhost:8080/"
        },
        "id": "y6Vyd1QOP4Hj",
        "outputId": "f16e08bd-293c-43a2-c598-15504b7e8b74"
      },
      "execution_count": null,
      "outputs": [
        {
          "output_type": "stream",
          "name": "stdout",
          "text": [
            "__main__.log  sample_data\n"
          ]
        }
      ]
    },
    {
      "cell_type": "markdown",
      "source": [
        "## Formatter"
      ],
      "metadata": {
        "id": "PxIQ6d2uHvy3"
      }
    },
    {
      "cell_type": "markdown",
      "source": [
        "**Formatter** - это специальный модуль, который определяет формат, в котором будут представлены лог-сообщения в логах. Форматтер позволяет настроить, какие части информации будут включены в каждое лог-сообщение, а также как они будут отформатированы. Форматтеры определяют, каким образом информация будет представлена в журнале, чтобы облегчить чтение и анализ логов.\n",
        "\n",
        "Наиболее часто встречаемые форматтеры:\n",
        "\n",
        "1. **LogRecord**: Это базовый форматтер, который отформатирует лог-сообщение в виде строки, включая информацию, такую как уровень логирования, имя логгера, время записи и текст сообщения.\n",
        "\n",
        "2. **SimpleFormatter**: Этот форматтер предоставляет простой и легко читаемый формат сообщений, включая уровень логирования и текст сообщения.\n",
        "\n",
        "3. **Formatter**: Это кастомизируемый форматтер, который позволяет вам определять собственные шаблоны форматирования. Вы можете указать, какие атрибуты записи (LogRecord) должны быть включены в лог-сообщение и в каком формате."
      ],
      "metadata": {
        "id": "gQW7srScGPw4"
      }
    },
    {
      "cell_type": "code",
      "source": [
        "handler_for_exceptions = logging.FileHandler(f\"{__name__}.log\", mode='w') # Инициализация handler'a\n",
        "handler_for_exceptions.setFormatter(logging.Formatter(fmt=\"%(asctime)s %(name)s %(levelname)s %(message)s\")) # форматирование, https://docs.python.org/3/library/logging.html#logrecord-attributes\n",
        "logger.addHandler(handler_for_exceptions) # добавление handler'a в логгер\n",
        "\n",
        "try:\n",
        "    n = int(input(\"Please enter an integer: \"))\n",
        "    res = 1 / n\n",
        "    logger.info(f\"Successful call: {n}, the result is {res}\")\n",
        "except (ZeroDivisionError, ValueError) as e:\n",
        "    logger.error(e, exc_info=True) # Последнее - вывести сообщение из консоли, которое мы получаем\n",
        "    logger.exception(e) # Можно вот так еще\n",
        "finally:\n",
        "    logger.info(\"Programm is ended\")"
      ],
      "metadata": {
        "colab": {
          "base_uri": "https://localhost:8080/"
        },
        "id": "xwlAFZN3S3y6",
        "outputId": "4c8c6a07-7a51-485c-b4ee-2325a1107c40"
      },
      "execution_count": null,
      "outputs": [
        {
          "name": "stdout",
          "output_type": "stream",
          "text": [
            "Please enter an integer: 1\n"
          ]
        },
        {
          "output_type": "stream",
          "name": "stderr",
          "text": [
            "INFO:logger_name:Successful call: 1, the result is 1.0\n",
            "INFO:logger_name:Programm is ended\n"
          ]
        }
      ]
    },
    {
      "cell_type": "markdown",
      "source": [
        "## Filter"
      ],
      "metadata": {
        "id": "amDa_ktrHzbO"
      }
    },
    {
      "cell_type": "markdown",
      "source": [
        "Filter - это специальный механизм, который позволяет определять условия, при которых логгер будет регистрировать (логировать) события. Фильтры позволяют отбирать логируемые события на основе определенных критериев, что может быть полезным, если вам необходимо выбирать, какие события должны попадать в журнал, а какие нет.\n",
        "\n",
        "Фильтры могут быть присоединены к логгерам или хендлерам и могут проверять различные атрибуты записи (LogRecord), такие как уровень логирования, имя логгера, сообщение и другие. Если фильтр удовлетворяет заданным условиям, событие будет зарегистрировано, иначе оно будет проигнорировано."
      ],
      "metadata": {
        "id": "7JL9O6-lH0ZZ"
      }
    },
    {
      "cell_type": "markdown",
      "source": [
        "Давайте создадим наш фильтр:"
      ],
      "metadata": {
        "id": "-StjmR9fUlfT"
      }
    },
    {
      "cell_type": "code",
      "source": [
        "# Генерация лог-сообщений\n",
        "logger.debug(\"Debugging\")\n",
        "logger.info(\"Information\")\n",
        "logger.warning(\"Warning\")\n",
        "logger.error(\"ERROR\")\n",
        "logger.critical(\"Wake up bitch, production is broken\")"
      ],
      "metadata": {
        "colab": {
          "base_uri": "https://localhost:8080/"
        },
        "id": "HBCo6MwQVQB4",
        "outputId": "b85a2a0e-e60c-48c7-b965-5bc69f49f074"
      },
      "execution_count": null,
      "outputs": [
        {
          "output_type": "stream",
          "name": "stderr",
          "text": [
            "DEBUG:logger_name:Debugging\n",
            "INFO:logger_name:Information\n",
            "WARNING:logger_name:Warning\n",
            "ERROR:logger_name:ERROR\n",
            "CRITICAL:logger_name:Wake up bitch, production is broken\n"
          ]
        }
      ]
    },
    {
      "cell_type": "code",
      "source": [
        "# Создание фильтра, который разрешает логгирование только предупреждений и ошибок\n",
        "class WarningErrorFilter(logging.Filter):\n",
        "    def filter(self, record):\n",
        "        return record.levelno >= logging.WARNING"
      ],
      "metadata": {
        "id": "B4U6togYVGYc"
      },
      "execution_count": null,
      "outputs": []
    },
    {
      "cell_type": "code",
      "source": [
        "logger.addFilter(WarningErrorFilter())\n",
        "\n",
        "# Генерация лог-сообщений c фильтром\n",
        "logger.debug(\"Это отладочное сообщение (не будет залогировано)\")\n",
        "logger.info(\"Это информационное сообщение (не будет залогировано)\")\n",
        "logger.warning(\"Это предупреждение (будет залогировано)\")\n",
        "logger.error(\"Это сообщение об ошибке (будет залогировано)\")\n",
        "logger.error(\"Это сообщение о критической ошибке (будет залогировано)\")"
      ],
      "metadata": {
        "colab": {
          "base_uri": "https://localhost:8080/"
        },
        "id": "JbcKfE_zVJiy",
        "outputId": "84b7c7c7-9558-429d-fc70-ac74f648c5aa"
      },
      "execution_count": null,
      "outputs": [
        {
          "output_type": "stream",
          "name": "stderr",
          "text": [
            "WARNING:logger_name:Это предупреждение (будет залогировано)\n",
            "ERROR:logger_name:Это сообщение об ошибке (будет залогировано)\n",
            "ERROR:logger_name:Это сообщение о критической ошибке (будет залогировано)\n"
          ]
        }
      ]
    },
    {
      "cell_type": "markdown",
      "source": [
        "Что у нас получается? Нужно создавать везде такие логеры, дальше их помнить и с ними работать... Не совсем\n",
        "\n",
        "Можно и так обойтись, а можно и сделать более извращенно, ведь логгер можно создавать с помощью словаря, сохранить его отдельно в какой-нибудь файле (типа settings) и вытащить оттуда!\n",
        "\n",
        "Рассмотрим вот эту махину:"
      ],
      "metadata": {
        "id": "GYq2hK1neiKo"
      }
    },
    {
      "cell_type": "markdown",
      "source": [
        "\n",
        "```\n",
        "LOGGING_CONFIG = {\n",
        "    'version': 1,\n",
        "    'disable_existing_loggers': False,\n",
        "\n",
        "    'formatters': {\n",
        "        'default_formatter': {\n",
        "            'format': '%(asctime)s %(name)s %(levelname)s %(message)s'\n",
        "        },\n",
        "    },\n",
        "\n",
        "    'handlers': {\n",
        "        'file_handler': {\n",
        "            'class': 'logging.FileHandler',\n",
        "            'formatter': 'default_formatter',\n",
        "            'filename': 'py_log.log',\n",
        "            'mode': 'w'\n",
        "        },\n",
        "    },\n",
        "\n",
        "    'loggers': {\n",
        "        'main': {\n",
        "            'handlers': ['file_handler'],\n",
        "            'level': 'INFO',\n",
        "            'propagate': True\n",
        "        },\n",
        "        'division': {\n",
        "            'handlers': ['file_handler'],\n",
        "            'level': 'INFO',\n",
        "            'propagate': True\n",
        "        },\n",
        "    }\n",
        "}\n",
        "```"
      ],
      "metadata": {
        "id": "7gQTXGuKekxv"
      }
    },
    {
      "cell_type": "markdown",
      "source": [
        "А далее в любой ситуации можно сделать вот так:"
      ],
      "metadata": {
        "id": "mPaE_XDxe7Kq"
      }
    },
    {
      "cell_type": "code",
      "source": [
        "loggging.config.dictConfig(LOGGING_CONFIG)\n",
        "logger = logging.getLogger('main')"
      ],
      "metadata": {
        "id": "8AF0Lw1Ce-sP"
      },
      "execution_count": null,
      "outputs": []
    },
    {
      "cell_type": "markdown",
      "source": [
        "# Тестирование"
      ],
      "metadata": {
        "id": "WsaUe0IAuvJv"
      }
    },
    {
      "cell_type": "markdown",
      "source": [
        "## Зачем нужно тестировать код?"
      ],
      "metadata": {
        "id": "JvwAqk6-WTZh"
      }
    },
    {
      "cell_type": "markdown",
      "source": [
        "К сожалению или к счастью, тестирование является важной частью промышленной разработки и обеспечения итогового качества:\n",
        "\n",
        "1. **Выявление ошибок и дефектов**: Основная цель тестирования - обнаружение ошибок и дефектов в программном обеспечении. Это позволяет разРАБам обнаружить и устранить проблемы до того, как они могут повлиять на конечных пользователей.\n",
        "\n",
        "2. **Повышение надежности**: Тестирование помогает убедиться, что программное обеспечение работает надежно и стабильно в различных условиях. Надежность важна, особенно в критических приложениях, таких как медицинская аппаратура и авионика.\n",
        "\n",
        "3. **Оценка нагрузки**: Тестирование нагрузки позволяет оценить, как хорошо программное обеспечение работает в различных условиях нагрузки. Это важно, особенно для веб-приложений и систем, работающих с большими объемами данных.\n",
        "\n",
        "4. **Поддержка изменений и обновлений**: При внесении изменений в существующее программное обеспечение тестирование помогает убедиться, что новые версии не нарушают работу существующих функций.\n",
        "\n",
        "5. **Экономия времени и ресурсов:** Вовремя обнаруженные и исправленные ошибки обходятся дешевле, чем исправление ошибок, найденных в продакшене или после выпуска продукта."
      ],
      "metadata": {
        "id": "fcNnMu3yWXSN"
      }
    },
    {
      "cell_type": "markdown",
      "source": [
        "## Test Driven Development"
      ],
      "metadata": {
        "id": "TRYEnZXzXo3O"
      }
    },
    {
      "cell_type": "markdown",
      "source": [
        "Test-Driven Development (TDD) - это методология разработки программного обеспечения, которая подразумевает создание тестов перед написанием собственного кода. Процесс TDD описывается тремя основными шагами: \"***Red-Green-Refactor***\".\n",
        "\n",
        "\n",
        "1. **Red**: На этом этапе начинают с создания теста, который проверяет новую функциональность или модификацию существующей. Тест пишется так, как если бы функциональность уже существовала, но по факту она ещё не реализована. В результате этого этапа тест будет \"провален\" (красный), так как ожидаемое поведение ещё не реализовано в коде.\n",
        "\n",
        "2. **Green**: На этом этапе разработчик создаёт минимальный необходимый код, чтобы сделать тест \"проходящим\" (зеленый). Цель - сделать так, чтобы тест успешно выполнялся, подтверждая, что функциональность теперь работает правильно.\n",
        "\n",
        "3. **Refactor**: После того как тест становится \"зеленым,\" можно приступить к улучшению кода. Рефакторинг включает в себя оптимизацию, улучшение читаемости кода, устранение дублирования и т.д. Важно при этом сохранить зеленый статус теста, чтобы убедиться, что изменения не нарушили работу функциональности.\n"
      ],
      "metadata": {
        "id": "3Pap2LtKXwiW"
      }
    },
    {
      "cell_type": "markdown",
      "source": [
        "**Главные преимущества TDD!!!!!!!**:\n",
        "\n",
        "1. **Более надежный код**: Поскольку каждая часть функциональности имеет соответствующий тест, ошибка обнаруживается раньше и легче исправляется.\n",
        "\n",
        "2. **Документация кода**: Тесты служат в качестве спецификации для кода, описывая ожидаемое поведение.\n",
        "\n",
        "3. **Способствует разделению кода на мелкие модули**: TDD способствует созданию хорошей архитектуры, так как код разбивается на маленькие, тестируемые модули.\n",
        "\n",
        "4. **Облегчение рефакторинга**: После TDD рефакторинг можно проводить с уверенностью, что функциональность не нарушится.\n",
        "\n",
        "5. **Сокращение времени на отладку и исправление ошибок**: Большинство ошибок обнаруживаются и исправляются на этапе разработки, что сокращает затраты на отладку.\n",
        "\n",
        "6. **Быстрое реагирование на изменения**: TDD позволяет легко внедрять изменения в код, так как у вас уже есть тесты, которые проверяют работу функциональности."
      ],
      "metadata": {
        "id": "OXZEFJYZX19v"
      }
    },
    {
      "cell_type": "markdown",
      "source": [
        "## Животное дня"
      ],
      "metadata": {
        "id": "3wChAx32dV0R"
      }
    },
    {
      "cell_type": "markdown",
      "source": [
        "![](https://upload.wikimedia.org/wikipedia/commons/thumb/1/1e/Ambystoma_mexicanum_%286337857516%29.jpg/1920px-Ambystoma_mexicanum_%286337857516%29.jpg)"
      ],
      "metadata": {
        "id": "-pMxQzn7eaD0"
      }
    },
    {
      "cell_type": "markdown",
      "source": [
        "Сегодня у нас известное всем животное - амбистома (и аксолотль)\n",
        "\n",
        "В чем разница? Аксолотль - это амбистомы до тех пор, пока они не станут взрослыми (то есть это лишь этап). Половозрелые амбистомы выглядят вот так:"
      ],
      "metadata": {
        "id": "tGO2MZSNec7J"
      }
    },
    {
      "cell_type": "markdown",
      "source": [
        "![](https://upload.wikimedia.org/wikipedia/commons/0/00/Axolotl_ganz.jpg)"
      ],
      "metadata": {
        "id": "fRoncUujftA4"
      }
    },
    {
      "cell_type": "markdown",
      "source": [
        "Аксолотль не может самостоятельно стать взрослой, потому что для взросления ей необходим тироксин, которые они сами вообще не вырабатывают (то есть взрослыми они становятся за счет внешних причин, например, засухи)\n",
        "\n",
        "И для амбистом оставаться аксолотлем, видимо, максимально выгодно!\n",
        "\n",
        "Аксолотли обладают фантастической способоностью к регенерации - они даже могут мозг регенирировать (не все части, но все-таки), не оставляя на себе никаких шрамов. Поэтому ученые их используют для изучения как идеальную модель\n",
        "\n",
        "Но к сожалению они вымирают, потому что раньше ацтеки их ели, а потом пришли конкистадоры, естественно, испортили их среду обитания, да и сейчас ситуация еще хуже (из-за загрязнения воды в Мексике)\n"
      ],
      "metadata": {
        "id": "3g_BggGDfvn0"
      }
    }
  ]
}