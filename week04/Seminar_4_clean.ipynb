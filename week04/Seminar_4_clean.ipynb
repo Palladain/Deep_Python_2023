{
  "nbformat": 4,
  "nbformat_minor": 0,
  "metadata": {
    "colab": {
      "provenance": []
    },
    "kernelspec": {
      "name": "python3",
      "display_name": "Python 3"
    },
    "language_info": {
      "name": "python"
    }
  },
  "cells": [
    {
      "cell_type": "markdown",
      "source": [
        "# Продвинутый Python, семинар 4\n",
        "\n",
        "**Лектор:** Петров Тимур\n",
        "\n",
        "**Семинаристы:** Петров Тимур, Коган Александра, Романченко Полина\n",
        "\n",
        "**Spoiler Alert:** в рамках курса нельзя изучить ни одну из тем от и до досконально (к сожалению, на это требуется больше времени, чем даже 3 часа в неделю). Но мы попробуем рассказать столько, сколько возможно :)"
      ],
      "metadata": {
        "id": "D6mhI6hCOXyr"
      }
    },
    {
      "cell_type": "markdown",
      "source": [
        "## Что сегодня делаем?"
      ],
      "metadata": {
        "id": "0QlNKK-mO86D"
      }
    },
    {
      "cell_type": "markdown",
      "source": [
        "Продолжаем мучить данные с TFT. Давайте теперь исследовать наши данные с помощью визуализации!\n",
        "\n",
        "И как мы говорили, здесь попробуем применить все силы seaborn, чтобы было красиво"
      ],
      "metadata": {
        "id": "dPIX3IMqOmer"
      }
    },
    {
      "cell_type": "code",
      "execution_count": null,
      "metadata": {
        "id": "DV-c7lHqOQt5"
      },
      "outputs": [],
      "source": [
        "import pandas as pd\n",
        "import numpy as np\n",
        "\n",
        "import matplotlib.pyplot as plt\n",
        "import seaborn as sns\n",
        "from dateutil.parser import parse"
      ]
    },
    {
      "cell_type": "markdown",
      "source": [
        "## А теперь к нашим баранам"
      ],
      "metadata": {
        "id": "dd9kHj82TKCD"
      }
    },
    {
      "cell_type": "markdown",
      "source": [
        "Загрузим данные, заведем нужные нам столбцы"
      ],
      "metadata": {
        "id": "cTrc7Dn7UOCF"
      }
    },
    {
      "cell_type": "code",
      "source": [
        "!wget https://github.com/Palladain/Deep_Python/raw/main/Seminars/Seminar_2/archive.zip"
      ],
      "metadata": {
        "colab": {
          "base_uri": "https://localhost:8080/"
        },
        "id": "KCuNEOszTN-y",
        "outputId": "8b298f26-33e2-41aa-fe95-1203a9421421"
      },
      "execution_count": null,
      "outputs": [
        {
          "output_type": "stream",
          "name": "stdout",
          "text": [
            "--2023-10-02 19:55:19--  https://github.com/Palladain/Deep_Python/raw/main/Seminars/Seminar_2/archive.zip\n",
            "Resolving github.com (github.com)... 192.30.255.113\n",
            "Connecting to github.com (github.com)|192.30.255.113|:443... connected.\n",
            "HTTP request sent, awaiting response... 302 Found\n",
            "Location: https://raw.githubusercontent.com/Palladain/Deep_Python/main/Seminars/Seminar_2/archive.zip [following]\n",
            "--2023-10-02 19:55:19--  https://raw.githubusercontent.com/Palladain/Deep_Python/main/Seminars/Seminar_2/archive.zip\n",
            "Resolving raw.githubusercontent.com (raw.githubusercontent.com)... 185.199.110.133, 185.199.111.133, 185.199.109.133, ...\n",
            "Connecting to raw.githubusercontent.com (raw.githubusercontent.com)|185.199.110.133|:443... connected.\n",
            "HTTP request sent, awaiting response... 200 OK\n",
            "Length: 694969 (679K) [application/zip]\n",
            "Saving to: ‘archive.zip’\n",
            "\n",
            "archive.zip         100%[===================>] 678.68K  --.-KB/s    in 0.03s   \n",
            "\n",
            "2023-10-02 19:55:20 (21.3 MB/s) - ‘archive.zip’ saved [694969/694969]\n",
            "\n"
          ]
        }
      ]
    },
    {
      "cell_type": "code",
      "source": [
        "!unzip archive.zip"
      ],
      "metadata": {
        "colab": {
          "base_uri": "https://localhost:8080/"
        },
        "id": "gNgSKw1VTWPW",
        "outputId": "52bcfd14-38cb-4809-870d-0fca5e389745"
      },
      "execution_count": null,
      "outputs": [
        {
          "output_type": "stream",
          "name": "stdout",
          "text": [
            "Archive:  archive.zip\n",
            "  inflating: items.json              \n",
            "  inflating: tft_3.5_last_500_gm_match_info.csv  \n",
            "  inflating: tft_3.5_last_500_gm_unit_info.csv  \n",
            "  inflating: traits.json             \n"
          ]
        }
      ]
    },
    {
      "cell_type": "code",
      "source": [
        "heroes = pd.read_csv('tft_3.5_last_500_gm_unit_info.csv')"
      ],
      "metadata": {
        "id": "eg4quZd8uXbF"
      },
      "execution_count": null,
      "outputs": []
    },
    {
      "cell_type": "code",
      "source": [
        "matches = pd.read_csv(\"tft_3.5_last_500_gm_match_info.csv\")\n",
        "matches[\"winner\"] = (matches.placement <= 4).astype(\"int\")\n",
        "matches.game_datetime = matches.game_datetime.apply(lambda x: parse(x))\n",
        "matches['hour'] = matches.game_datetime.apply(lambda x: x.hour)\n",
        "matches['day'] = matches.game_datetime.apply(lambda x: x.day)\n",
        "matches = matches.rename(lambda x: x.replace(\"Set3_\", \"\"), axis='columns')"
      ],
      "metadata": {
        "id": "jhUPFjs5TaIQ"
      },
      "execution_count": null,
      "outputs": []
    },
    {
      "cell_type": "code",
      "source": [
        "matches.head()"
      ],
      "metadata": {
        "colab": {
          "base_uri": "https://localhost:8080/",
          "height": 342
        },
        "id": "RRPiTrYyUVlw",
        "outputId": "dc61f8df-848d-4e23-e8b3-94e54788df2d"
      },
      "execution_count": null,
      "outputs": [
        {
          "output_type": "execute_result",
          "data": {
            "text/plain": [
              "         match_id                                              puuid  \\\n",
              "0  NA1_3569517250  7AKHCtexkJJo8p04lg4shtx7n7R-uH6pQwPhBCEofkIJca...   \n",
              "1  NA1_3569517250  0StQeXmDacsAikvEcY2ubarDZqzlEsaYsZHO6UT-UgBFY7...   \n",
              "2  NA1_3569517250  Y0emdKI096n9-Rb0L4_I4pP_tmn_kwCtKiEjIsBRrxRqX_...   \n",
              "3  NA1_3569517250  1vCCOdxLrdYa6NQRhywKKdZ0UNdX0nsa15Zpqo03k6QFs6...   \n",
              "4  NA1_3569517250  mC0hMfKYhejc1U1aJE7iTOTn6TUDkY4apfQhdw2Pvp_jV3...   \n",
              "\n",
              "   challenger          galaxy  placement       game_datetime  Astro  Chrono  \\\n",
              "0           0  Treasure Trove          1 2020-09-10 05:18:02      0       0   \n",
              "1           0  Treasure Trove          2 2020-09-10 05:18:02      0       0   \n",
              "2           1  Treasure Trove          3 2020-09-10 05:18:02      0       1   \n",
              "3           1  Treasure Trove          4 2020-09-10 05:18:02      0       0   \n",
              "4           0  Treasure Trove          5 2020-09-10 05:18:02      0       0   \n",
              "\n",
              "   DarkStar  Set3_Celestial  ...  Set3_Blademaster  Paragon  Protector  \\\n",
              "0         3               2  ...                 0        0          1   \n",
              "1         0               0  ...                 0        1          1   \n",
              "2         0               0  ...                 0        0          0   \n",
              "3         1               0  ...                 0        1          1   \n",
              "4         0               1  ...                 0        1          1   \n",
              "\n",
              "   Set3_Sorcerer  StarGuardian  MechPilot  SpacePirate  winner  hour  day  \n",
              "0              0             0          0            0       1     5   10  \n",
              "1              2             2          0            0       1     5   10  \n",
              "2              0             0          0            0       1     5   10  \n",
              "3              2             1          0            0       1     5   10  \n",
              "4              0             0          0            0       0     5   10  \n",
              "\n",
              "[5 rows x 33 columns]"
            ],
            "text/html": [
              "\n",
              "  <div id=\"df-ea4ea590-81fa-4ea6-a3dd-14465c4c9e25\" class=\"colab-df-container\">\n",
              "    <div>\n",
              "<style scoped>\n",
              "    .dataframe tbody tr th:only-of-type {\n",
              "        vertical-align: middle;\n",
              "    }\n",
              "\n",
              "    .dataframe tbody tr th {\n",
              "        vertical-align: top;\n",
              "    }\n",
              "\n",
              "    .dataframe thead th {\n",
              "        text-align: right;\n",
              "    }\n",
              "</style>\n",
              "<table border=\"1\" class=\"dataframe\">\n",
              "  <thead>\n",
              "    <tr style=\"text-align: right;\">\n",
              "      <th></th>\n",
              "      <th>match_id</th>\n",
              "      <th>puuid</th>\n",
              "      <th>challenger</th>\n",
              "      <th>galaxy</th>\n",
              "      <th>placement</th>\n",
              "      <th>game_datetime</th>\n",
              "      <th>Astro</th>\n",
              "      <th>Chrono</th>\n",
              "      <th>DarkStar</th>\n",
              "      <th>Set3_Celestial</th>\n",
              "      <th>...</th>\n",
              "      <th>Set3_Blademaster</th>\n",
              "      <th>Paragon</th>\n",
              "      <th>Protector</th>\n",
              "      <th>Set3_Sorcerer</th>\n",
              "      <th>StarGuardian</th>\n",
              "      <th>MechPilot</th>\n",
              "      <th>SpacePirate</th>\n",
              "      <th>winner</th>\n",
              "      <th>hour</th>\n",
              "      <th>day</th>\n",
              "    </tr>\n",
              "  </thead>\n",
              "  <tbody>\n",
              "    <tr>\n",
              "      <th>0</th>\n",
              "      <td>NA1_3569517250</td>\n",
              "      <td>7AKHCtexkJJo8p04lg4shtx7n7R-uH6pQwPhBCEofkIJca...</td>\n",
              "      <td>0</td>\n",
              "      <td>Treasure Trove</td>\n",
              "      <td>1</td>\n",
              "      <td>2020-09-10 05:18:02</td>\n",
              "      <td>0</td>\n",
              "      <td>0</td>\n",
              "      <td>3</td>\n",
              "      <td>2</td>\n",
              "      <td>...</td>\n",
              "      <td>0</td>\n",
              "      <td>0</td>\n",
              "      <td>1</td>\n",
              "      <td>0</td>\n",
              "      <td>0</td>\n",
              "      <td>0</td>\n",
              "      <td>0</td>\n",
              "      <td>1</td>\n",
              "      <td>5</td>\n",
              "      <td>10</td>\n",
              "    </tr>\n",
              "    <tr>\n",
              "      <th>1</th>\n",
              "      <td>NA1_3569517250</td>\n",
              "      <td>0StQeXmDacsAikvEcY2ubarDZqzlEsaYsZHO6UT-UgBFY7...</td>\n",
              "      <td>0</td>\n",
              "      <td>Treasure Trove</td>\n",
              "      <td>2</td>\n",
              "      <td>2020-09-10 05:18:02</td>\n",
              "      <td>0</td>\n",
              "      <td>0</td>\n",
              "      <td>0</td>\n",
              "      <td>0</td>\n",
              "      <td>...</td>\n",
              "      <td>0</td>\n",
              "      <td>1</td>\n",
              "      <td>1</td>\n",
              "      <td>2</td>\n",
              "      <td>2</td>\n",
              "      <td>0</td>\n",
              "      <td>0</td>\n",
              "      <td>1</td>\n",
              "      <td>5</td>\n",
              "      <td>10</td>\n",
              "    </tr>\n",
              "    <tr>\n",
              "      <th>2</th>\n",
              "      <td>NA1_3569517250</td>\n",
              "      <td>Y0emdKI096n9-Rb0L4_I4pP_tmn_kwCtKiEjIsBRrxRqX_...</td>\n",
              "      <td>1</td>\n",
              "      <td>Treasure Trove</td>\n",
              "      <td>3</td>\n",
              "      <td>2020-09-10 05:18:02</td>\n",
              "      <td>0</td>\n",
              "      <td>1</td>\n",
              "      <td>0</td>\n",
              "      <td>0</td>\n",
              "      <td>...</td>\n",
              "      <td>0</td>\n",
              "      <td>0</td>\n",
              "      <td>0</td>\n",
              "      <td>0</td>\n",
              "      <td>0</td>\n",
              "      <td>0</td>\n",
              "      <td>0</td>\n",
              "      <td>1</td>\n",
              "      <td>5</td>\n",
              "      <td>10</td>\n",
              "    </tr>\n",
              "    <tr>\n",
              "      <th>3</th>\n",
              "      <td>NA1_3569517250</td>\n",
              "      <td>1vCCOdxLrdYa6NQRhywKKdZ0UNdX0nsa15Zpqo03k6QFs6...</td>\n",
              "      <td>1</td>\n",
              "      <td>Treasure Trove</td>\n",
              "      <td>4</td>\n",
              "      <td>2020-09-10 05:18:02</td>\n",
              "      <td>0</td>\n",
              "      <td>0</td>\n",
              "      <td>1</td>\n",
              "      <td>0</td>\n",
              "      <td>...</td>\n",
              "      <td>0</td>\n",
              "      <td>1</td>\n",
              "      <td>1</td>\n",
              "      <td>2</td>\n",
              "      <td>1</td>\n",
              "      <td>0</td>\n",
              "      <td>0</td>\n",
              "      <td>1</td>\n",
              "      <td>5</td>\n",
              "      <td>10</td>\n",
              "    </tr>\n",
              "    <tr>\n",
              "      <th>4</th>\n",
              "      <td>NA1_3569517250</td>\n",
              "      <td>mC0hMfKYhejc1U1aJE7iTOTn6TUDkY4apfQhdw2Pvp_jV3...</td>\n",
              "      <td>0</td>\n",
              "      <td>Treasure Trove</td>\n",
              "      <td>5</td>\n",
              "      <td>2020-09-10 05:18:02</td>\n",
              "      <td>0</td>\n",
              "      <td>0</td>\n",
              "      <td>0</td>\n",
              "      <td>1</td>\n",
              "      <td>...</td>\n",
              "      <td>0</td>\n",
              "      <td>1</td>\n",
              "      <td>1</td>\n",
              "      <td>0</td>\n",
              "      <td>0</td>\n",
              "      <td>0</td>\n",
              "      <td>0</td>\n",
              "      <td>0</td>\n",
              "      <td>5</td>\n",
              "      <td>10</td>\n",
              "    </tr>\n",
              "  </tbody>\n",
              "</table>\n",
              "<p>5 rows × 33 columns</p>\n",
              "</div>\n",
              "    <div class=\"colab-df-buttons\">\n",
              "\n",
              "  <div class=\"colab-df-container\">\n",
              "    <button class=\"colab-df-convert\" onclick=\"convertToInteractive('df-ea4ea590-81fa-4ea6-a3dd-14465c4c9e25')\"\n",
              "            title=\"Convert this dataframe to an interactive table.\"\n",
              "            style=\"display:none;\">\n",
              "\n",
              "  <svg xmlns=\"http://www.w3.org/2000/svg\" height=\"24px\" viewBox=\"0 -960 960 960\">\n",
              "    <path d=\"M120-120v-720h720v720H120Zm60-500h600v-160H180v160Zm220 220h160v-160H400v160Zm0 220h160v-160H400v160ZM180-400h160v-160H180v160Zm440 0h160v-160H620v160ZM180-180h160v-160H180v160Zm440 0h160v-160H620v160Z\"/>\n",
              "  </svg>\n",
              "    </button>\n",
              "\n",
              "  <style>\n",
              "    .colab-df-container {\n",
              "      display:flex;\n",
              "      gap: 12px;\n",
              "    }\n",
              "\n",
              "    .colab-df-convert {\n",
              "      background-color: #E8F0FE;\n",
              "      border: none;\n",
              "      border-radius: 50%;\n",
              "      cursor: pointer;\n",
              "      display: none;\n",
              "      fill: #1967D2;\n",
              "      height: 32px;\n",
              "      padding: 0 0 0 0;\n",
              "      width: 32px;\n",
              "    }\n",
              "\n",
              "    .colab-df-convert:hover {\n",
              "      background-color: #E2EBFA;\n",
              "      box-shadow: 0px 1px 2px rgba(60, 64, 67, 0.3), 0px 1px 3px 1px rgba(60, 64, 67, 0.15);\n",
              "      fill: #174EA6;\n",
              "    }\n",
              "\n",
              "    .colab-df-buttons div {\n",
              "      margin-bottom: 4px;\n",
              "    }\n",
              "\n",
              "    [theme=dark] .colab-df-convert {\n",
              "      background-color: #3B4455;\n",
              "      fill: #D2E3FC;\n",
              "    }\n",
              "\n",
              "    [theme=dark] .colab-df-convert:hover {\n",
              "      background-color: #434B5C;\n",
              "      box-shadow: 0px 1px 3px 1px rgba(0, 0, 0, 0.15);\n",
              "      filter: drop-shadow(0px 1px 2px rgba(0, 0, 0, 0.3));\n",
              "      fill: #FFFFFF;\n",
              "    }\n",
              "  </style>\n",
              "\n",
              "    <script>\n",
              "      const buttonEl =\n",
              "        document.querySelector('#df-ea4ea590-81fa-4ea6-a3dd-14465c4c9e25 button.colab-df-convert');\n",
              "      buttonEl.style.display =\n",
              "        google.colab.kernel.accessAllowed ? 'block' : 'none';\n",
              "\n",
              "      async function convertToInteractive(key) {\n",
              "        const element = document.querySelector('#df-ea4ea590-81fa-4ea6-a3dd-14465c4c9e25');\n",
              "        const dataTable =\n",
              "          await google.colab.kernel.invokeFunction('convertToInteractive',\n",
              "                                                    [key], {});\n",
              "        if (!dataTable) return;\n",
              "\n",
              "        const docLinkHtml = 'Like what you see? Visit the ' +\n",
              "          '<a target=\"_blank\" href=https://colab.research.google.com/notebooks/data_table.ipynb>data table notebook</a>'\n",
              "          + ' to learn more about interactive tables.';\n",
              "        element.innerHTML = '';\n",
              "        dataTable['output_type'] = 'display_data';\n",
              "        await google.colab.output.renderOutput(dataTable, element);\n",
              "        const docLink = document.createElement('div');\n",
              "        docLink.innerHTML = docLinkHtml;\n",
              "        element.appendChild(docLink);\n",
              "      }\n",
              "    </script>\n",
              "  </div>\n",
              "\n",
              "\n",
              "<div id=\"df-d1c0aa59-58c5-4658-ae6b-86c848f1b8e8\">\n",
              "  <button class=\"colab-df-quickchart\" onclick=\"quickchart('df-d1c0aa59-58c5-4658-ae6b-86c848f1b8e8')\"\n",
              "            title=\"Suggest charts.\"\n",
              "            style=\"display:none;\">\n",
              "\n",
              "<svg xmlns=\"http://www.w3.org/2000/svg\" height=\"24px\"viewBox=\"0 0 24 24\"\n",
              "     width=\"24px\">\n",
              "    <g>\n",
              "        <path d=\"M19 3H5c-1.1 0-2 .9-2 2v14c0 1.1.9 2 2 2h14c1.1 0 2-.9 2-2V5c0-1.1-.9-2-2-2zM9 17H7v-7h2v7zm4 0h-2V7h2v10zm4 0h-2v-4h2v4z\"/>\n",
              "    </g>\n",
              "</svg>\n",
              "  </button>\n",
              "\n",
              "<style>\n",
              "  .colab-df-quickchart {\n",
              "      --bg-color: #E8F0FE;\n",
              "      --fill-color: #1967D2;\n",
              "      --hover-bg-color: #E2EBFA;\n",
              "      --hover-fill-color: #174EA6;\n",
              "      --disabled-fill-color: #AAA;\n",
              "      --disabled-bg-color: #DDD;\n",
              "  }\n",
              "\n",
              "  [theme=dark] .colab-df-quickchart {\n",
              "      --bg-color: #3B4455;\n",
              "      --fill-color: #D2E3FC;\n",
              "      --hover-bg-color: #434B5C;\n",
              "      --hover-fill-color: #FFFFFF;\n",
              "      --disabled-bg-color: #3B4455;\n",
              "      --disabled-fill-color: #666;\n",
              "  }\n",
              "\n",
              "  .colab-df-quickchart {\n",
              "    background-color: var(--bg-color);\n",
              "    border: none;\n",
              "    border-radius: 50%;\n",
              "    cursor: pointer;\n",
              "    display: none;\n",
              "    fill: var(--fill-color);\n",
              "    height: 32px;\n",
              "    padding: 0;\n",
              "    width: 32px;\n",
              "  }\n",
              "\n",
              "  .colab-df-quickchart:hover {\n",
              "    background-color: var(--hover-bg-color);\n",
              "    box-shadow: 0 1px 2px rgba(60, 64, 67, 0.3), 0 1px 3px 1px rgba(60, 64, 67, 0.15);\n",
              "    fill: var(--button-hover-fill-color);\n",
              "  }\n",
              "\n",
              "  .colab-df-quickchart-complete:disabled,\n",
              "  .colab-df-quickchart-complete:disabled:hover {\n",
              "    background-color: var(--disabled-bg-color);\n",
              "    fill: var(--disabled-fill-color);\n",
              "    box-shadow: none;\n",
              "  }\n",
              "\n",
              "  .colab-df-spinner {\n",
              "    border: 2px solid var(--fill-color);\n",
              "    border-color: transparent;\n",
              "    border-bottom-color: var(--fill-color);\n",
              "    animation:\n",
              "      spin 1s steps(1) infinite;\n",
              "  }\n",
              "\n",
              "  @keyframes spin {\n",
              "    0% {\n",
              "      border-color: transparent;\n",
              "      border-bottom-color: var(--fill-color);\n",
              "      border-left-color: var(--fill-color);\n",
              "    }\n",
              "    20% {\n",
              "      border-color: transparent;\n",
              "      border-left-color: var(--fill-color);\n",
              "      border-top-color: var(--fill-color);\n",
              "    }\n",
              "    30% {\n",
              "      border-color: transparent;\n",
              "      border-left-color: var(--fill-color);\n",
              "      border-top-color: var(--fill-color);\n",
              "      border-right-color: var(--fill-color);\n",
              "    }\n",
              "    40% {\n",
              "      border-color: transparent;\n",
              "      border-right-color: var(--fill-color);\n",
              "      border-top-color: var(--fill-color);\n",
              "    }\n",
              "    60% {\n",
              "      border-color: transparent;\n",
              "      border-right-color: var(--fill-color);\n",
              "    }\n",
              "    80% {\n",
              "      border-color: transparent;\n",
              "      border-right-color: var(--fill-color);\n",
              "      border-bottom-color: var(--fill-color);\n",
              "    }\n",
              "    90% {\n",
              "      border-color: transparent;\n",
              "      border-bottom-color: var(--fill-color);\n",
              "    }\n",
              "  }\n",
              "</style>\n",
              "\n",
              "  <script>\n",
              "    async function quickchart(key) {\n",
              "      const quickchartButtonEl =\n",
              "        document.querySelector('#' + key + ' button');\n",
              "      quickchartButtonEl.disabled = true;  // To prevent multiple clicks.\n",
              "      quickchartButtonEl.classList.add('colab-df-spinner');\n",
              "      try {\n",
              "        const charts = await google.colab.kernel.invokeFunction(\n",
              "            'suggestCharts', [key], {});\n",
              "      } catch (error) {\n",
              "        console.error('Error during call to suggestCharts:', error);\n",
              "      }\n",
              "      quickchartButtonEl.classList.remove('colab-df-spinner');\n",
              "      quickchartButtonEl.classList.add('colab-df-quickchart-complete');\n",
              "    }\n",
              "    (() => {\n",
              "      let quickchartButtonEl =\n",
              "        document.querySelector('#df-d1c0aa59-58c5-4658-ae6b-86c848f1b8e8 button');\n",
              "      quickchartButtonEl.style.display =\n",
              "        google.colab.kernel.accessAllowed ? 'block' : 'none';\n",
              "    })();\n",
              "  </script>\n",
              "</div>\n",
              "    </div>\n",
              "  </div>\n"
            ]
          },
          "metadata": {},
          "execution_count": 6
        }
      ]
    },
    {
      "cell_type": "markdown",
      "source": [
        "Итак, в прошлый раз мы с вами обсуждали, что у нас challengers чаще побеждают. Давайте теперь попробуем это нарисовать и понять, а действительно ли это так.\n",
        "\n",
        "Ради этого мы можем с вами нарисовать ящики с усами и проверить, насколько распределения challengers и остальных отличаются по занятому месту"
      ],
      "metadata": {
        "id": "YXL0rY7zUYZo"
      }
    },
    {
      "cell_type": "markdown",
      "source": [
        "### Задание 1"
      ],
      "metadata": {
        "id": "4hqymTJMUqRi"
      }
    },
    {
      "cell_type": "markdown",
      "source": [
        "Нарисуйте ящик с усами и violinplot для challengers (на одном графике!)\n",
        "\n",
        "Будем это делать теперь с помощью seaborn"
      ],
      "metadata": {
        "id": "TmNE8zTrUsWG"
      }
    },
    {
      "cell_type": "code",
      "source": [
        "sns.color_palette(\"tab10\") #установим цвета (мне нравятся цвета из Tableau, поэтому возьму их)\n",
        "sns.set_theme() # поставим дефолтную тему"
      ],
      "metadata": {
        "id": "3nhm2OcpVPJB"
      },
      "execution_count": null,
      "outputs": []
    },
    {
      "cell_type": "code",
      "source": [
        "#YOUR CODE"
      ],
      "metadata": {
        "id": "rdrsMaulUloO"
      },
      "execution_count": null,
      "outputs": []
    },
    {
      "cell_type": "markdown",
      "source": [
        "Что мы сразу видим?\n",
        "\n",
        "1. У нас медианы отличаются (для игроков более высокого уровня - 3, для остальных - 5)\n",
        "\n",
        "2. Видим разброс другой (то есть от 3 до 7 места и от 2 до 5 места)\n",
        "\n",
        "И благодаря violinplot становится еще понятнее, откуда идет скилл: у остальных распределение примерно одинаковое (то есть их место - это почти рандом), когда же у challengers мы видим более похожее на виолончель"
      ],
      "metadata": {
        "id": "Rzmos6vuWd4J"
      }
    },
    {
      "cell_type": "markdown",
      "source": [
        "Отлично, что-то уже накопали (и подтвердили). Идем дальше:\n",
        "\n",
        "У нас есть колонки, которые мы никогда не трогали, давайте теперь пощупаем их"
      ],
      "metadata": {
        "id": "gccLjEWFYvG0"
      }
    },
    {
      "cell_type": "code",
      "source": [
        "matches.columns #не щупали все от Astro до SpacePirate"
      ],
      "metadata": {
        "colab": {
          "base_uri": "https://localhost:8080/"
        },
        "id": "sViFQ5SLZP_a",
        "outputId": "c6507d7f-1d15-4049-8fc2-c6f9cc469b1a"
      },
      "execution_count": null,
      "outputs": [
        {
          "output_type": "execute_result",
          "data": {
            "text/plain": [
              "Index(['match_id', 'puuid', 'challenger', 'galaxy', 'placement',\n",
              "       'game_datetime', 'Astro', 'Chrono', 'DarkStar', 'Celestial', 'Mystic',\n",
              "       'Sniper', 'Vanguard', 'Cybernetic', 'Infiltrator', 'ManaReaver',\n",
              "       'Battlecast', 'Blaster', 'Brawler', 'Rebel', 'Starship',\n",
              "       'Demolitionist', 'Mercenary', 'Blademaster', 'Paragon', 'Protector',\n",
              "       'Sorcerer', 'StarGuardian', 'MechPilot', 'SpacePirate', 'winner',\n",
              "       'hour', 'day'],\n",
              "      dtype='object')"
            ]
          },
          "metadata": {},
          "execution_count": 11
        }
      ]
    },
    {
      "cell_type": "markdown",
      "source": [
        "Это колонки с особенностями. По сути своей, особенность дает какой-то бонус некоторым чемпионам или всем сразу. Давайте посмотрим, есть ли какие-нибудь эффективные особенности. Как это сделать?"
      ],
      "metadata": {
        "id": "km5bZEAFZ7VJ"
      }
    },
    {
      "cell_type": "markdown",
      "source": [
        "### Задание 2"
      ],
      "metadata": {
        "id": "Iv5IB2jaZr2t"
      }
    },
    {
      "cell_type": "markdown",
      "source": [
        "Выберите неизученные столбцы и посмотрите зависимость между местом и значением в столбце\n",
        "\n",
        "Сделайте вывод, есть ли зависимость с какими-либо столбцами"
      ],
      "metadata": {
        "id": "DWGEDzcwZ0yu"
      }
    },
    {
      "cell_type": "code",
      "source": [
        "cols = ['Astro', 'Chrono', 'DarkStar', 'Celestial',\n",
        "       'Mystic', 'Sniper', 'Vanguard', 'Cybernetic', 'Infiltrator',\n",
        "       'ManaReaver', 'Battlecast', 'Blaster', 'Brawler', 'Rebel',\n",
        "       'Starship', 'Demolitionist', 'Mercenary', 'Blademaster', 'Paragon',\n",
        "       'Protector', 'Sorcerer', 'StarGuardian', 'MechPilot',\n",
        "       'SpacePirate']\n",
        "\n",
        "plt.figure(figsize=(15, 40))\n",
        "## YOUR CODE\n",
        "plt.show()"
      ],
      "metadata": {
        "id": "nUYAYQDcUs7m"
      },
      "execution_count": null,
      "outputs": []
    },
    {
      "cell_type": "markdown",
      "source": [
        "Выводы: Какие из указанных особенностей работают?"
      ],
      "metadata": {
        "id": "C5b_KbFwbauc"
      }
    },
    {
      "cell_type": "markdown",
      "source": [
        "Теперь поисследуем часы и дни (не зря же их выносили)"
      ],
      "metadata": {
        "id": "AFOQdUX_equV"
      }
    },
    {
      "cell_type": "markdown",
      "source": [
        "### Задание 3"
      ],
      "metadata": {
        "id": "Me4VETpMeU5Q"
      }
    },
    {
      "cell_type": "markdown",
      "source": [
        "Посмотрите на динамику числа игр в разрезе часов и также отобразите число игр по дням, а также число игр по галактикам\n",
        "\n",
        "(Первое можно сделать в помощью линий, второе - с помощью bar chart)"
      ],
      "metadata": {
        "id": "ggOGqx-kevkX"
      }
    },
    {
      "cell_type": "code",
      "source": [
        "plt.figure(figsize=(15, 5))\n",
        "#YOUR CODE\n",
        "plt.show()"
      ],
      "metadata": {
        "id": "eSd43YSYUxoI"
      },
      "execution_count": null,
      "outputs": []
    },
    {
      "cell_type": "markdown",
      "source": [
        "Ой как нехорошо получилось с галактиками! Давайте поправим этот момент!"
      ],
      "metadata": {
        "id": "XsvKNnVOgGf7"
      }
    },
    {
      "cell_type": "code",
      "source": [
        "#YOUR CODE\n",
        "plt.show()"
      ],
      "metadata": {
        "id": "Icvi4ToyUyny"
      },
      "execution_count": null,
      "outputs": []
    },
    {
      "cell_type": "markdown",
      "source": [
        "**Как вы думаете, а почему получилось так странно со временем?**\n",
        "\n",
        "**А какой вывод мы можем сделать из числа дней?**\n",
        "\n",
        "**Обратите внимание, что мы никаким образом не анализировали и не использовали поле Galaxy в зависимости от места. Как вы думаете, почему? (подсказка: галактика общая для 1 игры)**\n"
      ],
      "metadata": {
        "id": "2U5_XfMghACQ"
      }
    },
    {
      "cell_type": "markdown",
      "source": [
        "### Задание 4"
      ],
      "metadata": {
        "id": "HXS-raXSnj5C"
      }
    },
    {
      "cell_type": "markdown",
      "source": [
        "Посмотрите зависимость среднего места между галактикой и местом для challengers и для не challengers"
      ],
      "metadata": {
        "id": "dRnBGKdsnnVZ"
      }
    },
    {
      "cell_type": "code",
      "source": [
        "plt.figure(figsize=(5, 5))\n",
        "#YOUR CODE\n",
        "plt.show()"
      ],
      "metadata": {
        "id": "n4F5INmQU7AT"
      },
      "execution_count": null,
      "outputs": []
    },
    {
      "cell_type": "markdown",
      "source": [
        "Ух ты ж, у нас легенда куда-то поехала, давайте поправим!"
      ],
      "metadata": {
        "id": "iMVAYBl5oRer"
      }
    },
    {
      "cell_type": "markdown",
      "source": [
        "(Как увеличить легенду саму по себе? Никак :с\n",
        "Можно только применять fontsize и таким образом увеличить легенду за счет увеличения текста)"
      ],
      "metadata": {
        "id": "ol7a4cz0l9U2"
      }
    },
    {
      "cell_type": "code",
      "source": [
        "plt.figure(figsize=(5, 5))\n",
        "#YOUR CODE\n",
        "plt.legend(bbox_to_anchor=(1.05, 1), loc=\"upper left\")\n",
        "plt.show()"
      ],
      "metadata": {
        "id": "i6_2hTZhU74R"
      },
      "execution_count": null,
      "outputs": []
    },
    {
      "cell_type": "markdown",
      "source": [
        "Класс, получили красивый график!"
      ],
      "metadata": {
        "id": "lvIp4yFfppue"
      }
    },
    {
      "cell_type": "markdown",
      "source": [
        "Вспомним, что у нас еще есть не только композиции, но и сами герои, а также предметы!"
      ],
      "metadata": {
        "id": "2t7VyhxDpyI0"
      }
    },
    {
      "cell_type": "markdown",
      "source": [
        "### Задание 5"
      ],
      "metadata": {
        "id": "rSw8FrGLtLCH"
      }
    },
    {
      "cell_type": "markdown",
      "source": [
        "Отобразите число героев по трейтам и отсортируйте по убыванию\n",
        "\n",
        "Трейты - особенности самих героев. Находятся в полях traits_1, traits_2, traits_3"
      ],
      "metadata": {
        "id": "WQtJ8H6utOpa"
      }
    },
    {
      "cell_type": "markdown",
      "source": [
        "Как же это сделать, ведь у нас несколько колонок, с которыми надо считать? Для этого можем сделать конкатенацию этих трех полей и посчитать (каждый трейт героя - уникальный)"
      ],
      "metadata": {
        "id": "knStE7TQuDIb"
      }
    },
    {
      "cell_type": "code",
      "source": [
        "heroes.head(5)"
      ],
      "metadata": {
        "id": "zXe7o2EAU_xW",
        "colab": {
          "base_uri": "https://localhost:8080/",
          "height": 206
        },
        "outputId": "ffa465ca-32d0-4396-8a7b-42294a16bb71"
      },
      "execution_count": null,
      "outputs": [
        {
          "output_type": "execute_result",
          "data": {
            "text/plain": [
              "         match_id                                              puuid  \\\n",
              "0  NA1_3576421406  E9vhtL_T6i81fD7EmWshNbUUNuf_gstpkSUI17IcbLW43e...   \n",
              "1  NA1_3576421406  E9vhtL_T6i81fD7EmWshNbUUNuf_gstpkSUI17IcbLW43e...   \n",
              "2  NA1_3576421406  E9vhtL_T6i81fD7EmWshNbUUNuf_gstpkSUI17IcbLW43e...   \n",
              "3  NA1_3576421406  E9vhtL_T6i81fD7EmWshNbUUNuf_gstpkSUI17IcbLW43e...   \n",
              "4  NA1_3576421406  E9vhtL_T6i81fD7EmWshNbUUNuf_gstpkSUI17IcbLW43e...   \n",
              "\n",
              "   champion  tier  item_set_1  item_set_2  item_set_3       traits_1  \\\n",
              "0   Caitlyn     1        68.0        88.0         NaN         Chrono   \n",
              "1  Nautilus     2        27.0        59.0         NaN          Astro   \n",
              "2      Ashe     2        26.0         NaN         NaN      Celestial   \n",
              "3     Karma     2        46.0         NaN         NaN      Dark Star   \n",
              "4    Soraka     2         NaN         NaN         NaN  Star Guardian   \n",
              "\n",
              "   traits_2 traits_3  \n",
              "0    Sniper      NaN  \n",
              "1  Vanguard      NaN  \n",
              "2    Sniper      NaN  \n",
              "3    Mystic      NaN  \n",
              "4    Mystic      NaN  "
            ],
            "text/html": [
              "\n",
              "  <div id=\"df-e22005b8-f2d2-458b-b754-8bf55f48ce12\">\n",
              "    <div class=\"colab-df-container\">\n",
              "      <div>\n",
              "<style scoped>\n",
              "    .dataframe tbody tr th:only-of-type {\n",
              "        vertical-align: middle;\n",
              "    }\n",
              "\n",
              "    .dataframe tbody tr th {\n",
              "        vertical-align: top;\n",
              "    }\n",
              "\n",
              "    .dataframe thead th {\n",
              "        text-align: right;\n",
              "    }\n",
              "</style>\n",
              "<table border=\"1\" class=\"dataframe\">\n",
              "  <thead>\n",
              "    <tr style=\"text-align: right;\">\n",
              "      <th></th>\n",
              "      <th>match_id</th>\n",
              "      <th>puuid</th>\n",
              "      <th>champion</th>\n",
              "      <th>tier</th>\n",
              "      <th>item_set_1</th>\n",
              "      <th>item_set_2</th>\n",
              "      <th>item_set_3</th>\n",
              "      <th>traits_1</th>\n",
              "      <th>traits_2</th>\n",
              "      <th>traits_3</th>\n",
              "    </tr>\n",
              "  </thead>\n",
              "  <tbody>\n",
              "    <tr>\n",
              "      <th>0</th>\n",
              "      <td>NA1_3576421406</td>\n",
              "      <td>E9vhtL_T6i81fD7EmWshNbUUNuf_gstpkSUI17IcbLW43e...</td>\n",
              "      <td>Caitlyn</td>\n",
              "      <td>1</td>\n",
              "      <td>68.0</td>\n",
              "      <td>88.0</td>\n",
              "      <td>NaN</td>\n",
              "      <td>Chrono</td>\n",
              "      <td>Sniper</td>\n",
              "      <td>NaN</td>\n",
              "    </tr>\n",
              "    <tr>\n",
              "      <th>1</th>\n",
              "      <td>NA1_3576421406</td>\n",
              "      <td>E9vhtL_T6i81fD7EmWshNbUUNuf_gstpkSUI17IcbLW43e...</td>\n",
              "      <td>Nautilus</td>\n",
              "      <td>2</td>\n",
              "      <td>27.0</td>\n",
              "      <td>59.0</td>\n",
              "      <td>NaN</td>\n",
              "      <td>Astro</td>\n",
              "      <td>Vanguard</td>\n",
              "      <td>NaN</td>\n",
              "    </tr>\n",
              "    <tr>\n",
              "      <th>2</th>\n",
              "      <td>NA1_3576421406</td>\n",
              "      <td>E9vhtL_T6i81fD7EmWshNbUUNuf_gstpkSUI17IcbLW43e...</td>\n",
              "      <td>Ashe</td>\n",
              "      <td>2</td>\n",
              "      <td>26.0</td>\n",
              "      <td>NaN</td>\n",
              "      <td>NaN</td>\n",
              "      <td>Celestial</td>\n",
              "      <td>Sniper</td>\n",
              "      <td>NaN</td>\n",
              "    </tr>\n",
              "    <tr>\n",
              "      <th>3</th>\n",
              "      <td>NA1_3576421406</td>\n",
              "      <td>E9vhtL_T6i81fD7EmWshNbUUNuf_gstpkSUI17IcbLW43e...</td>\n",
              "      <td>Karma</td>\n",
              "      <td>2</td>\n",
              "      <td>46.0</td>\n",
              "      <td>NaN</td>\n",
              "      <td>NaN</td>\n",
              "      <td>Dark Star</td>\n",
              "      <td>Mystic</td>\n",
              "      <td>NaN</td>\n",
              "    </tr>\n",
              "    <tr>\n",
              "      <th>4</th>\n",
              "      <td>NA1_3576421406</td>\n",
              "      <td>E9vhtL_T6i81fD7EmWshNbUUNuf_gstpkSUI17IcbLW43e...</td>\n",
              "      <td>Soraka</td>\n",
              "      <td>2</td>\n",
              "      <td>NaN</td>\n",
              "      <td>NaN</td>\n",
              "      <td>NaN</td>\n",
              "      <td>Star Guardian</td>\n",
              "      <td>Mystic</td>\n",
              "      <td>NaN</td>\n",
              "    </tr>\n",
              "  </tbody>\n",
              "</table>\n",
              "</div>\n",
              "      <button class=\"colab-df-convert\" onclick=\"convertToInteractive('df-e22005b8-f2d2-458b-b754-8bf55f48ce12')\"\n",
              "              title=\"Convert this dataframe to an interactive table.\"\n",
              "              style=\"display:none;\">\n",
              "        \n",
              "  <svg xmlns=\"http://www.w3.org/2000/svg\" height=\"24px\"viewBox=\"0 0 24 24\"\n",
              "       width=\"24px\">\n",
              "    <path d=\"M0 0h24v24H0V0z\" fill=\"none\"/>\n",
              "    <path d=\"M18.56 5.44l.94 2.06.94-2.06 2.06-.94-2.06-.94-.94-2.06-.94 2.06-2.06.94zm-11 1L8.5 8.5l.94-2.06 2.06-.94-2.06-.94L8.5 2.5l-.94 2.06-2.06.94zm10 10l.94 2.06.94-2.06 2.06-.94-2.06-.94-.94-2.06-.94 2.06-2.06.94z\"/><path d=\"M17.41 7.96l-1.37-1.37c-.4-.4-.92-.59-1.43-.59-.52 0-1.04.2-1.43.59L10.3 9.45l-7.72 7.72c-.78.78-.78 2.05 0 2.83L4 21.41c.39.39.9.59 1.41.59.51 0 1.02-.2 1.41-.59l7.78-7.78 2.81-2.81c.8-.78.8-2.07 0-2.86zM5.41 20L4 18.59l7.72-7.72 1.47 1.35L5.41 20z\"/>\n",
              "  </svg>\n",
              "      </button>\n",
              "      \n",
              "  <style>\n",
              "    .colab-df-container {\n",
              "      display:flex;\n",
              "      flex-wrap:wrap;\n",
              "      gap: 12px;\n",
              "    }\n",
              "\n",
              "    .colab-df-convert {\n",
              "      background-color: #E8F0FE;\n",
              "      border: none;\n",
              "      border-radius: 50%;\n",
              "      cursor: pointer;\n",
              "      display: none;\n",
              "      fill: #1967D2;\n",
              "      height: 32px;\n",
              "      padding: 0 0 0 0;\n",
              "      width: 32px;\n",
              "    }\n",
              "\n",
              "    .colab-df-convert:hover {\n",
              "      background-color: #E2EBFA;\n",
              "      box-shadow: 0px 1px 2px rgba(60, 64, 67, 0.3), 0px 1px 3px 1px rgba(60, 64, 67, 0.15);\n",
              "      fill: #174EA6;\n",
              "    }\n",
              "\n",
              "    [theme=dark] .colab-df-convert {\n",
              "      background-color: #3B4455;\n",
              "      fill: #D2E3FC;\n",
              "    }\n",
              "\n",
              "    [theme=dark] .colab-df-convert:hover {\n",
              "      background-color: #434B5C;\n",
              "      box-shadow: 0px 1px 3px 1px rgba(0, 0, 0, 0.15);\n",
              "      filter: drop-shadow(0px 1px 2px rgba(0, 0, 0, 0.3));\n",
              "      fill: #FFFFFF;\n",
              "    }\n",
              "  </style>\n",
              "\n",
              "      <script>\n",
              "        const buttonEl =\n",
              "          document.querySelector('#df-e22005b8-f2d2-458b-b754-8bf55f48ce12 button.colab-df-convert');\n",
              "        buttonEl.style.display =\n",
              "          google.colab.kernel.accessAllowed ? 'block' : 'none';\n",
              "\n",
              "        async function convertToInteractive(key) {\n",
              "          const element = document.querySelector('#df-e22005b8-f2d2-458b-b754-8bf55f48ce12');\n",
              "          const dataTable =\n",
              "            await google.colab.kernel.invokeFunction('convertToInteractive',\n",
              "                                                     [key], {});\n",
              "          if (!dataTable) return;\n",
              "\n",
              "          const docLinkHtml = 'Like what you see? Visit the ' +\n",
              "            '<a target=\"_blank\" href=https://colab.research.google.com/notebooks/data_table.ipynb>data table notebook</a>'\n",
              "            + ' to learn more about interactive tables.';\n",
              "          element.innerHTML = '';\n",
              "          dataTable['output_type'] = 'display_data';\n",
              "          await google.colab.output.renderOutput(dataTable, element);\n",
              "          const docLink = document.createElement('div');\n",
              "          docLink.innerHTML = docLinkHtml;\n",
              "          element.appendChild(docLink);\n",
              "        }\n",
              "      </script>\n",
              "    </div>\n",
              "  </div>\n",
              "  "
            ]
          },
          "metadata": {},
          "execution_count": 24
        }
      ]
    },
    {
      "cell_type": "code",
      "source": [
        "fig = plt.figure(figsize=(10, 5))\n",
        "#YOUR CODE\n",
        "plt.show()"
      ],
      "metadata": {
        "id": "xJo1quttB5Wf"
      },
      "execution_count": null,
      "outputs": []
    },
    {
      "cell_type": "markdown",
      "source": [
        "Выяснили, каких чемпионов у нас больше всего. Теперь давайте попробуем выяснить, а насколько хорош чемпион\n",
        "\n",
        "У каждого чемпиона есть такая вещь как tier. Tier - это уровень чемпиона (он бывает в значениях от 1 до 3, чем больше - тем сильнее герой). Давайте теперь попробуем проделать следующую вещь:"
      ],
      "metadata": {
        "id": "VliAJ_z9u7b5"
      }
    },
    {
      "cell_type": "markdown",
      "source": [
        "### Задание 6"
      ],
      "metadata": {
        "id": "TQ34uxljwWnm"
      }
    },
    {
      "cell_type": "markdown",
      "source": [
        "Возьмем и посчитаем для каждого чемпиона и его тира средний винрейт, а также частоту его встречаемости. Проверим - чем реже встречается герой, тем чаще ли он дает шанс на победу\n",
        "\n",
        "Бонус: добавьте на каждую точку название персонажа"
      ],
      "metadata": {
        "id": "hc3arAeOwZJF"
      }
    },
    {
      "cell_type": "markdown",
      "source": [
        "*первую часть задания мы делали - считали винрейт для каждого чемпиона, код можно взять с предыдущего семинара, добавив в groupby tier*\n",
        "\n",
        "*Дальше это надо сджойнить с матчами и героями и отобразить этот средний винрейт*"
      ],
      "metadata": {
        "id": "1uyS8aRGkCZU"
      }
    },
    {
      "cell_type": "code",
      "source": [
        "merged_matches = pd.merge(matches, heroes, on=['match_id', 'puuid'], how='inner')\n",
        "avg_winrate = merged_matches.groupby([\"champion\", \"tier\"]).agg({\"winner\": \"mean\", \"match_id\": \"nunique\"}) \\\n",
        "        .reset_index() \\\n",
        "        .rename(columns={\"winner\": \"chance_win\", \"match_id\":\"matches\"})\n",
        "avg_winrate.matches /= len(matches.match_id.unique())"
      ],
      "metadata": {
        "id": "Dyt0Ft7IVDAp"
      },
      "execution_count": null,
      "outputs": []
    },
    {
      "cell_type": "code",
      "source": [
        "plt.figure(figsize=(30, 30))\n",
        "#YOUR CODE\n",
        "plt.show()"
      ],
      "metadata": {
        "id": "dsqSS9Y0kJRK"
      },
      "execution_count": null,
      "outputs": []
    },
    {
      "cell_type": "markdown",
      "source": [
        "Что же видим?\n",
        "\n",
        "Наличие tier 3 и tier 2 героев дает нам больше шансов на победу. Следовательно, хотим больше героев tier 3, верно? Но получить их не так просто\n"
      ],
      "metadata": {
        "id": "56Exiz5qy8Xt"
      }
    },
    {
      "cell_type": "markdown",
      "source": [
        "### Задание 7"
      ],
      "metadata": {
        "id": "t3LXDhDCzyPo"
      }
    },
    {
      "cell_type": "markdown",
      "source": [
        "Исследуйте средней tier чемпионов на поле у игрока и его место в игре, сделайте выводы"
      ],
      "metadata": {
        "id": "WOkhTzeRz1O3"
      }
    },
    {
      "cell_type": "code",
      "source": [
        "fig = plt.figure(figsize=(10, 7))\n",
        "#YOUR CODE\n",
        "plt.show()"
      ],
      "metadata": {
        "id": "I1obmIWzVEfJ"
      },
      "execution_count": null,
      "outputs": []
    }
  ]
}