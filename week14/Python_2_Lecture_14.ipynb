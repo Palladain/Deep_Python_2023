{
  "nbformat": 4,
  "nbformat_minor": 0,
  "metadata": {
    "colab": {
      "provenance": []
    },
    "kernelspec": {
      "name": "python3",
      "display_name": "Python 3"
    },
    "language_info": {
      "name": "python"
    }
  },
  "cells": [
    {
      "cell_type": "markdown",
      "source": [
        "# Продвинутый Python, лекция 14\n",
        "\n",
        "**Лектор:** Петров Тимур\n",
        "\n",
        "**Семинаристы:** Петров Тимур, Коган Александра, Бузаев Федор, Дешеулин Олег\n",
        "\n",
        "**Spoiler Alert:** в рамках курса нельзя изучить ни одну из тем от и до досконально (к сожалению, на это требуется больше времени, чем даже 3 часа в неделю). Но мы попробуем рассказать столько, сколько возможно :)\n",
        "\n",
        "Так как мы проходим веб-разработку, то это явно не та вещь, которая делается через colab. Поэтому здесь написан просто код, который можно воспроизвести локально"
      ],
      "metadata": {
        "id": "bpVB6UyuIipb"
      }
    },
    {
      "cell_type": "markdown",
      "source": [
        "## Веб-разработка"
      ],
      "metadata": {
        "id": "zDItmkgHInuj"
      }
    },
    {
      "cell_type": "markdown",
      "source": [
        "Что же, посмотрели, как у других выглядят сайты, что и как они там делают (научились парсить даже все добро), давайте теперь самостоятельно делать! И делать будем, конечно же, с помощью Python\n",
        "\n",
        "Если вы попробуете вбить в поиск веб-разработка на Python, то увидите, что чаще всего вам предлагают 2 варианта: flask и django.\n",
        "\n",
        "Они оба удовлетворяют ваше желание сделать приложение, на разница в том, что:\n",
        "\n",
        "* Django - очень много решений \"из коробки\", проще промышленная разработка, но за счет таких решений у вас не так много свободы с точки зрения кастомизации (особенно когда все надо менять часто). То есть Django - это т.н. full stack framework\n",
        "\n",
        "* Flask - в отличие от Django, это уже light-weight framework. Это значит, что в нем нет решений из коробки, он дает максимальную свободу (и ответственность, ведь приходится самому все реализовывать и делать), но за счет это получается большая кастомизация\n",
        "\n",
        "Поэтому полезно знать оба фреймворка хотя бы на очень общем уровне (да и в целом, если вам нужно какое-то легкое приложение, то стрелять из пушки по воробьям с помощью Django - идея сомнительная)"
      ],
      "metadata": {
        "id": "ok7ugDnEIsLp"
      }
    },
    {
      "cell_type": "markdown",
      "source": [
        "## Flask"
      ],
      "metadata": {
        "id": "pSgFMDE5JV_a"
      }
    },
    {
      "cell_type": "markdown",
      "source": [
        "### Самый простой сайт в мире"
      ],
      "metadata": {
        "id": "Q2Sws09ltn0N"
      }
    },
    {
      "cell_type": "markdown",
      "source": [
        "Давайте сотворим магию, а потом разберем, что случилось)"
      ],
      "metadata": {
        "id": "lix-Gn1RPETw"
      }
    },
    {
      "cell_type": "code",
      "source": [
        "%%writefile app.py\n",
        "\n",
        "from flask import Flask\n",
        "\n",
        "app = Flask(__name__)\n",
        "\n",
        "@app.route(\"/\")\n",
        "def hello_world():\n",
        "    return \"<p>Hello, World!</p>\"\n",
        "\n",
        "if __name__ == '__main__':\n",
        "    app.run()"
      ],
      "metadata": {
        "colab": {
          "base_uri": "https://localhost:8080/"
        },
        "id": "6f3HXqDpp7JF",
        "outputId": "9c18deea-ed03-4348-96e2-76ab605298cb"
      },
      "execution_count": null,
      "outputs": [
        {
          "output_type": "stream",
          "name": "stdout",
          "text": [
            "Writing app.py\n"
          ]
        }
      ]
    },
    {
      "cell_type": "code",
      "source": [
        "!flask run"
      ],
      "metadata": {
        "id": "Gl7gklPYPagR"
      },
      "execution_count": null,
      "outputs": []
    },
    {
      "cell_type": "markdown",
      "source": [
        "Ура, мы получили самый базовый сайт! Что же мы сделали?\n",
        "\n",
        "* app - создаем инстанс нашего Web Server Gateway Interface - WSGI (взаимодействие сервера и нашего кода), указываем модуль (если он один, то надо использовать просто __ name __)\n",
        "\n",
        "* route - декоратор, который\n",
        "\n",
        "* def hello_world() -> функция, которая будет строить на страничку\n",
        "\n",
        "* run - запускаем приложение"
      ],
      "metadata": {
        "id": "X3nuYQe8otWP"
      }
    },
    {
      "cell_type": "markdown",
      "source": [
        "Запустили код, работает! А теперь хотим изменить код, что делать? Приложение закрыть, исправить, а затем опять запустить. Не нравится, хотим изменять онлайн, ну давайте сделаем!"
      ],
      "metadata": {
        "id": "eqEFLE1ur2zX"
      }
    },
    {
      "cell_type": "code",
      "source": [
        "app.run(debug=True)"
      ],
      "metadata": {
        "id": "HQ0jEsF6s2eS"
      },
      "execution_count": null,
      "outputs": []
    },
    {
      "cell_type": "markdown",
      "source": [
        "Ура, меняем-обновляем, все работает!"
      ],
      "metadata": {
        "id": "L2IVAqTytXLs"
      }
    },
    {
      "cell_type": "markdown",
      "source": [
        "### Усложняем и даем запросы"
      ],
      "metadata": {
        "id": "poUxHALItqzX"
      }
    },
    {
      "cell_type": "markdown",
      "source": [
        "Теперь хотим не одну страничку, а хотим несколько страниц! Давайте делать"
      ],
      "metadata": {
        "id": "PQU03fKlttNY"
      }
    },
    {
      "cell_type": "code",
      "source": [
        "@app.route('/hello')\n",
        "def hello():\n",
        "    return 'Hello World'"
      ],
      "metadata": {
        "id": "S4XQg554tyzS"
      },
      "execution_count": null,
      "outputs": []
    },
    {
      "cell_type": "markdown",
      "source": [
        "Переходим по http://127.0.0.1:5000/hello и получаем необходимый результат"
      ],
      "metadata": {
        "id": "NIk96RvyuDT4"
      }
    },
    {
      "cell_type": "markdown",
      "source": [
        "А еще можем делать все динамически! А зачем? А затем, чтобы давать идентификацию (приходишь, а там страничка чисто для тебя)"
      ],
      "metadata": {
        "id": "VztJkvE0vJmL"
      }
    },
    {
      "cell_type": "code",
      "source": [
        "@app.route('/user/<username>') # переменные задаются через <>\n",
        "def show_user_profile(username):\n",
        "    return 'User %s' % username\n",
        "\n",
        "@app.route('/post/<int:post_id>') # отдельно можем задать ограничение на тип (например, здесь указываем int)\n",
        "def show_post(post_id):\n",
        "    return 'Post %d' % post_id"
      ],
      "metadata": {
        "id": "0ggMS7lMwF5F"
      },
      "execution_count": null,
      "outputs": []
    },
    {
      "cell_type": "markdown",
      "source": [
        "Ну окей, создали какой-то сайт. А где же те самые запросы POST, GET, о которых мы уже сколько говорили, как там авторизацию делать и всякое такое? Конечно же такое можно задать!"
      ],
      "metadata": {
        "id": "s4LTJrYiltu4"
      }
    },
    {
      "cell_type": "code",
      "source": [
        "from flask import request\n",
        "@app.route('/login', methods=['GET', 'POST']) #указываем методы, которые обрабатываем\n",
        "def login():\n",
        "    if request.method == 'POST': # если метод POST, то сделай одно\n",
        "        do_the_login()\n",
        "    else:\n",
        "        show_the_login_form() # иначе другое (GET)"
      ],
      "metadata": {
        "id": "cNxErB7_l50x"
      },
      "execution_count": null,
      "outputs": []
    },
    {
      "cell_type": "markdown",
      "source": [
        "На все ответы с сервера отвечает request. Что тут есть:\n",
        "\n",
        "* method - какой запрос был (GET, POST etc)\n",
        "\n",
        "* form - при заполнении формы etc здесь будут находиться переменные\n",
        "\n",
        "* args - все наши ключи внутри url-запроса (работает вот так: request.args.get(\"key\", \"\"))\n",
        "\n",
        "* files - если были загружены файлы\n",
        "\n",
        "* cookies - ПЕЧЕНЬКИ!\n",
        "\n",
        "![](https://i.pinimg.com/originals/08/87/d4/0887d45e7bd3d3aaba12638863df8f48.jpg)"
      ],
      "metadata": {
        "id": "f2iBbOTnWtGp"
      }
    },
    {
      "cell_type": "code",
      "source": [
        "from flask import request\n",
        "\n",
        "@app.route('/upload', methods=['GET', 'POST'])\n",
        "def upload_file():\n",
        "    if request.method == 'POST':\n",
        "        f = request.files['the_file'] # для того, чтобы посмотреть на название файла, можно использовать request.filename\n",
        "        f.save('/var/www/uploads/uploaded_file.txt')"
      ],
      "metadata": {
        "id": "ZlJTK7MqZSYc"
      },
      "execution_count": null,
      "outputs": []
    },
    {
      "cell_type": "markdown",
      "source": [
        "### Генерация шаблонов и статика"
      ],
      "metadata": {
        "id": "5oE2H4-vSebC"
      }
    },
    {
      "cell_type": "markdown",
      "source": [
        "Что-то простое разобрали, как просто сделать странички. Но вот есть проблема:\n",
        "\n",
        "У нас есть сайт, в котором мы хотим иметь единый шаблон (скажем, у нас есть та же вики ФКН, которая на любой странице выглядит одинаково). Прописывать его каждый раз не хочется. Может быть мы можем сделать общий шаблон, по которому все будет генерироваться сразу, а единственное, что нам надо будет делать - это только добавлять новую информацию?\n",
        "\n",
        "Конечно можем! За шаблоны внутри Flask отвечает библиотека [Jinja2](http://jinja.pocoo.org/docs/templates). Давайте попробуем что-нибудь соорудить уже через шаблонизатор:"
      ],
      "metadata": {
        "id": "XXyLRy4bSsAq"
      }
    },
    {
      "cell_type": "code",
      "source": [
        "from flask import render_template\n",
        "\n",
        "@app.route('/hello/')\n",
        "@app.route('/hello/<name>')\n",
        "def hello(name=None):\n",
        "    return render_template('hello.html', name=name)"
      ],
      "metadata": {
        "id": "XxEvVeRuToo3"
      },
      "execution_count": null,
      "outputs": []
    },
    {
      "cell_type": "markdown",
      "source": [
        "Опа, словили ошибку! (потому что у нас нет такого шаблона). Надо создать, но где?\n",
        "\n",
        "Все шаблоны должны находиться в отдельной папке templates. Давайте туда и зафигачим вот такой шаблон:\n",
        "\n",
        "```\n",
        "<!doctype html>\n",
        "<title>Hello from Flask</title>\n",
        "{% if name %}\n",
        "    <h1>Hello {{ name }}!</h1>\n",
        "{% else %}\n",
        "    <h1>Hello World!</h1>\n",
        "{% endif %}\n",
        "```"
      ],
      "metadata": {
        "id": "EnroKTEKT78L"
      }
    },
    {
      "cell_type": "markdown",
      "source": [
        "Ура, успех! Но как это написано немного непонятно, для этого нужно обратиться к [документации](https://jinja.palletsprojects.com/en/3.1.x/templates/)\n"
      ],
      "metadata": {
        "id": "bX31lOLwUnBD"
      }
    },
    {
      "cell_type": "markdown",
      "source": [
        "### Перенаправления"
      ],
      "metadata": {
        "id": "JCW5A3ErZ0RL"
      }
    },
    {
      "cell_type": "markdown",
      "source": [
        "Окей, хотим еще уметь перенаправлять (допустим, у нас есть какая-нибудь страница, с которой мы хотим сразу направить куда-то еще) - скажем, с формы оплаты после оплаты возвращать на начальную страницу\n",
        "\n",
        "И такое мы умеем!"
      ],
      "metadata": {
        "id": "hVlBr5ZRZ5Kg"
      }
    },
    {
      "cell_type": "code",
      "source": [
        "from flask import abort, redirect, url_for\n",
        "\n",
        "@app.route('/')\n",
        "def index():\n",
        "    return redirect(url_for('login')) #сделай редирект на страницу с login\n",
        "\n",
        "@app.route('/login')\n",
        "def login():\n",
        "    abort(401) # Выдай ошибку 401"
      ],
      "metadata": {
        "id": "0OMEGDpraHPU"
      },
      "execution_count": null,
      "outputs": []
    },
    {
      "cell_type": "code",
      "source": [
        "from flask import render_template\n",
        "\n",
        "@app.errorhandler(404) #отдельный декоратор, который будет обрабатывать конкретно ошибку 404\n",
        "def page_not_found(error):\n",
        "    return render_template('page_not_found.html'), 404"
      ],
      "metadata": {
        "id": "zVM3YOhEZqk-"
      },
      "execution_count": null,
      "outputs": []
    },
    {
      "cell_type": "markdown",
      "source": [
        "### Сессии"
      ],
      "metadata": {
        "id": "oS_BdDm3aUr3"
      }
    },
    {
      "cell_type": "markdown",
      "source": [
        "Чего же не хватает?\n",
        "\n",
        "Вот у нас есть пользователь, который залогинился и хочет что-нибудь смотреть, но при этом мы хотим сохранять информацию о том, что пользователь залогинен. Как это делать?\n",
        "\n",
        "Для этого есть объект сессии:"
      ],
      "metadata": {
        "id": "NNKQ9TepaWp6"
      }
    },
    {
      "cell_type": "code",
      "source": [
        "from flask import Flask, session, redirect, url_for, escape, request\n",
        "app = Flask(__name__)\n",
        "\n",
        "@app.route('/')\n",
        "def index():\n",
        "    if 'username' in session:\n",
        "        return 'Logged in as %s' % escape(session['username']) #escape заменяет все специсимволы на безопасные (потому что можно же ломать сайты)\n",
        "    return 'You are not logged in'\n",
        "\n",
        "@app.route('/login', methods=['GET', 'POST'])\n",
        "def login():\n",
        "    if request.method == 'POST':\n",
        "        session['username'] = request.form['username']\n",
        "        return redirect(url_for('index'))\n",
        "    return '''\n",
        "    <form action=\"\" method=\"post\">\n",
        "    <p><input type=text name=username>\n",
        "    <p><input type=submit value=Login> </form>\n",
        "    '''\n",
        "\n",
        "@app.route('/logout')\n",
        "def logout():\n",
        "    # удалить из сессии имя пользователя, если оно там есть\n",
        "    session.pop('username', None)\n",
        "    return redirect(url_for('index'))\n",
        "\n",
        "app.secret_key = 'A0Zr98j/3yX R~XHH!jmN]LWX/,?RT' #секретный ключ (а зачем он? А чтобы пользователь куки не менял)"
      ],
      "metadata": {
        "id": "xyeZU6CaauGi"
      },
      "execution_count": null,
      "outputs": []
    },
    {
      "cell_type": "markdown",
      "source": [
        "Как сгенерировать ключ?"
      ],
      "metadata": {
        "id": "blNaNWhxbyO9"
      }
    },
    {
      "cell_type": "code",
      "source": [
        "import os\n",
        "\n",
        "os.urandom(24) #подходяший рандомный ключ, максимально случайный"
      ],
      "metadata": {
        "colab": {
          "base_uri": "https://localhost:8080/"
        },
        "id": "IpxjuIiqbzi-",
        "outputId": "49edcde6-9970-4cd7-91d9-a772eb7380a9"
      },
      "execution_count": null,
      "outputs": [
        {
          "output_type": "execute_result",
          "data": {
            "text/plain": [
              "b'@\\x11\\xaex\\xfd5*\\x81\\xfc\\xa3\\x9e\\xe40\\xbc\\xff\\xb1\\xe4\\xa1\\x99\\xa5\\xc0VT\\x98'"
            ]
          },
          "metadata": {},
          "execution_count": 1
        }
      ]
    },
    {
      "cell_type": "markdown",
      "source": [
        "## Применяем наши знания на практике!"
      ],
      "metadata": {
        "id": "Gj0HlbGeaa_c"
      }
    },
    {
      "cell_type": "markdown",
      "source": [
        "Все это здорово, но пока кажется какими-то мазками без общей структуры и смысла, давайте теперь возьмем и это применим, сделав свой минимальный Твиттер.\n",
        "\n",
        "Давайте ТЗ:\n",
        "\n",
        "1. Должна быть аутентификация пользователя (имя-логин)\n",
        "\n",
        "2. Возможность добавить свой собственный текст в ленту (с названием)\n",
        "\n",
        "3. Наличие ленты, в которой будут все твиты, упорядоченные по дате\n",
        "\n",
        "Сейчас мы разберемся с самой сложной частью (а именно с работой БД, а далее на семинаре построим уже отображение с точки зрения веба)"
      ],
      "metadata": {
        "id": "rjSkVPUaafV7"
      }
    },
    {
      "cell_type": "markdown",
      "source": [
        "### Структура проекта"
      ],
      "metadata": {
        "id": "E4hsKSzObY8C"
      }
    },
    {
      "cell_type": "markdown",
      "source": [
        "Первое, что надо сделать - создать структуру. Выглядеть она будет так:\n",
        "\n",
        "```\n",
        "/deep_twitter\n",
        "    deep_twitter.py\n",
        "    /static - статичные файлы (всякие CSS и JS для отрисовок)\n",
        "    /templates - шаблоны\n",
        "```"
      ],
      "metadata": {
        "id": "slXjKTkUbfAx"
      }
    },
    {
      "cell_type": "markdown",
      "source": [
        "### Хранение данных"
      ],
      "metadata": {
        "id": "c3qPQqlwcUit"
      }
    },
    {
      "cell_type": "markdown",
      "source": [
        "Надо бы где-нибудь данные хранить... А, точно, во Flask так тоже можно сделать! Для этого надо создать схему для таблиц\n",
        "\n",
        "Создаем файлик ```scheme.sql```, внутри которой напишем:\n",
        "\n",
        "```\n",
        "drop table if exists entries;\n",
        "create table entries (\n",
        "    id integer primary key autoincrement,\n",
        "    title text not null,\n",
        "    text text not null\n",
        ");\n",
        "```\n",
        "\n",
        "Что тут случилось? Мы создали табличку, которая у нас будет хранить все для ленты: id твита, название твита и сам текст"
      ],
      "metadata": {
        "id": "oi_ldLhecW3U"
      }
    },
    {
      "cell_type": "markdown",
      "source": [
        "### Разберемся с БД"
      ],
      "metadata": {
        "id": "-OUC19zcxwnp"
      }
    },
    {
      "cell_type": "markdown",
      "source": [
        "Напишем несколько функций, которые будут работать с нашим БД\n",
        "\n",
        "Будем работать с [sqlite3](https://docs.python.org/3/library/sqlite3.html), которая поддерживается Flaskом (на самом деле можно не только sqlite3 использовать, на с ним максимально просто)"
      ],
      "metadata": {
        "id": "ueAh6mm3yRMA"
      }
    },
    {
      "cell_type": "code",
      "source": [
        "import sqlite3\n",
        "import os\n",
        "from flask import Flask, request, redirect, url_for, abort, render_template, flash\n",
        "\n",
        "def connect_db():\n",
        "    \"\"\"Соединяет с указанной базой данных.\"\"\"\n",
        "    rv = sqlite3.connect(app.config['DATABASE']) # внутри конфигураций надо будет указать БД, в которую мы будем все хранить\n",
        "    rv.row_factory = sqlite3.Row #инстанс для итерации по строчкам (может брать по строке и выдавать)\n",
        "    return rv\n",
        "\n",
        "def get_db():\n",
        "    \"\"\"Если ещё нет соединения с базой данных, открыть новое - для текущего контекста приложения\"\"\"\n",
        "    if not hasattr(g, 'sqlite_db'): #g - это наша глобальная переменная, являющасяс объектом отрисовки\n",
        "        g.sqlite_db = connect_db()\n",
        "    return g.sqlite_db\n",
        "\n",
        "@app.teardown_appcontext #декоратор при разрыве connection\n",
        "def close_db(error): #закрытие может проходить как нормально, так и с ошибкой, которую можно обрабатывать\n",
        "    \"\"\"Закрываем БД при разрыве\"\"\"\n",
        "    if hasattr(g, 'sqlite_db'):\n",
        "        g.sqlite_db.close()\n",
        "\n",
        "def init_db():\n",
        "    \"\"\"Инициализируем наше БД\"\"\"\n",
        "    with app.app_context(): # внутри app_context app и g связаны\n",
        "        db = get_db()\n",
        "    with app.open_resource('schema.sql', mode='r') as f:\n",
        "        db.cursor().executescript(f.read())\n",
        "    db.commit()"
      ],
      "metadata": {
        "id": "tBUGFn_9x7GX"
      },
      "execution_count": null,
      "outputs": []
    },
    {
      "cell_type": "markdown",
      "source": [
        "Осталось написать функции, которые будут на сайте показывать записи, а также добавлять запись в БД"
      ],
      "metadata": {
        "id": "0QvHm09_zMuN"
      }
    },
    {
      "cell_type": "code",
      "source": [
        "@app.route('/')\n",
        "def show_entries():\n",
        "    db = get_db()\n",
        "    cur = db.execute('select title, text from entries order by id desc')\n",
        "    entries = cur.fetchall()\n",
        "    return render_template('show_entries.html', entries=entries)\n",
        "\n",
        "@app.route('/add', methods=['POST'])\n",
        "def add_entry():\n",
        "    if not session.get('logged_in'):\n",
        "        abort(401)\n",
        "    db = get_db()\n",
        "    db.execute('insert into entries (title, text) values (?, ?)', [request.form['title'], request.form['text']])\n",
        "    db.commit()\n",
        "    flash('New entry was successfully posted')\n",
        "    return redirect(url_for('show_entries'))"
      ],
      "metadata": {
        "id": "VjncKXEyzSxw"
      },
      "execution_count": null,
      "outputs": []
    },
    {
      "cell_type": "markdown",
      "source": [
        "## Jinja2"
      ],
      "metadata": {
        "id": "YX3Oa4fst0_I"
      }
    },
    {
      "cell_type": "markdown",
      "source": [
        "Давайте для начала нарисуем наш сайт, как он должен выглядеть. Для этого надо немного больше погрузиться в разметку Jinja2. Что основного необходимо знать про это?\n",
        "\n",
        "* {{ }} - через двойные скобки указываются переменные (которые мы можем указывать внутри функции render_template\n",
        "\n",
        "* {% %} - в таких скобках указываются всякие условия (с помощью которых можно кастомизировать ваш шаблон\n",
        "\n",
        "* {# #} - в таких скобках можно указывать комментарии\n",
        "\n",
        "Помимо того, чтобы передавать сами переменные, также можно передавать функции!\n",
        "Например, как сделать переадресацию без полного указания необходимой странички:"
      ],
      "metadata": {
        "id": "rVvGgS5PJOmM"
      }
    },
    {
      "cell_type": "markdown",
      "source": [
        "```\n",
        "{{ url_for('login') }}  - здесь мы передаем функцию url_for, генерируя ссылку куда нам надо\n",
        "```"
      ],
      "metadata": {
        "id": "WeePeAt9KHv0"
      }
    },
    {
      "cell_type": "markdown",
      "source": [
        "Давайте сразу же разберем условия:\n",
        "\n",
        "```\n",
        "{% if not session.logged_in %} - если выполняется условие\n",
        "(в данном случае параметр logged_in)\n",
        "\n",
        "<show_a> - покажи вот это\n",
        "\n",
        "{% else %} - Иначе\n",
        "\n",
        "<show_b> - покажи это\n",
        "\n",
        "{% endif %} - заканчиваем\n",
        "```\n",
        "\n",
        "Помимо классического if-else есть и elif (само собой)\n",
        "\n",
        "Можно не только условия делать, но можно и так же делать итерацию через for!\n",
        "\n",
        "```\n",
        "{% for value in values %}\n",
        "    <p>value</p> - вывести все value в отдельных абзацах\n",
        "{% endfor %}\n",
        "```"
      ],
      "metadata": {
        "id": "ZiirCiCuKtfZ"
      }
    },
    {
      "cell_type": "markdown",
      "source": [
        "### Наследование"
      ],
      "metadata": {
        "id": "5F3PViN4PZZp"
      }
    },
    {
      "cell_type": "markdown",
      "source": [
        "Отдельный пункт - это наследование. Что это значит?\n",
        "\n",
        "Опять-таки у вас есть страничка Вики ФКН. Вы видите, что у вас есть общие части (например header etc). Но мы же не хотим это прописывать для каждого сайта, верно?\n",
        "\n",
        "Ровно поэтому есть наследование внутри Jinja2. Вы можете отдельно написать общую часть (которая отвечает отдельно за неизменяемые части, чаще всего это называется layout), а после просто добавлять другие блоки. Как это сделать?\n",
        "\n",
        "Внутри родителя:\n",
        "\n",
        "```\n",
        "{% block body %}{% endblock %} - \"резервируем\" часть, которую может менять наследник\n",
        "```\n",
        "\n",
        "Внутри наследника:\n",
        "\n",
        "```\n",
        "{% extends \"base.html\" %} - указываем родителя, от чего наследуемся\n",
        "{% block body %} - указываем часть, которую меняем\n",
        "    <h1>Index</h1>\n",
        "    <p class=\"important\">\n",
        "      Welcome to my awesome homepage.\n",
        "    </p>\n",
        "{% endblock %}\n",
        "```"
      ],
      "metadata": {
        "id": "NyHByKUyPdjl"
      }
    },
    {
      "cell_type": "markdown",
      "source": [
        "А еще поддерживается подобное наследование:\n",
        "\n",
        "parent -> child -> grandchild\n",
        "\n",
        "И если вам внутри child и grandchild вы меняете один и тот же блок (и хотите их оба вызвать), то тогда можно обращаться на уровень выше с помощью:\n",
        "\n",
        "```\n",
        "{{ super() }} - выведи то, что было на уровень выше\n",
        "\n",
        "{{ super.super() }} - выведи то, что было на 2 уровня выше\n",
        "```"
      ],
      "metadata": {
        "id": "QIIrsrVARqVk"
      }
    },
    {
      "cell_type": "markdown",
      "source": [
        "### Фильтры"
      ],
      "metadata": {
        "id": "Al1BLnpzSfWs"
      }
    },
    {
      "cell_type": "markdown",
      "source": [
        "И последнее, о чем важно сказать для базового понимания - это фильтры. Скажем, что у вас есть переменная name, внутри которой строка \"hi there\"\n",
        "\n",
        "А нам не нравится, что все с маленькой буквы (ну не дело это). А в коде забыли поменять (или не могли предугадать). Что же делать? Для этого внутри Jinja2 есть [фильтры](https://jinja.palletsprojects.com/en/3.1.x/templates/#builtin-filters):\n",
        "\n",
        "```\n",
        "{{ \"%s, %s!\"|format(greeting, name) }} - фильтр format, который работает как format в питоне\n",
        "\n",
        "{{name | upper }} - сделать все КАПСОМ!\n",
        "```"
      ],
      "metadata": {
        "id": "NpbRpqyQShAr"
      }
    },
    {
      "cell_type": "markdown",
      "source": [
        "## Напишем странички!"
      ],
      "metadata": {
        "id": "4nhJhwoWTmv1"
      }
    },
    {
      "cell_type": "markdown",
      "source": [
        "Мы с вами напишем 3 страницы:\n",
        "\n",
        "* layout.html - общая выкладка, которая общая для всех (где можно залогиниться)\n",
        "\n",
        "* show_entries.html - показать твиты наши\n",
        "\n",
        "* login.html - страница для того, чтобы залогиниться"
      ],
      "metadata": {
        "id": "b9YtKalrTst2"
      }
    },
    {
      "cell_type": "markdown",
      "source": [
        "### Шаг 1. layout.html"
      ],
      "metadata": {
        "id": "zmVgCOTRWORB"
      }
    },
    {
      "cell_type": "markdown",
      "source": [
        "```\n",
        "<!doctype html>\n",
        "\n",
        "<title>Twitter</title>\n",
        "\n",
        "<div class=page>\n",
        "<h1>Twitter</h1>\n",
        "\n",
        "<div class=metanav>\n",
        "\n",
        "{% if not session.logged_in %}\n",
        "    <a href=\"{{ url_for('login') }}\">log in</a> {% else %}\n",
        "    <a href=\"{{ url_for('logout') }}\">log out</a> {% endif %}\n",
        "\n",
        "</div>\n",
        "\n",
        "<img src=\"{{ url_for('static', filename='meme.jpg') }}\">\n",
        "\n",
        "{% for message in get_flashed_messages() %}\n",
        "    <div class=flash>{{ message }}</div>\n",
        "{% endfor %}\n",
        "\n",
        "{% block body %}{% endblock %}\n",
        "\n",
        "</div>\n",
        "```"
      ],
      "metadata": {
        "id": "eMeXk54DWUAc"
      }
    },
    {
      "cell_type": "markdown",
      "source": [
        "### Шаг 2. login.html"
      ],
      "metadata": {
        "id": "wr0C6ALRWoIu"
      }
    },
    {
      "cell_type": "markdown",
      "source": [
        "```\n",
        "{% extends \"layout.html\" %}\n",
        "{% block body %}\n",
        "\n",
        "<h2>Login</h2>\n",
        "\n",
        "{% if error %}\n",
        "    <p class=error><strong>Error:</strong> {{ error }}\n",
        "{% endif %}\n",
        "\n",
        "<form action=\"{{ url_for('login') }}\" method=post>\n",
        "<dl>\n",
        "<dt>Username:\n",
        "<dd><input type=text name=username>\n",
        "<dt>Password:\n",
        "<dd><input type=password name=password>\n",
        "<dd><input type=submit value=Login>\n",
        "</dl>\n",
        "</form>\n",
        "\n",
        "{% endblock %}\n",
        "```"
      ],
      "metadata": {
        "id": "oFTpMhYKWtxg"
      }
    },
    {
      "cell_type": "markdown",
      "source": [
        "### Шаг 3. show_entries.html"
      ],
      "metadata": {
        "id": "G9AW4G0bW-Md"
      }
    },
    {
      "cell_type": "markdown",
      "source": [
        "```\n",
        "{% extends \"layout.html\" %} {% block body %}\n",
        "\n",
        "{% if session.logged_in %}\n",
        "\n",
        "    <form action=\"{{ url_for('add_entry') }}\" method=post class=add-entry>\n",
        "    <dl>\n",
        "    <dt>Title:\n",
        "    <dd><input type=text size=30 name=title>\n",
        "    <dt>Text:\n",
        "    <dd><textarea name=text rows=5 cols=40></textarea> <dd><input type=submit value=Share>\n",
        "    </dl>\n",
        "    </form>\n",
        "{% endif %}\n",
        "\n",
        "<ul class=entries>\n",
        "\n",
        "{% for entry in entries %}\n",
        "    <li><h2>{{ entry.title }}</h2>{{ entry.text|safe }}\n",
        "{% else %}\n",
        "    <li><em>Unbelievable. No entries here so far</em>\n",
        "{% endfor %}\n",
        "\n",
        "</ul>\n",
        "\n",
        "{% endblock %}\n",
        "```"
      ],
      "metadata": {
        "id": "1UoKcdxWXB0_"
      }
    },
    {
      "cell_type": "markdown",
      "source": [
        "## А теперь опять к коду!"
      ],
      "metadata": {
        "id": "GFkgdLEAXX0S"
      }
    },
    {
      "cell_type": "markdown",
      "source": [
        "Какие методы у нас есть?\n",
        "\n",
        "* Зайти на начальную страницу\n",
        "\n",
        "* Логирование/разлогирование\n",
        "\n",
        "* Показать все посты (это мы уже сделали)\n",
        "\n",
        "* Сделать свой собственный пост (это сделали)"
      ],
      "metadata": {
        "id": "SiobfgARXllf"
      }
    },
    {
      "cell_type": "markdown",
      "source": [
        "### Задание 1"
      ],
      "metadata": {
        "id": "HO7uGrryYHIp"
      }
    },
    {
      "cell_type": "markdown",
      "source": [
        "\n",
        "Напишите функцию, которая приведет на главную страницу"
      ],
      "metadata": {
        "id": "u4AtpxwdYODD"
      }
    },
    {
      "cell_type": "code",
      "source": [
        "from flask import Flask, request, session, g, redirect, url_for, abort, render_template, flash\n",
        "\n",
        "@app.route('/')\n",
        "def hello_page():\n",
        "    return render_template(\"layout.html\")"
      ],
      "metadata": {
        "id": "zD3K78YXYPJq"
      },
      "execution_count": null,
      "outputs": []
    },
    {
      "cell_type": "markdown",
      "source": [
        "### Задание 2"
      ],
      "metadata": {
        "id": "SzJiQNlAYQVL"
      }
    },
    {
      "cell_type": "markdown",
      "source": [
        "Напишите код для разлогирования (после разлогирования мы должны вывести плашку, что мы вышли, и также перевести на главный экран)"
      ],
      "metadata": {
        "id": "GqZF73FMYXU8"
      }
    },
    {
      "cell_type": "code",
      "source": [
        "@app.route('/logout')\n",
        "def logout():\n",
        "    session.pop('logged_in', None)\n",
        "    flash('You were logged out, wow')\n",
        "    return redirect(url_for('hello_page'))"
      ],
      "metadata": {
        "id": "4U0FLc3yYnqq"
      },
      "execution_count": null,
      "outputs": []
    },
    {
      "cell_type": "markdown",
      "source": [
        "### Задание 3"
      ],
      "metadata": {
        "id": "X4PKXfJTYsZI"
      }
    },
    {
      "cell_type": "markdown",
      "source": [
        "Напишите функцию, которая будет производить логирование"
      ],
      "metadata": {
        "id": "5VLIn-_FY6W4"
      }
    },
    {
      "cell_type": "markdown",
      "source": [
        "Что здесь важно?\n",
        "\n",
        "Во-первых, у нас есть ошибка, которую надо будет отправлять для странички (что же не так, если пользователь ошибся)\n",
        "\n",
        "Во-вторых, а как определить, что пользователь ввел то, что нужно, у нас же не было никакой регистрации? Для этого мы должны добавить конфигурации (добавим админа, у нас же тут пока сырой проект):"
      ],
      "metadata": {
        "id": "k7wz0KxtY_cS"
      }
    },
    {
      "cell_type": "code",
      "source": [
        "import sqlite3\n",
        "\n",
        "DATABASE = '/tmp/flaskr.db'\n",
        "DEBUG = True\n",
        "SECRET_KEY = 'development key'\n",
        "USERNAME = 'admin'\n",
        "PASSWORD = 'default'\n",
        "\n",
        "app = Flask(__name__)\n",
        "app.config.from_object(__name__)\n",
        "\n",
        "app.config.update(dict(\n",
        "    DATABASE=os.path.join(app.root_path, 'flaskr.db'),\n",
        "    DEBUG=True,\n",
        "    SECRET_KEY='development key',\n",
        "    USERNAME='admin',\n",
        "    PASSWORD='default'))\n",
        "\n",
        "app.config.from_envvar('FLASKR_SETTINGS', silent=True)"
      ],
      "metadata": {
        "id": "fY32P2S_ZYyo"
      },
      "execution_count": null,
      "outputs": []
    },
    {
      "cell_type": "code",
      "source": [
        "@app.route('/login', methods=['GET', 'POST'])\n",
        "def login():\n",
        "    error = None\n",
        "    if request.method == 'POST':\n",
        "        if request.form['username'] != app.config['USERNAME']:\n",
        "            error = 'Invalid username'\n",
        "        elif request.form['password'] != app.config['PASSWORD']:\n",
        "            error = 'Invalid password'\n",
        "        else:\n",
        "            session['logged_in'] = True\n",
        "            flash('You were logged in')\n",
        "            return redirect(url_for('show_entries'))\n",
        "    return render_template('login.html', error=error)"
      ],
      "metadata": {
        "id": "ZqM7iZRKXl5C"
      },
      "execution_count": null,
      "outputs": []
    },
    {
      "cell_type": "markdown",
      "source": [
        "## Соединяем и запускаем!"
      ],
      "metadata": {
        "id": "EcAQu6a4ZzcL"
      }
    },
    {
      "cell_type": "markdown",
      "source": [
        "Странная фигня получилась, верно?..\n",
        "\n",
        "Не хватает верстки (сделать бы шрифт другой, цвет, сделать resize картинки)..\n",
        "\n",
        "Вот для этого всего есть CSS!"
      ],
      "metadata": {
        "id": "TJTdlm1HaBjk"
      }
    },
    {
      "cell_type": "markdown",
      "source": [
        "### CSS"
      ],
      "metadata": {
        "id": "mPoxx1-8aQ2w"
      }
    },
    {
      "cell_type": "markdown",
      "source": [
        "CSS (Cascading Style Sheets) - это правила для внешнего вида нашего HTML-документа (которые мы видели абсолютно везде, на всех сайтах), без этого не было бы никакой красоты"
      ],
      "metadata": {
        "id": "ino5mJqHajUh"
      }
    },
    {
      "cell_type": "markdown",
      "source": [
        "Как можно задавать стиль? Структура любого CSS-документа выглядит как:\n",
        "\n",
        "<для чего применить правило> - { <свойсто:значение; свойство:значение> }\n",
        "\n",
        "Свойств достаточно [много](https://html5book.ru/css-spravochnik.html), давайте на примере разберемся, что внутри CSS документа:\n",
        "\n"
      ],
      "metadata": {
        "id": "3hfweYVybUSY"
      }
    },
    {
      "cell_type": "markdown",
      "source": [
        "```\n",
        "Часть I - накидываем свойства на тэги\n",
        "\n",
        "body { font-family: sans-serif; background: #eee; }\n",
        "a, h1, h2  { color: #377ba8; }\n",
        "h1, h2 { font-family: 'Georgia', serif; margin: 0; }\n",
        "h1 { border-bottom: 2px solid #eee; }\n",
        "h2 { font-size: 1.2em; }\n",
        "img {width: 35em;}\n",
        "\n",
        "Часть II - накидываем свойства на классы (всегда с точкой)\n",
        "\n",
        ".page { margin: 2em auto; width: 35em; border: 5px solid #ccc; padding: 0.8em; background: white; }\n",
        ".entries  { list-style: none; margin: 0; padding: 0; }\n",
        ".entries li {margin: 0.8em 1.2em}\n",
        "\n",
        "Отдельный случай - здесь указывается форматирования для всех li внутри класса .entries\n",
        "\n",
        "\n",
        ".entries li h2 { margin-left: -1em; }\n",
        ".add_entry { font-size: 0.9em; border-bottom: 1px solid #ccc; }\n",
        ".add_entry dl { font-weight: bold; }\n",
        ".metanav { text-align: right; font-size: 0.8em; padding: 0.3em; margin-bottom: 1em; background: #fafafa;}\n",
        ".flash { background: #cee5F5; padding: 0.5em; border: 1px solid #aacbe2; }\n",
        ".border { background: #f0d6d6; padding: 0.5em; }\n",
        "\n",
        "Если хотим для тэга с классом - то будет li.entries (как вариант)\n",
        "```"
      ],
      "metadata": {
        "id": "QkaOdaQmaV4Q"
      }
    },
    {
      "cell_type": "markdown",
      "source": [
        "А как решаются конфликты?\n",
        "\n",
        "Допустим, что вы в одном месте указали, что текст должен быть красным, а в другом синим, кто победит?\n",
        "\n",
        "Ответ: что позже идет в документе, то и выигрывает (на то оно и называется каскадированным)"
      ],
      "metadata": {
        "id": "a_ktnPOsc-Yd"
      }
    },
    {
      "cell_type": "markdown",
      "source": [
        "И вот теперь соединив все это, вы получаете нужный результат! Победа!"
      ],
      "metadata": {
        "id": "lHcXMQNmdMCH"
      }
    },
    {
      "cell_type": "markdown",
      "source": [
        "## Животное дня"
      ],
      "metadata": {
        "id": "bRBavKLsJbw-"
      }
    },
    {
      "cell_type": "markdown",
      "source": [
        "![](https://animaljournal.ru/articles/wild/primati/koshachiy_lemur/detenish_lemura1.jpg)"
      ],
      "metadata": {
        "id": "Po6ms7FNJ3v4"
      }
    },
    {
      "cell_type": "markdown",
      "source": [
        "Это кошачий лемур. Их все так или иначе видели (по крайней мере вот в таком виде):"
      ],
      "metadata": {
        "id": "kk6rs4ERJ5YS"
      }
    },
    {
      "cell_type": "markdown",
      "source": [
        "![](https://www.meme-arsenal.com/memes/819abc6f23381d803a640e91092ea4a1.jpg)"
      ],
      "metadata": {
        "id": "OSsmBDTgKEce"
      }
    },
    {
      "cell_type": "markdown",
      "source": [
        "На Мадагаскаре (где они и обитают) их зовут маки! По размерам как кошка (действительно), при этом хвост может весить примерно половину от всего веса лемура, и это неудивительно - хвост лемура играют важную роль в его жизни.\n",
        "\n",
        "Помимо самых понятных прикладных функций (с помощью хвоста лемуры удерживают равновесие, будучи на ветках, а также балансируют с его помощью при прыжке), хвост также выполняет социальные функции\n",
        "\n",
        "С его помощью он более заметен своим сородичам, а также показывают, кто здесь главный (через секрет, которым они этот самый хвост обмазывают)\n",
        "\n",
        "А еще посмотрите, как они сидят)"
      ],
      "metadata": {
        "id": "GLj3Arp-KMQr"
      }
    },
    {
      "cell_type": "markdown",
      "source": [
        "![](https://upload.wikimedia.org/wikipedia/commons/thumb/9/93/Ring.tailed.lemur.situp.arp.jpg/1024px-Ring.tailed.lemur.situp.arp.jpg)"
      ],
      "metadata": {
        "id": "2yPxHCkDLaEC"
      }
    },
    {
      "cell_type": "markdown",
      "source": [
        "Лемуры - социальные животные, живут группой по 30 особей (причем у них матриархат), причем у них максимально яркая социальность: будучи одни, они просто с ума сходят, поэтому нормально изучить их когнитивные способности достаточно сложно"
      ],
      "metadata": {
        "id": "Kh7Sr2VHLptu"
      }
    }
  ]
}