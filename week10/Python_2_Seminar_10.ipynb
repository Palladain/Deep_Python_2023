{
  "nbformat": 4,
  "nbformat_minor": 0,
  "metadata": {
    "colab": {
      "provenance": [],
      "collapsed_sections": [
        "RYqKKu6ZeET0",
        "yh0EgTRUMV8W",
        "fYVPxhLc1j6u",
        "j8YJ5xIxdkDN",
        "BCGWKJdAJ6Ym"
      ]
    },
    "kernelspec": {
      "name": "python3",
      "display_name": "Python 3"
    },
    "language_info": {
      "name": "python"
    }
  },
  "cells": [
    {
      "cell_type": "markdown",
      "source": [
        "# Продвинутый Python, семинар 10\n",
        "\n",
        "**Лектор:** Петров Тимур\n",
        "\n",
        "**Семинаристы:** Петров Тимур, Коган Александра, Бузаев Федор, Дешеулин Олег\n",
        "\n",
        "**Spoiler Alert:** в рамках курса нельзя изучить ни одну из тем от и до досконально (к сожалению, на это требуется больше времени, чем даже 3 часа в неделю). Но мы попробуем рассказать столько, сколько возможно :)"
      ],
      "metadata": {
        "id": "4DB45ts6MJ4i"
      }
    },
    {
      "cell_type": "markdown",
      "source": [
        "## Docker"
      ],
      "metadata": {
        "id": "RYqKKu6ZeET0"
      }
    },
    {
      "cell_type": "markdown",
      "source": [
        "### Но... зачем?"
      ],
      "metadata": {
        "id": "9tC9yWI8zOJN"
      }
    },
    {
      "cell_type": "markdown",
      "source": [
        "Теперь мы перешли к самой сложной части - про докер.\n",
        "\n",
        "Что такое докер? Представьте себе ситуацию: у вас есть приложение, которое вы хотите запустить и показать всему миру, какие вы классные. Что делать?\n",
        "\n",
        "Можно, конечно, создать виртуалку, на нее накинуть приложение и там все делать. Но в какой-то момент вам придется класть туда несколько приложений и дальше начинается катавасия с загруженностью процесса. В какой-то момент одно приложение может стрельнуть (например, если у вас отдельное приложение для новостей, куда зайдет сразу дофига людей), сожрет все процессы и остальные части будут страдать. А еще же люди заходят с разными ОС, и надо конфигурации разные иметь, чтобы у всех все работало. Вот для этих вещей и есть контейнеры\n",
        "\n",
        "Что такое контейнер? Это способ стандартизации развертки приложения и отделения его от общей инфраструктуры. Экземпляр приложения запускается в изолированной среде, не влияющей на основную операционную систему\n",
        "\n",
        "\n",
        "![](https://d1.awsstatic.com/Developer%20Marketing/containers/monolith_2-VM-vs-Containers.78f841efba175556d82f64d1779eb8b725de398d.png)\n",
        "\n",
        "Контейнер позволяют:\n",
        "\n",
        "1. упаковать в единый образ приложение и все его зависимости: библиотеки, системные утилиты и файлы настройки. Это упрощает перенос приложения на другую инфраструктуру\n",
        "\n",
        "2. приложения работают только внутри контейнеров и не имеют доступа к основной операционной системе. Это повышает безопасность приложений:они не смогут случайно или умышленно навредить основной системе. Если приложение в контейнере завершится с ошибкой или зависнет, это никак не затронет основную ОС (изоляция ресурсов)\n",
        "\n",
        "3. избавляет от зависимости ОС: достаточно добавить необходимую конфигурацию в контейнер вместо процесса эмулирования одной ОС на другой (что трудозатратно)\n",
        "\n",
        "4. За счет оптимизации контейнеров получаем также меньшую загрузку"
      ],
      "metadata": {
        "id": "VHE-VD0t9Kgz"
      }
    },
    {
      "cell_type": "markdown",
      "source": [
        "### Ну что же, начнем"
      ],
      "metadata": {
        "id": "L49SMJvAe0sb"
      }
    },
    {
      "cell_type": "markdown",
      "source": [
        "Первое, что надо сделать - это загрузить образ из Docker Hub. Образ (Image) - это схема нашего приложения, основа контейнера, с помощью которого его можно запустить. Все возможные образы хранятся [здесь](https://hub.docker.com/search?q=&type=image) (можно будет добавить сюда же и свои образы, которые вам необходимы)\n",
        "\n",
        "Загрузим самый простой образ - busybox (дальше будет работа в терминале, а не в Колабе)"
      ],
      "metadata": {
        "id": "fpUKlp1ne29e"
      }
    },
    {
      "cell_type": "code",
      "source": [
        "docker pull busybox # загрузи образ busybox, если Permission denied, то запустите с sudo\n",
        "docker images # посмотреть на все загруженные образы\n",
        "docker rmi busybox # удалить образ"
      ],
      "metadata": {
        "id": "cte-Y0V7eGks"
      },
      "execution_count": null,
      "outputs": []
    },
    {
      "cell_type": "markdown",
      "source": [
        "Отлично, загрузили, давайте запускать!"
      ],
      "metadata": {
        "id": "5GOlBl0kf-Jb"
      }
    },
    {
      "cell_type": "code",
      "source": [
        "docker run busybox # ничего не случилось, потому что мы ничего и не задали\n",
        "docker run busybox echo \"Hello\" # о, что-то выдал\n",
        "docker ps # посмотреть запущенные контейнеры (их пока нет, потому что прошлые кончились)\n",
        "docker ps -a # посмотреть все контейнеры\n",
        "docker run -it busybox sh #запустить на больше, чем 1 команду (-it - флаг интерактива)"
      ],
      "metadata": {
        "id": "dW_LXIZThi8S"
      },
      "execution_count": null,
      "outputs": []
    },
    {
      "cell_type": "markdown",
      "source": [
        "Все запушенные и кончившиеся контейнеры занимают место, поэтому их еще стоит удалять (как минимум те, которые завершили свое действие)"
      ],
      "metadata": {
        "id": "jN4bg8MkiT1d"
      }
    },
    {
      "cell_type": "code",
      "source": [
        "docker rm <ids> # удалить все ненужные контейнеры\n",
        "docker rm $(docker ps -a -q -f status=exited) # чтобы не копировать все id\n",
        "# -a все контейнеры, -q  - вывести только ID, -f - фильтр (на статус закончившися exited)"
      ],
      "metadata": {
        "id": "YX5ZClgDicMC"
      },
      "execution_count": null,
      "outputs": []
    },
    {
      "cell_type": "markdown",
      "source": [
        "Обратите внимание сверху на значок Docker (MacOS). Видим, что Docker работает. Что это значит? Что у нас запушен процесс, с помощью которого это все вообще происходит (так называемый Docker Daemon)"
      ],
      "metadata": {
        "id": "1WT-HeUNjB4W"
      }
    },
    {
      "cell_type": "markdown",
      "source": [
        "### Запустим сайт из под капота"
      ],
      "metadata": {
        "id": "I4OHH8kozCTS"
      }
    },
    {
      "cell_type": "markdown",
      "source": [
        "Окей, повеселились с каким-то образом. Как приложения-то запускать? Давайте попробуем запустить какой-нибудь более интересный образ"
      ],
      "metadata": {
        "id": "xtbsVg98jYiB"
      }
    },
    {
      "cell_type": "code",
      "source": [
        "docker pull prakhar1989/static-site\n",
        "docker run prakhar1989/static-site #ничего не происходит, видим просто что is running\n",
        "docker stop $(docker ps -a -q -f status=running) #выключаем все активные контейнеры\n",
        "docker run -d -P --name static-site prakhar1989/static-site #давайте сделаем так:\n",
        "# -d - открепляем наш терминал от контейнера(не будет прикреплен, можем продолжить работу в терминале)\n",
        "# -P - сделаем порты открытыми и публичными, чтобы подключиться\n",
        "# --name переименуем для удоства в static-site\n",
        "docker port static-site #смотрим на порты, открываем на localhost:<порт>"
      ],
      "metadata": {
        "id": "6OUIrOl6jXyc"
      },
      "execution_count": null,
      "outputs": []
    },
    {
      "cell_type": "markdown",
      "source": [
        "Ура, запустили простенький сайт! А если поменять порт? Можно"
      ],
      "metadata": {
        "id": "1HME4SyAlSFG"
      }
    },
    {
      "cell_type": "code",
      "source": [
        "docker run -d -P -p 8888:80 prakhar1989/static-site --name static-site prakhar1989/static-site #теперь он на порту 8888\n",
        "# окей, остановим все и удалим"
      ],
      "metadata": {
        "id": "_PMzMh7VlawV"
      },
      "execution_count": null,
      "outputs": []
    },
    {
      "cell_type": "markdown",
      "source": [
        "### Хотим быть крутыми со своим образом!"
      ],
      "metadata": {
        "id": "EhgX2qTDzGF4"
      }
    },
    {
      "cell_type": "markdown",
      "source": [
        "Теперь хотим создать свой собственный образ и сделать еще интереснее. Образы делятся на 2 типа:\n",
        "\n",
        "* Официальные образы - поддерживаются командой docker, скачать можно по названию (например, docker pull python)\n",
        "\n",
        "* Неофициальные образы - образ, созданный пользователем, чаще всего выглядит как user/name"
      ],
      "metadata": {
        "id": "T1pC2sMgoXb2"
      }
    },
    {
      "cell_type": "markdown",
      "source": [
        "Скачаем простенький сайт, сделанный на Flask (о нем мы будет говорить в других семинарах) и запустим его локально"
      ],
      "metadata": {
        "id": "2g_LyDA-qoiR"
      }
    },
    {
      "cell_type": "code",
      "source": [
        "git clone https://github.com/prakhar1989/docker-curriculum.git #скачаем для простого приложения на Flask (о нем мы будет говорить в других семинарах)\n",
        "cd docker-curriculum/flask-app; pip install -r requirements.txt #установим все, что нужно для сайта\n",
        "vim app.py #для того, чтобы у меня запустилась, так как порт 5000 у меня занят, я поменял в коде на 8888\n",
        "python app.py"
      ],
      "metadata": {
        "id": "BieoVS1UpG7w"
      },
      "execution_count": null,
      "outputs": []
    },
    {
      "cell_type": "markdown",
      "source": [
        "Получилось! Теперь создадим образ с этим приложением. Что нужно?\n",
        "\n",
        "Так как сайт написан на Python, то надо скачать базовый образ python"
      ],
      "metadata": {
        "id": "fKmxqUANqx5t"
      }
    },
    {
      "cell_type": "code",
      "source": [
        "docker pull python:3-onbuild #Какой onbuild, це шо? Это надстройка при запуске возьмет на requirements.txt и установит за нас все, что нужно\n",
        "# То есть такой помощник при запуске"
      ],
      "metadata": {
        "id": "SIQifsR2q_lV"
      },
      "execution_count": null,
      "outputs": []
    },
    {
      "cell_type": "markdown",
      "source": [
        "Теперь надо как-то соединить приложение и образ. Это делается с помощью DockerFile - текстовый документ для автоматизации сборки (код для DockerFile почти идентичен аналогам bash)\n",
        "\n",
        "Создаем там же, где и наше приложение файл Dockerfile и прописываем:"
      ],
      "metadata": {
        "id": "C1gCamwvrlia"
      }
    },
    {
      "cell_type": "code",
      "source": [
        "vim Dockerfile"
      ],
      "metadata": {
        "id": "1GhIiSYQsOLx"
      },
      "execution_count": null,
      "outputs": []
    },
    {
      "cell_type": "code",
      "source": [
        "FROM python:3-onbuild #указываем образ, который надо использовать\n",
        "\n",
        "#благодаря тому, что у нас onbuild, нам не надо копировать файлы и устанавливать зависимости здесь\n",
        "\n",
        "EXPOSE 8888 #говорим, на какой порт это все отправлять\n",
        "\n",
        "CMD [\"python\", \"./app.py\"] # команды для запуска (то есть что надо сделать)"
      ],
      "metadata": {
        "id": "t6NghDySsT4U"
      },
      "execution_count": null,
      "outputs": []
    },
    {
      "cell_type": "markdown",
      "source": [
        "Осталось собрать образ через docker build:"
      ],
      "metadata": {
        "id": "1YXybSwZszSf"
      }
    },
    {
      "cell_type": "code",
      "source": [
        "docker build -t palladain7/catgif . #здесь надо зарегаться на Docker Hub (это быстро) и в качестве user ввести свой ник\n",
        "docker run -p 8888:8888 palladain/catgif #собрали-запустили\n",
        "docker images #проверяем образ"
      ],
      "metadata": {
        "id": "7ISTmHENs2d3"
      },
      "execution_count": null,
      "outputs": []
    },
    {
      "cell_type": "markdown",
      "source": [
        "Ура, мы собрали образ докера! Теперь осталось его загрузить на Docker Hub, чтобы его могли увидеть все и использовать)"
      ],
      "metadata": {
        "id": "wmlMnMKpvJaR"
      }
    },
    {
      "cell_type": "code",
      "source": [
        "docker login #вначале надо авторизоваться\n",
        "docker push palladain7/catgif #пушим\n",
        "https://hub.docker.com/r/palladain7/catgif/ - проверяем, успех"
      ],
      "metadata": {
        "id": "xm-qlptCvhRs"
      },
      "execution_count": null,
      "outputs": []
    },
    {
      "cell_type": "markdown",
      "source": [
        "## А теперь со всей этой информации можно уже и бота загрузить на docker!"
      ],
      "metadata": {
        "id": "yh0EgTRUMV8W"
      }
    },
    {
      "cell_type": "markdown",
      "source": [
        "### Делаем бота сильным и независимым"
      ],
      "metadata": {
        "id": "DUV2mVoEJkGk"
      }
    },
    {
      "cell_type": "code",
      "source": [
        "%%writefile bot.py\n",
        "\n",
        "from random import seed, randrange\n",
        "from time import time\n",
        "import telebot\n",
        "from telebot import types\n",
        "\n",
        "TOKEN = '5674479560:AAHI0lWyLHZQUa91Di-6NmNqdWbE7lL_6H8' # указываем токен нашего бота (для этого надо создать бота в @BotFather)\n",
        "# Создайте собственного бота, чтобы наши наработки друг друга не перебивали\n",
        "\n",
        "bot = telebot.TeleBot(TOKEN) # инициализируем нашего бота\n",
        "\n",
        "parrots = {1: 'https://cindygurmann.files.wordpress.com/2018/06/ea2530ad-e913-4d5b-8036-762b5b227c04.jpeg',\n",
        "           2: 'https://cherepah.ru/wp-content/uploads/2/2/8/228937ec782b8755993a3241e1d6c039.jpeg',\n",
        "           3: 'https://kotsobaka.com/wp-content/uploads/2018/08/2748131046_8a253489b5_b.jpg',\n",
        "           4: 'https://bestpopugai.ru/wp-content/uploads/2022/05/1-5.jpg',\n",
        "           5: 'https://i.artfile.ru/1920x1200_952300_[www.ArtFile.ru].jpg',\n",
        "           6: 'https://kipmu.ru/wp-content/uploads/pchppgks.jpg'}\n",
        "\n",
        "favourite_parrot = 'https://pet7.ru/wp-content/uploads/2017/09/Popugaj-zhako-osobennosti-vida.jpg'\n",
        "\n",
        "parrot_gif = 'https://i1.wp.com/cdn.dribbble.com/users/104127/screenshots/2589080/parrots.gif'\n",
        "\n",
        "@bot.message_handler(commands=['start'])\n",
        "def hello_message(message):\n",
        "    markup = types.ReplyKeyboardMarkup(resize_keyboard=True, row_width=2) # указываем, сколько кнопок может быть в строке\n",
        "    item_1 = types.KeyboardButton(\"Любимый попугай\")\n",
        "    item_2 = types.KeyboardButton(\"🎲\")\n",
        "    markup.add(item_1, item_2) #добавляем\n",
        "    bot.send_message(message.chat.id, \"Привет, тут будут попугаи!\", reply_markup=markup)\n",
        "\n",
        "@bot.message_handler(content_types=['text', 'emoji'])\n",
        "def message_reply(message):\n",
        "    if message.text==\"Любимый попугай\":\n",
        "        markup = types.ReplyKeyboardMarkup()\n",
        "        item = types.KeyboardButton(text='Хочу GIF-ку!')\n",
        "        markup.add(item)\n",
        "        bot.send_photo(message.chat.id, favourite_parrot, reply_markup = markup)\n",
        "    elif message.text == \"🎲\":\n",
        "        r = bot.send_dice(message.chat.id)\n",
        "        bot.send_photo(message.chat.id, parrots[r.dice.value])\n",
        "    elif message.text == 'Хочу GIF-ку!':\n",
        "        markup = types.InlineKeyboardMarkup()\n",
        "        item = types.InlineKeyboardButton(text='Ссылка', url=parrot_gif)\n",
        "        item_1 = types.InlineKeyboardButton(text='Переслать', switch_inline_query=parrot_gif)\n",
        "        markup.add(item, item_1)\n",
        "        bot.send_animation(message.chat.id, parrot_gif, reply_markup = markup)\n",
        "        markup = types.ReplyKeyboardMarkup(resize_keyboard=True, row_width=2) # указываем, сколько кнопок может быть в строке\n",
        "        item_1 = types.KeyboardButton(\"Любимый попугай\")\n",
        "        item_2 = types.KeyboardButton(\"🎲\")\n",
        "        markup.add(item_1, item_2) #добавляем\n",
        "        bot.send_message(message.chat.id, \"Еще попуги!\", reply_markup = markup)\n",
        "\n",
        "@bot.inline_handler(func=lambda query: len(query.query) > 0)\n",
        "def query_text(query):\n",
        "    try:\n",
        "        seed(int(time()))\n",
        "        size = randrange(1, 100)\n",
        "        print(size)\n",
        "        r_sum = types.InlineQueryResultArticle(\n",
        "                id='1', title=\"Папуг!\",\n",
        "                input_message_content = types.InputTextMessageContent(message_text=\"Ваш папуг \" + str(size) + \" размера\" )\n",
        "        )\n",
        "        bot.answer_inline_query(query.id, [r_sum])\n",
        "    except Exception as e:\n",
        "        print(\"{!s}\\n{!s}\".format(type(e), str(e)))\n",
        "\n",
        "bot.polling(none_stop=True, interval=0) #запускаем нашего бота"
      ],
      "metadata": {
        "colab": {
          "base_uri": "https://localhost:8080/"
        },
        "id": "BwpoeQWFJlje",
        "outputId": "4997b1c1-67e2-4f50-a300-14f85aeb37d6"
      },
      "execution_count": null,
      "outputs": [
        {
          "output_type": "stream",
          "name": "stdout",
          "text": [
            "Writing bot.py\n"
          ]
        }
      ]
    },
    {
      "cell_type": "markdown",
      "source": [
        "Вспоминаем, как работать с докером:"
      ],
      "metadata": {
        "id": "Vo4Sv_JdMXHG"
      }
    },
    {
      "cell_type": "code",
      "source": [
        "docker pull python:3-onbuild\n",
        "\n",
        "vim Dockerfile"
      ],
      "metadata": {
        "id": "mZ8FSyy_MaDo"
      },
      "execution_count": null,
      "outputs": []
    },
    {
      "cell_type": "code",
      "source": [
        "FROM python:3-onbuild #указываем образ, который надо использовать\n",
        "\n",
        "#благодаря тому, что у нас onbuild, нам не надо копировать файлы и устанавливать зависимости здесь\n",
        "\n",
        "EXPOSE 8888 #говорим, на какой порт это все отправлять\n",
        "\n",
        "CMD [\"python\", \"bot.py\"] # команды для запуска (то есть что надо сделать)"
      ],
      "metadata": {
        "id": "93MA-dsKNZYn"
      },
      "execution_count": null,
      "outputs": []
    },
    {
      "cell_type": "code",
      "source": [
        "docker build -t palladain7/catgif . #здесь надо зарегаться на Docker Hub (это быстро) и в качестве user ввести свой ник\n",
        "docker run -d -P -p 8888:8888 palladain/catgif #собрали-запустили\n",
        "docker images #проверяем образ"
      ],
      "metadata": {
        "id": "akWgl2w3NcmW"
      },
      "execution_count": null,
      "outputs": []
    },
    {
      "cell_type": "markdown",
      "source": [
        "## XML"
      ],
      "metadata": {
        "id": "fYVPxhLc1j6u"
      }
    },
    {
      "cell_type": "markdown",
      "source": [
        "BS также умеет парсить XML, но что это такое?\n",
        "\n",
        "XML (eXtensible Markup Language) - так называемый расширяемый язык разметки. Выглядит он примерно так же, как и HTML, только тэги не являются командами, по существу. Давайте разберем на примере:"
      ],
      "metadata": {
        "id": "LpzO8Rk0USty"
      }
    },
    {
      "cell_type": "code",
      "source": [
        "!cat external-40779.xml"
      ],
      "metadata": {
        "id": "kxnSHh86UooD"
      },
      "execution_count": null,
      "outputs": []
    },
    {
      "cell_type": "markdown",
      "source": [
        "Что видим? Тэг открытия-закрытия, и тэги, внутри которых лежат параметры. А также внутри тэгов могут лежать тэги или текст. В целом, почти как HTML\n",
        "\n",
        "Для обработки XML есть отдельная [библиотека](https://lxml.de/)"
      ],
      "metadata": {
        "id": "nfz1hL96U-rx"
      }
    },
    {
      "cell_type": "code",
      "source": [
        "!pip install lxml"
      ],
      "metadata": {
        "colab": {
          "base_uri": "https://localhost:8080/"
        },
        "id": "pQw_blZTWMi3",
        "outputId": "61f24d7a-b099-4d41-eb56-27ef6d1b6363"
      },
      "execution_count": null,
      "outputs": [
        {
          "output_type": "stream",
          "name": "stdout",
          "text": [
            "Looking in indexes: https://pypi.org/simple, https://us-python.pkg.dev/colab-wheels/public/simple/\n",
            "Requirement already satisfied: lxml in /usr/local/lib/python3.7/dist-packages (4.9.1)\n"
          ]
        }
      ]
    },
    {
      "cell_type": "code",
      "source": [
        "from lxml import etree\n",
        "\n",
        "tree = etree.parse('external-40779.xml')\n",
        "root = tree.getroot()\n",
        "print(root.tag) #название тэга\n",
        "print(root.text) #текст внутри тэга"
      ],
      "metadata": {
        "colab": {
          "base_uri": "https://localhost:8080/"
        },
        "id": "7_M3ve_tWavd",
        "outputId": "040ab859-0bfe-4d34-83fd-4d8e48b602f5"
      },
      "execution_count": null,
      "outputs": [
        {
          "output_type": "stream",
          "name": "stdout",
          "text": [
            "contestLog\n",
            "\n",
            "  \n"
          ]
        }
      ]
    },
    {
      "cell_type": "code",
      "source": [
        "for elem in root.findall(\"users/user\"): # поиск по вложенности <users> <user>\n",
        "    print(elem.attrib[\"id\"]) # обращение к атрибутам и к конкретному атрибуту"
      ],
      "metadata": {
        "id": "jY--u-d_XH_y"
      },
      "execution_count": null,
      "outputs": []
    },
    {
      "cell_type": "markdown",
      "source": [
        "Так вот, парсеры внутри BS берутся из этой библиотеки (так что можно просто использовать BS)"
      ],
      "metadata": {
        "id": "TSQTgC4tX4cS"
      }
    },
    {
      "cell_type": "markdown",
      "source": [
        "## JSON"
      ],
      "metadata": {
        "id": "j8YJ5xIxdkDN"
      }
    },
    {
      "cell_type": "markdown",
      "source": [
        "С JSON мы один раз работали на семинаре, но давайте повторим-пройдем еще раз, что это такое и с чем его едят\n",
        "\n",
        "JSON - JavaScript Object Notation (формат, унаследованный от JavaScript, но сейчас живет независимо). Он еще более читабельный, чем XML, и очень часто используется в REST API, поэтому надо знать врага в лицо\n",
        "\n",
        "Как он [выглядит](https://www.json.org/json-en.html):\n",
        "\n",
        "```\n",
        "{\n",
        "   \"firstName\": \"Иван\",\n",
        "   \"lastName\": \"Иванов\",\n",
        "   \"address\": {\n",
        "       \"streetAddress\": \"Московское ш., 101, кв.101\",\n",
        "       \"city\": \"Ленинград\",\n",
        "       \"postalCode\": 101101\n",
        "   },\n",
        "   \"phoneNumbers\": [\n",
        "       \"812 123-1234\",\n",
        "       \"916 123-4567\"\n",
        "   ]\n",
        "}\n",
        "```"
      ],
      "metadata": {
        "id": "qA55rqNUdl6o"
      }
    },
    {
      "cell_type": "markdown",
      "source": [
        "Почти словарь. У любого атрибута должно быть название, значения идут после двоеточия. Могут быть вложены как словари, может быть список\n",
        "\n",
        "И всегда двойные кавычки! Давайте запишем JSON в файл"
      ],
      "metadata": {
        "id": "kFZMp6oifXjk"
      }
    },
    {
      "cell_type": "code",
      "source": [
        "%%writefile example.json\n",
        "\n",
        "{\n",
        "   \"firstName\": \"Иван\",\n",
        "   \"lastName\": \"Иванов\",\n",
        "   \"address\": {\n",
        "       \"streetAddress\": \"Московское ш., 101, кв.101\",\n",
        "       \"city\": \"Ленинград\",\n",
        "       \"postalCode\": 101101\n",
        "   },\n",
        "   \"phoneNumbers\": [\n",
        "       \"812 123-1234\",\n",
        "       \"916 123-4567\"\n",
        "   ]\n",
        "}"
      ],
      "metadata": {
        "colab": {
          "base_uri": "https://localhost:8080/"
        },
        "id": "8_VcYZXneKuj",
        "outputId": "a6adf2c8-a5da-42c6-dfb3-f61eaa345a54"
      },
      "execution_count": null,
      "outputs": [
        {
          "output_type": "stream",
          "name": "stdout",
          "text": [
            "Writing example.json\n"
          ]
        }
      ]
    },
    {
      "cell_type": "markdown",
      "source": [
        "Внутри Python есть встроенная библиотека для обработки, называется (json)[https://docs.python.org/3/library/json.html] (кто бы мог подумать)\n",
        "\n",
        "Библиотека маленькая и имеет 4 метода:\n",
        "\n",
        "* load - считываем из файла данные\n",
        "\n",
        "* loads - считываем данные из s (string или байты)\n",
        "\n",
        "* dump - загружаем в файл\n",
        "\n",
        "* dumps - загружаем в строку"
      ],
      "metadata": {
        "id": "bbRR3L96f3fI"
      }
    },
    {
      "cell_type": "code",
      "source": [
        "import json\n",
        "\n",
        "with open(\"example.json\", \"r\") as f:\n",
        "    r = json.load(f) #Считать json\n",
        "print(r)\n",
        "type(r)"
      ],
      "metadata": {
        "colab": {
          "base_uri": "https://localhost:8080/"
        },
        "id": "jeynF-g6f29I",
        "outputId": "9a1da0ec-ccec-42c8-c179-98602aebe230"
      },
      "execution_count": null,
      "outputs": [
        {
          "output_type": "stream",
          "name": "stdout",
          "text": [
            "{'firstName': 'Иван', 'lastName': 'Иванов', 'address': {'streetAddress': 'Московское ш., 101, кв.101', 'city': 'Ленинград', 'postalCode': 101101}, 'phoneNumbers': ['812 123-1234', '916 123-4567']}\n"
          ]
        },
        {
          "output_type": "execute_result",
          "data": {
            "text/plain": [
              "dict"
            ]
          },
          "metadata": {},
          "execution_count": 119
        }
      ]
    },
    {
      "cell_type": "code",
      "source": [
        "with open(\"example_1.json\", \"w\") as f:\n",
        "    json.dump(r, f) #Грузим json\n",
        "\n",
        "!cat example_1.json # Ой как плохо, будет нечитабельно, что же делать?"
      ],
      "metadata": {
        "colab": {
          "base_uri": "https://localhost:8080/"
        },
        "id": "N2p2hj6xiV6n",
        "outputId": "2982ee16-03f2-4c55-a98e-4b0c1cedfb2b"
      },
      "execution_count": null,
      "outputs": [
        {
          "output_type": "stream",
          "name": "stdout",
          "text": [
            "{\"firstName\": \"\\u0418\\u0432\\u0430\\u043d\", \"lastName\": \"\\u0418\\u0432\\u0430\\u043d\\u043e\\u0432\", \"address\": {\"streetAddress\": \"\\u041c\\u043e\\u0441\\u043a\\u043e\\u0432\\u0441\\u043a\\u043e\\u0435 \\u0448., 101, \\u043a\\u0432.101\", \"city\": \"\\u041b\\u0435\\u043d\\u0438\\u043d\\u0433\\u0440\\u0430\\u0434\", \"postalCode\": 101101}, \"phoneNumbers\": [\"812 123-1234\", \"916 123-4567\"]}"
          ]
        }
      ]
    },
    {
      "cell_type": "code",
      "source": [
        "with open(\"example_1.json\", \"w\") as f:\n",
        "    json.dump(r, f, ensure_ascii=False) #Грузим json, говорим, что там не ascii\n",
        "\n",
        "!cat example_1.json"
      ],
      "metadata": {
        "colab": {
          "base_uri": "https://localhost:8080/"
        },
        "id": "GLvYymXxi3u5",
        "outputId": "a49928b7-3431-4251-aae5-f0f1c321b825"
      },
      "execution_count": null,
      "outputs": [
        {
          "output_type": "stream",
          "name": "stdout",
          "text": [
            "{\"firstName\": \"Иван\", \"lastName\": \"Иванов\", \"address\": {\"streetAddress\": \"Московское ш., 101, кв.101\", \"city\": \"Ленинград\", \"postalCode\": 101101}, \"phoneNumbers\": [\"812 123-1234\", \"916 123-4567\"]}"
          ]
        }
      ]
    },
    {
      "cell_type": "markdown",
      "source": [
        "Что можно запихнуть в JSON из Python?\n",
        "\n",
        "* dict\n",
        "* list\n",
        "* tuple\n",
        "* string\n",
        "* int\n",
        "* float\n",
        "* True\n",
        "* False\n",
        "* None\n",
        "\n",
        "Остальное не поймет :с"
      ],
      "metadata": {
        "id": "btjAOaJTjnvW"
      }
    },
    {
      "cell_type": "code",
      "source": [
        "print(r[\"firstName\"])\n",
        "print(r[\"phoneNumbers\"])"
      ],
      "metadata": {
        "colab": {
          "base_uri": "https://localhost:8080/"
        },
        "id": "4awF2-_kjx4J",
        "outputId": "e028fd90-8099-4bc0-9dc7-02ed5e049f5c"
      },
      "execution_count": null,
      "outputs": [
        {
          "output_type": "stream",
          "name": "stdout",
          "text": [
            "Иван\n",
            "['812 123-1234', '916 123-4567']\n"
          ]
        }
      ]
    },
    {
      "cell_type": "markdown",
      "source": [
        "Можно загрузать сразу несколько json из файла (но только если они в формате JSON lines)"
      ],
      "metadata": {
        "id": "SO_cVgakkrMT"
      }
    },
    {
      "cell_type": "code",
      "source": [
        "%%writefile example.json\n",
        "{\"firstName\": \"Иван\",\"lastName\": \"Иванов\",\"streetAddress\": \"Московское ш., 101, кв.101\"}\n",
        "{\"firstName\": \"Иван\",\"lastName\": \"Иванов\",\"streetAddress\": \"Московское ш., 101, кв.101\"}\n",
        "{\"firstName\": \"Иван\",\"lastName\": \"Иванов\",\"streetAddress\": \"Московское ш., 101, кв.101\"}"
      ],
      "metadata": {
        "colab": {
          "base_uri": "https://localhost:8080/"
        },
        "id": "EFQRvqHqktl2",
        "outputId": "9898c040-5246-433f-d113-447450d210b7"
      },
      "execution_count": null,
      "outputs": [
        {
          "output_type": "stream",
          "name": "stdout",
          "text": [
            "Overwriting example.json\n"
          ]
        }
      ]
    },
    {
      "cell_type": "code",
      "source": [
        "data = []\n",
        "with open(\"example.json\", \"r\") as f:\n",
        "    for line in f:\n",
        "        data.append(json.loads(line)) #Считать json\n",
        "data"
      ],
      "metadata": {
        "colab": {
          "base_uri": "https://localhost:8080/"
        },
        "id": "hwSMm1l2kxc_",
        "outputId": "c4e797d3-fd42-43a6-c232-eb02c766a248"
      },
      "execution_count": null,
      "outputs": [
        {
          "output_type": "execute_result",
          "data": {
            "text/plain": [
              "[{'firstName': 'Иван',\n",
              "  'lastName': 'Иванов',\n",
              "  'streetAddress': 'Московское ш., 101, кв.101'},\n",
              " {'firstName': 'Иван',\n",
              "  'lastName': 'Иванов',\n",
              "  'streetAddress': 'Московское ш., 101, кв.101'},\n",
              " {'firstName': 'Иван',\n",
              "  'lastName': 'Иванов',\n",
              "  'streetAddress': 'Московское ш., 101, кв.101'}]"
            ]
          },
          "metadata": {},
          "execution_count": 144
        }
      ]
    },
    {
      "cell_type": "markdown",
      "source": [
        "Если несколько JSONов записано не так, то это считается плохим файлом, так что :с\n",
        "\n",
        "Можно попробовать руками обрабатывать, конечно..."
      ],
      "metadata": {
        "id": "7BCqZsASmaCQ"
      }
    },
    {
      "cell_type": "markdown",
      "source": [
        "# И немного [заданий](https://mariolurig.com/crossword/) на регулярки!"
      ],
      "metadata": {
        "id": "BCGWKJdAJ6Ym"
      }
    },
    {
      "cell_type": "markdown",
      "source": [
        "### Задание 1\n",
        "\n",
        "На вход даётся текст. Необходимо вывести все e-mail адреса, которые в нём встречаются. В общем виде задача достаточно сложная, поэтому у нас будет 3 ограничения:\n",
        "\n",
        "* две точки внутри адреса не встречаются;\n",
        "* две собаки внутри адреса не встречаются;\n",
        "* считаем, что e-mail может быть частью «слова», то есть в boo@ya_ru мы видим адрес boo@ya, а в foo№boo@ya.ru видим boo@ya.ru"
      ],
      "metadata": {
        "id": "N88cDAbOLhgM"
      }
    },
    {
      "cell_type": "markdown",
      "source": [
        "### Задание 2\n",
        "\n",
        "Будем считать аббревиатурой слова только лишь из заглавных букв (как минимум из двух). Если несколько таких слов разделены пробелами, то они\n",
        "считаются одной аббревиатурой. Найдите все возможные аббревиатуры в тексте"
      ],
      "metadata": {
        "id": "oUFCj0AnL28K"
      }
    },
    {
      "cell_type": "markdown",
      "source": [
        "### Задание 3\n",
        "\n",
        "На вход даётся текст. Выведите слитно первые буквы каждого слова. Буквы необходимо выводить заглавными.\n",
        "Эту задачу можно решить в одну строчку."
      ],
      "metadata": {
        "id": "OLlwzJFsMPRJ"
      }
    },
    {
      "cell_type": "markdown",
      "source": [
        "### Задание 4\n",
        "\n",
        "Довольно распространённая ошибка ошибка — это повтор слова.\n",
        "Вот в предыдущем предложении такая допущена. Необходимо исправить каждый такой повтор (слово, один или несколько пробельных символов, и снова то же слово)."
      ],
      "metadata": {
        "id": "WOL0q3KmMafa"
      }
    },
    {
      "cell_type": "markdown",
      "source": [
        "### Задание 5\n",
        "\n",
        "На вход даётся текст. Необходимо вывести все e-mail адреса, которые в нём встречаются. При этом e-mail не может быть частью слова, то есть слева и справа от e-mail'а должен быть либо конец строки, либо не-буква и при этом не один из символов '._+-, допустимых в адресе."
      ],
      "metadata": {
        "id": "S1qC9RrZMud1"
      }
    },
    {
      "cell_type": "markdown",
      "source": [
        "### Задание 6 (на BS)\n",
        "\n",
        "Дан сайт http://mignews.com/mobile (сайт с новостями)\n",
        "\n",
        "Выведите оттуда все новости в ленты новостей и выведите их, а также найдите все тэги с буквой k и вы ведите их значения)"
      ],
      "metadata": {
        "id": "8pS1dRgAMwll"
      }
    }
  ]
}