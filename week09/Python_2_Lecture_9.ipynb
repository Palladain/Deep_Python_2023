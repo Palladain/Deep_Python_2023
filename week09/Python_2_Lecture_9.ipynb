{
  "nbformat": 4,
  "nbformat_minor": 0,
  "metadata": {
    "colab": {
      "provenance": [],
      "collapsed_sections": [
        "gMkzsR17NPs_",
        "rNekr0RvisFN",
        "zPBAt1Ozxjxf",
        "rvtw34FcxlfT"
      ]
    },
    "kernelspec": {
      "name": "python3",
      "display_name": "Python 3"
    },
    "language_info": {
      "name": "python"
    }
  },
  "cells": [
    {
      "cell_type": "markdown",
      "source": [
        "# Продвинутый Python, лекция 9\n",
        "\n",
        "**Лектор:** Петров Тимур\n",
        "\n",
        "**Семинаристы:** Петров Тимур, Коган Александра, Бузаев Федор, Дешеулин Олег\n",
        "\n",
        "**Spoiler Alert:** в рамках курса нельзя изучить ни одну из тем от и до досконально (к сожалению, на это требуется больше времени, чем даже 3 часа в неделю). Но мы попробуем рассказать столько, сколько возможно :)"
      ],
      "metadata": {
        "id": "KcdCXP8JePQm"
      }
    },
    {
      "cell_type": "markdown",
      "source": [
        "## HTTP и иже с ним"
      ],
      "metadata": {
        "id": "gMkzsR17NPs_"
      }
    },
    {
      "cell_type": "markdown",
      "source": [
        "Теперь приступим к новым вещам, а именно - к вебом и взаимодействием с ним!"
      ],
      "metadata": {
        "id": "55D0cqkeNIxf"
      }
    },
    {
      "cell_type": "markdown",
      "source": [
        "![](https://www.thebozho.com/wp-content/uploads/2017/04/Free-Open-Internet.jpg)"
      ],
      "metadata": {
        "id": "dPc9h44RNhKW"
      }
    },
    {
      "cell_type": "markdown",
      "source": [
        "Давайте начнем просто с того, что же такое HTTP? В переводе это HyperText Transfer Protocol, или же протокол для передачи т.н. HyperText (гиепртекст - это текст с наличием ссылок для перехода на другие странички, изи)\n",
        "\n",
        "Что в таком случае https, который мы сейчас везде видим? Это тот же HTTP, но еще и S (secure) - данные передаются не просто открыто, а через протокол шифрования [TLS](https://habr.com/ru/post/258285/) (не будет вдаваться в подробности, как оно работает, речь не про это)\n",
        "\n",
        "По сути своей, это модель \"клиент-сервер\". Клиент дает запрос, сервер отвечает, еще запрос, еще ответ etc хоть до бесконечности. Выглядит максимально просто и понятно\n",
        "\n",
        "К примеру, когда вы заходите на сайт, вы отправляете запрос по типу \"покажи сайт\". Сервер такой: \"Держи\". Потом тыкаете на ссылку, опять запрос etc\n",
        "\n"
      ],
      "metadata": {
        "id": "hQayFiceOrqX"
      }
    },
    {
      "cell_type": "markdown",
      "source": [
        "Что происходит при открытии сайта?\n",
        "\n",
        "Например, вы заходите в [питон](https://python.org/). Что необходимо сделать для этого браузеру?\n",
        "\n",
        "Браузер отправляет запрос на сервер, который расположен по адресу python.org. Удивительно, но это можно сделать даже без браузера (кто бы мог подумать)"
      ],
      "metadata": {
        "id": "utjc-VbjQmcd"
      }
    },
    {
      "cell_type": "code",
      "execution_count": null,
      "metadata": {
        "id": "M4JfXCpkMwZ3"
      },
      "outputs": [],
      "source": [
        "!brew install telnet\n",
        "!telnet python.org 80 # утилита, которая осуществляет запрос как клиентская часть"
      ]
    },
    {
      "cell_type": "markdown",
      "source": [
        "Подсоединились, теперь нам надо отправлять запросы, чтобы получать какие-то ответы. Как выглядят запросы в HTTP?\n",
        "\n",
        "На самом деле тут все достаточно просто. Любой запрос в HTTP выглядит следующим образом:\n",
        "\n",
        "```\n",
        "Метод URI HTTP/1.1\\n\n",
        "Host: hostname\\n\n",
        "\\n\n",
        "\n",
        "```\n",
        "\n",
        "* Метод - собственно операция, которую хотим осуществить\n",
        "\n",
        "* URI - путь до документа/страницы, которая нам нужна\n",
        "\n",
        "* HTTP/1.1 - указываем версию HTTP (современная - 1.1)\n",
        "\n",
        "* hostname - название хоста (так как удалённый сервер не обладает никакой информацией о том, какой именно адрес использовался для соединения, то его надо указывать)\n",
        "\n",
        "На самом деле можно указывать также дополнительные параметры (например, какой у нас User-Agent (браузер) etc)"
      ],
      "metadata": {
        "id": "JDNRJVPoVLTC"
      }
    },
    {
      "cell_type": "markdown",
      "source": [
        "Базовый метод - это GET (название говорит само за себя). Ну давайте получим информацию (перейдем на Python, не зря же его изучаем)"
      ],
      "metadata": {
        "id": "BDp55k5wX03l"
      }
    },
    {
      "cell_type": "code",
      "source": [
        "import telnetlib #библиотека для подключений, будет deprecated\n",
        "\n",
        "print(\"connecting...\")\n",
        "tn = telnetlib.Telnet(\"www.python.org\", '80')\n",
        "msg = \"GET / HTTP/1.1\\nHost:www.python.org\\n\\n\".encode('ascii') #необходимо, чтобы отправить без пробразования \\n в перевод строки внутри строки\n",
        "tn.write(msg)\n",
        "print(tn.read_all().decode(\"ascii\"))\n",
        "print(\"response received\")\n",
        "tn.close()"
      ],
      "metadata": {
        "colab": {
          "base_uri": "https://localhost:8080/"
        },
        "id": "zt0fEdrAYdnr",
        "outputId": "2f789fa7-21d1-4826-e378-74df22398868"
      },
      "execution_count": null,
      "outputs": [
        {
          "output_type": "stream",
          "name": "stdout",
          "text": [
            "connecting...\n",
            "HTTP/1.1 301 Moved Permanently\r\n",
            "Connection: close\r\n",
            "Content-Length: 0\r\n",
            "Server: Varnish\r\n",
            "Retry-After: 0\r\n",
            "Location: https://www.python.org/\r\n",
            "Accept-Ranges: bytes\r\n",
            "Date: Sun, 09 Oct 2022 20:45:58 GMT\r\n",
            "Via: 1.1 varnish\r\n",
            "X-Served-By: cache-iad-kjyo7100086-IAD\r\n",
            "X-Cache: HIT\r\n",
            "X-Cache-Hits: 0\r\n",
            "X-Timer: S1665348358.489964,VS0,VE0\r\n",
            "Strict-Transport-Security: max-age=63072000; includeSubDomains\r\n",
            "\r\n",
            "\n",
            "response received\n"
          ]
        }
      ]
    },
    {
      "cell_type": "markdown",
      "source": [
        "Что мы всегда видим в качестве ответа? В первую очередь строку следующего вида:\n",
        "\n",
        "```\n",
        "HTTP/1.1 Код Пояснение\n",
        "```\n",
        "\n",
        "* HTTP/1.1 - версия HTTP\n",
        "\n",
        "* Код - [код выполнения запроса](https://developer.mozilla.org/ru/docs/Web/HTTP/Status)\n",
        "\n",
        "Вот наши любимые:\n",
        "\n",
        "1. 200 - все ок\n",
        "\n",
        "2. 4** - вы лохb (сюда относится и 403, 404 - запрещено/не найдено)\n",
        "\n",
        "3. 5** - мы лохи\n",
        "\n",
        "* Пояснение - название кода ответа (типа OK, Not Found etc)\n"
      ],
      "metadata": {
        "id": "TJsGKgTHZoxU"
      }
    },
    {
      "cell_type": "markdown",
      "source": [
        "Дальше идет тело ответа: что собственно, мы запросили вообще (но никакого response нет, ибо 301)\n",
        "\n",
        "Какие есть основные методы для HTTP?\n",
        "\n",
        "* GET - получи инфу\n",
        "\n",
        "* POST - запость инфу\n",
        "\n",
        "* PUT - обнови инфу\n",
        "\n",
        "* DELETE - удали инфу\n",
        "\n",
        "Если вы решили, что можно взять и тогда удалить Python, то вот нет. Единственное, что обязан обрабатывать веб-сервер - это GET. Остального может не быть (и тогда сервер вас просто не поймет). А еще могут быть всякие другие методы"
      ],
      "metadata": {
        "id": "BPUOrM8oa0YZ"
      }
    },
    {
      "cell_type": "markdown",
      "source": [
        "Понятное дело, что для этого должна быть какая-нибудь удобная библиотека (а не тупо telnet, в который еще как-то странно надо передавать данные). Для этого есть requests!"
      ],
      "metadata": {
        "id": "idLiCpmiii2q"
      }
    },
    {
      "cell_type": "code",
      "execution_count": null,
      "metadata": {
        "id": "6_MnFA6kdjcS"
      },
      "outputs": [],
      "source": []
    },
    {
      "cell_type": "markdown",
      "source": [
        "## Requests"
      ],
      "metadata": {
        "id": "rNekr0RvisFN"
      }
    },
    {
      "cell_type": "markdown",
      "source": [
        "[Requests](https://requests.readthedocs.io/en/latest/api/) - это отличная библиотека для работы с подключениями к сайту. Давайте разбираться на примерах:"
      ],
      "metadata": {
        "id": "jQ7PpKu6udNS"
      }
    },
    {
      "cell_type": "code",
      "source": [
        "import requests\n",
        "\n",
        "requests.get('https://api.github.com') #аналогия get, получаем ответ"
      ],
      "metadata": {
        "colab": {
          "base_uri": "https://localhost:8080/"
        },
        "id": "HvhDc0lqumTX",
        "outputId": "c61e13f2-eafb-4632-9f60-720830a5e34d"
      },
      "execution_count": null,
      "outputs": [
        {
          "output_type": "execute_result",
          "data": {
            "text/plain": [
              "<Response [200]>"
            ]
          },
          "metadata": {},
          "execution_count": 27
        }
      ]
    },
    {
      "cell_type": "markdown",
      "source": [
        "Какие атрибуты есть у get?"
      ],
      "metadata": {
        "id": "CKpspR-NvFm7"
      }
    },
    {
      "cell_type": "code",
      "source": [
        "r = requests.get('https://api.github.com')\n",
        "print(r.status_code, r.reason) # статус ответа (200 - все ОК)\n",
        "print('-' * 30)\n",
        "for i in r.headers.items(): # информация\n",
        "    print(i[0], ':', i[1])\n",
        "print('-' * 30)\n",
        "print(r.encoding)\n",
        "print('-' * 30)\n",
        "print(r.text) # что вывели (тело) (в чистом виде можно с помощью .content, text сразу декодирует)\n",
        "print('-' * 30)\n",
        "print(r.url) # где находимся\n",
        "print('-' * 30)\n",
        "print(r.json) # и можно сразу в виде json"
      ],
      "metadata": {
        "colab": {
          "base_uri": "https://localhost:8080/"
        },
        "id": "Tc7i0bd2u_UR",
        "outputId": "f840848d-ef76-410f-9d10-6e42bc233b60"
      },
      "execution_count": null,
      "outputs": [
        {
          "output_type": "stream",
          "name": "stdout",
          "text": [
            "200 OK\n",
            "------------------------------\n",
            "Server : GitHub.com\n",
            "Date : Sun, 09 Oct 2022 22:01:46 GMT\n",
            "Content-Type : application/json; charset=utf-8\n",
            "Cache-Control : public, max-age=60, s-maxage=60\n",
            "Vary : Accept, Accept-Encoding, Accept, X-Requested-With\n",
            "ETag : W/\"4f825cc84e1c733059d46e76e6df9db557ae5254f9625dfe8e1b09499c449438\"\n",
            "X-GitHub-Media-Type : github.v3; format=json\n",
            "Access-Control-Expose-Headers : ETag, Link, Location, Retry-After, X-GitHub-OTP, X-RateLimit-Limit, X-RateLimit-Remaining, X-RateLimit-Used, X-RateLimit-Resource, X-RateLimit-Reset, X-OAuth-Scopes, X-Accepted-OAuth-Scopes, X-Poll-Interval, X-GitHub-Media-Type, X-GitHub-SSO, X-GitHub-Request-Id, Deprecation, Sunset\n",
            "Access-Control-Allow-Origin : *\n",
            "Strict-Transport-Security : max-age=31536000; includeSubdomains; preload\n",
            "X-Frame-Options : deny\n",
            "X-Content-Type-Options : nosniff\n",
            "X-XSS-Protection : 0\n",
            "Referrer-Policy : origin-when-cross-origin, strict-origin-when-cross-origin\n",
            "Content-Security-Policy : default-src 'none'\n",
            "Content-Encoding : gzip\n",
            "X-RateLimit-Limit : 60\n",
            "X-RateLimit-Remaining : 43\n",
            "X-RateLimit-Reset : 1665355876\n",
            "X-RateLimit-Resource : core\n",
            "X-RateLimit-Used : 17\n",
            "Accept-Ranges : bytes\n",
            "Content-Length : 510\n",
            "X-GitHub-Request-Id : C9D4:12F8:54D4195:AE17C56:634344D9\n",
            "------------------------------\n",
            "utf-8\n",
            "------------------------------\n",
            "{\"current_user_url\":\"https://api.github.com/user\",\"current_user_authorizations_html_url\":\"https://github.com/settings/connections/applications{/client_id}\",\"authorizations_url\":\"https://api.github.com/authorizations\",\"code_search_url\":\"https://api.github.com/search/code?q={query}{&page,per_page,sort,order}\",\"commit_search_url\":\"https://api.github.com/search/commits?q={query}{&page,per_page,sort,order}\",\"emails_url\":\"https://api.github.com/user/emails\",\"emojis_url\":\"https://api.github.com/emojis\",\"events_url\":\"https://api.github.com/events\",\"feeds_url\":\"https://api.github.com/feeds\",\"followers_url\":\"https://api.github.com/user/followers\",\"following_url\":\"https://api.github.com/user/following{/target}\",\"gists_url\":\"https://api.github.com/gists{/gist_id}\",\"hub_url\":\"https://api.github.com/hub\",\"issue_search_url\":\"https://api.github.com/search/issues?q={query}{&page,per_page,sort,order}\",\"issues_url\":\"https://api.github.com/issues\",\"keys_url\":\"https://api.github.com/user/keys\",\"label_search_url\":\"https://api.github.com/search/labels?q={query}&repository_id={repository_id}{&page,per_page}\",\"notifications_url\":\"https://api.github.com/notifications\",\"organization_url\":\"https://api.github.com/orgs/{org}\",\"organization_repositories_url\":\"https://api.github.com/orgs/{org}/repos{?type,page,per_page,sort}\",\"organization_teams_url\":\"https://api.github.com/orgs/{org}/teams\",\"public_gists_url\":\"https://api.github.com/gists/public\",\"rate_limit_url\":\"https://api.github.com/rate_limit\",\"repository_url\":\"https://api.github.com/repos/{owner}/{repo}\",\"repository_search_url\":\"https://api.github.com/search/repositories?q={query}{&page,per_page,sort,order}\",\"current_user_repositories_url\":\"https://api.github.com/user/repos{?type,page,per_page,sort}\",\"starred_url\":\"https://api.github.com/user/starred{/owner}{/repo}\",\"starred_gists_url\":\"https://api.github.com/gists/starred\",\"topic_search_url\":\"https://api.github.com/search/topics?q={query}{&page,per_page}\",\"user_url\":\"https://api.github.com/users/{user}\",\"user_organizations_url\":\"https://api.github.com/user/orgs\",\"user_repositories_url\":\"https://api.github.com/users/{user}/repos{?type,page,per_page,sort}\",\"user_search_url\":\"https://api.github.com/search/users?q={query}{&page,per_page,sort,order}\"}\n",
            "------------------------------\n",
            "https://api.github.com/\n",
            "------------------------------\n",
            "<bound method Response.json of <Response [200]>>\n"
          ]
        }
      ]
    },
    {
      "cell_type": "markdown",
      "source": [
        "Иногда мы хотим делать get не просто по сайту, а еще передавать какие-нибудь параметры. Давайте попробуем:"
      ],
      "metadata": {
        "id": "EjkkfYTHGRDh"
      }
    },
    {
      "cell_type": "code",
      "source": [
        "response = requests.get(\n",
        "    'https://api.github.com/search/repositories',\n",
        "    params={'q': 'Deep_Python'}, #делаем поиск с помощью параметра q https://docs.github.com/en/rest/search\n",
        ")\n",
        "\n",
        "# Анализ некоторых атрибутов местонахождения запросов\n",
        "json_response = response.json()\n",
        "repository = json_response['items'][0]\n",
        "print(f'Repository name: {repository[\"name\"]}')\n",
        "print(f'Repository description: {repository[\"description\"]}')"
      ],
      "metadata": {
        "colab": {
          "base_uri": "https://localhost:8080/"
        },
        "id": "qBWsszISGWqy",
        "outputId": "f040d1ec-d453-4725-d173-36f7e4f89b5d"
      },
      "execution_count": null,
      "outputs": [
        {
          "output_type": "stream",
          "name": "stdout",
          "text": [
            "Repository name: deep-learning-with-python-notebooks\n",
            "Repository description: Jupyter notebooks for the code samples of the book \"Deep Learning with Python\"\n"
          ]
        }
      ]
    },
    {
      "cell_type": "code",
      "source": [
        "for i in range(len(json_response['items'])):\n",
        "    if json_response['items'][i]['name'] == 'Deep_Python':\n",
        "        print(i)"
      ],
      "metadata": {
        "colab": {
          "base_uri": "https://localhost:8080/"
        },
        "id": "Ihju2CpKG7zR",
        "outputId": "7240e435-0cf9-408f-a081-33fc82cbb9d9"
      },
      "execution_count": null,
      "outputs": [
        {
          "output_type": "stream",
          "name": "stdout",
          "text": [
            "21\n"
          ]
        }
      ]
    },
    {
      "cell_type": "code",
      "source": [
        "json_response['items'][21]"
      ],
      "metadata": {
        "id": "RkkhEk0OHe4j"
      },
      "execution_count": null,
      "outputs": []
    },
    {
      "cell_type": "markdown",
      "source": [
        "Какие есть функции?\n",
        "\n",
        "Есть самый основные для HTTP-протокола:"
      ],
      "metadata": {
        "id": "A_Tnem8PHs4I"
      }
    },
    {
      "cell_type": "code",
      "source": [
        "requests.post('https://httpbin.org/post', data={'key':'value'}) #запостить инфу\n",
        "requests.put('https://httpbin.org/put', data={'key':'value'}) #полная замена инфы (придется указать все, что даже не меняется)\n",
        "requests.delete('https://httpbin.org/delete') #удалить инфу\n",
        "requests.head('https://httpbin.org/get') #получить информацию без тела\n",
        "requests.patch('https://httpbin.org/patch', data={'key':'value'}) #замена инфы, но без указания того, что не надо заменять"
      ],
      "metadata": {
        "colab": {
          "base_uri": "https://localhost:8080/"
        },
        "id": "N5HBJ6ZOHwy5",
        "outputId": "683cfbfe-64bf-4696-85df-eab72802d149"
      },
      "execution_count": null,
      "outputs": [
        {
          "output_type": "execute_result",
          "data": {
            "text/plain": [
              "<Response [504]>"
            ]
          },
          "metadata": {},
          "execution_count": 62
        }
      ]
    },
    {
      "cell_type": "markdown",
      "source": [
        "Иногда для того, чтобы получить доступ, надо сделать авторизацию (аутентификацию), для этого внутри requests есть"
      ],
      "metadata": {
        "id": "Lq7fyeyoI1ox"
      }
    },
    {
      "cell_type": "code",
      "source": [
        "from requests.auth import HTTPBasicAuth #самый простой способ аутентификации, почти везде принимается\n",
        "from getpass import getpass #библиотека из 2 функций: запрос пароля и запрос пользователя\n",
        "\n",
        "requests.get(\n",
        "     'https://api.github.com/user',\n",
        "     auth=HTTPBasicAuth('user', getpass())\n",
        ")"
      ],
      "metadata": {
        "colab": {
          "base_uri": "https://localhost:8080/"
        },
        "id": "Qmebvq4UJKds",
        "outputId": "67aeb8b4-447b-4166-b533-beead3f1975a"
      },
      "execution_count": null,
      "outputs": [
        {
          "name": "stdout",
          "output_type": "stream",
          "text": [
            "··········\n"
          ]
        },
        {
          "output_type": "execute_result",
          "data": {
            "text/plain": [
              "<Response [401]>"
            ]
          },
          "metadata": {},
          "execution_count": 65
        }
      ]
    },
    {
      "cell_type": "markdown",
      "source": [
        "Давайте себе представим ситуацию: сервер подвис! Что же делать, наш код будет сидеть и ждать, а такого мы не хотим. Внутри requests можно задать время ожидания, который мы используем"
      ],
      "metadata": {
        "id": "_F0uOIbsJ0YQ"
      }
    },
    {
      "cell_type": "code",
      "source": [
        "from requests.exceptions import Timeout\n",
        "\n",
        "try:\n",
        "    response = requests.get('https://api.github.com', timeout=1) #устанавливаем максимальный timeout, если не случилось, то он бросает Timeout\n",
        "except Timeout:\n",
        "    print('The request timed out')\n",
        "else:\n",
        "    print('The request did not time out')"
      ],
      "metadata": {
        "colab": {
          "base_uri": "https://localhost:8080/"
        },
        "id": "pglh36qgJ_hz",
        "outputId": "5a5f75ae-cbfa-4c59-8cdb-eee0d3ff4ac2"
      },
      "execution_count": null,
      "outputs": [
        {
          "output_type": "stream",
          "name": "stdout",
          "text": [
            "The request did not time out\n"
          ]
        }
      ]
    },
    {
      "cell_type": "markdown",
      "source": [
        "И последнее, что мы сегодня разберем, так это Session. Что это такое?\n",
        "\n",
        "Сессия - это возможность сделать несколько обращений, при этом сохранив общие параметры, которые вам нужны (ну, например, если у вас вдруг везде одинаковый логин-пароль, можно его сохранить и использовать для нескольких вызовов)"
      ],
      "metadata": {
        "id": "tKcFZSsDKUl3"
      }
    },
    {
      "cell_type": "code",
      "source": [
        "with requests.Session() as session:\n",
        "    session.auth = ('username', getpass())\n",
        "    session.headers.update({'one': 'true'})\n",
        "    print(session.headers)\n",
        "    response = session.get('https://api.github.com')\n",
        "\n",
        "print(response.headers)\n",
        "print(response.json())"
      ],
      "metadata": {
        "colab": {
          "base_uri": "https://localhost:8080/"
        },
        "id": "cV1D2MJwKfLK",
        "outputId": "1835b948-c0c4-4892-caed-bea13b2e7f55"
      },
      "execution_count": null,
      "outputs": [
        {
          "output_type": "stream",
          "name": "stdout",
          "text": [
            "··········\n",
            "{'User-Agent': 'python-requests/2.23.0', 'Accept-Encoding': 'gzip, deflate', 'Accept': '*/*', 'Connection': 'keep-alive', 'one': 'true'}\n",
            "{'Server': 'GitHub.com', 'Date': 'Sun, 09 Oct 2022 23:57:32 GMT', 'Content-Type': 'application/json; charset=utf-8', 'Transfer-Encoding': 'chunked', 'Cache-Control': 'public, max-age=60, s-maxage=60', 'Vary': 'Accept, Accept-Encoding, Accept, X-Requested-With', 'ETag': 'W/\"4f825cc84e1c733059d46e76e6df9db557ae5254f9625dfe8e1b09499c449438\"', 'X-GitHub-Media-Type': 'github.v3; format=json', 'X-RateLimit-Limit': '60', 'X-RateLimit-Remaining': '55', 'X-RateLimit-Reset': '1665362812', 'X-RateLimit-Used': '5', 'X-RateLimit-Resource': 'core', 'Access-Control-Expose-Headers': 'ETag, Link, Location, Retry-After, X-GitHub-OTP, X-RateLimit-Limit, X-RateLimit-Remaining, X-RateLimit-Used, X-RateLimit-Resource, X-RateLimit-Reset, X-OAuth-Scopes, X-Accepted-OAuth-Scopes, X-Poll-Interval, X-GitHub-Media-Type, X-GitHub-SSO, X-GitHub-Request-Id, Deprecation, Sunset', 'Access-Control-Allow-Origin': '*', 'Strict-Transport-Security': 'max-age=31536000; includeSubdomains; preload', 'X-Frame-Options': 'deny', 'X-Content-Type-Options': 'nosniff', 'X-XSS-Protection': '0', 'Referrer-Policy': 'origin-when-cross-origin, strict-origin-when-cross-origin', 'Content-Security-Policy': \"default-src 'none'\", 'Content-Encoding': 'gzip', 'X-GitHub-Request-Id': 'DFDE:12A5:70A1C05:E5AAE98:63435FEC'}\n",
            "{'current_user_url': 'https://api.github.com/user', 'current_user_authorizations_html_url': 'https://github.com/settings/connections/applications{/client_id}', 'authorizations_url': 'https://api.github.com/authorizations', 'code_search_url': 'https://api.github.com/search/code?q={query}{&page,per_page,sort,order}', 'commit_search_url': 'https://api.github.com/search/commits?q={query}{&page,per_page,sort,order}', 'emails_url': 'https://api.github.com/user/emails', 'emojis_url': 'https://api.github.com/emojis', 'events_url': 'https://api.github.com/events', 'feeds_url': 'https://api.github.com/feeds', 'followers_url': 'https://api.github.com/user/followers', 'following_url': 'https://api.github.com/user/following{/target}', 'gists_url': 'https://api.github.com/gists{/gist_id}', 'hub_url': 'https://api.github.com/hub', 'issue_search_url': 'https://api.github.com/search/issues?q={query}{&page,per_page,sort,order}', 'issues_url': 'https://api.github.com/issues', 'keys_url': 'https://api.github.com/user/keys', 'label_search_url': 'https://api.github.com/search/labels?q={query}&repository_id={repository_id}{&page,per_page}', 'notifications_url': 'https://api.github.com/notifications', 'organization_url': 'https://api.github.com/orgs/{org}', 'organization_repositories_url': 'https://api.github.com/orgs/{org}/repos{?type,page,per_page,sort}', 'organization_teams_url': 'https://api.github.com/orgs/{org}/teams', 'public_gists_url': 'https://api.github.com/gists/public', 'rate_limit_url': 'https://api.github.com/rate_limit', 'repository_url': 'https://api.github.com/repos/{owner}/{repo}', 'repository_search_url': 'https://api.github.com/search/repositories?q={query}{&page,per_page,sort,order}', 'current_user_repositories_url': 'https://api.github.com/user/repos{?type,page,per_page,sort}', 'starred_url': 'https://api.github.com/user/starred{/owner}{/repo}', 'starred_gists_url': 'https://api.github.com/gists/starred', 'topic_search_url': 'https://api.github.com/search/topics?q={query}{&page,per_page}', 'user_url': 'https://api.github.com/users/{user}', 'user_organizations_url': 'https://api.github.com/user/orgs', 'user_repositories_url': 'https://api.github.com/users/{user}/repos{?type,page,per_page,sort}', 'user_search_url': 'https://api.github.com/search/users?q={query}{&page,per_page,sort,order}'}\n"
          ]
        }
      ]
    },
    {
      "cell_type": "markdown",
      "source": [
        "Наверное, вы слышали какую-нибудь фразу типа \"REST API\". Что это вообще значит?\n",
        "\n",
        "Давайте разбираться по словам"
      ],
      "metadata": {
        "id": "N4UjDQrHiYCa"
      }
    },
    {
      "cell_type": "markdown",
      "source": [
        "## REST"
      ],
      "metadata": {
        "id": "zPBAt1Ozxjxf"
      }
    },
    {
      "cell_type": "markdown",
      "source": [
        "REST (Representational State Transfer) - это, в сущности, некоторое соглашения по поводу того, как проектировать наши запросы и как с ними работать (то есть просто принципы, которым все следуют, чтобы было проще работать)\n",
        "\n",
        "Что в себя включает REST?\n",
        "\n",
        "1. Клиент-серверная архитектура (есть две части: клиент, который отправляет запросы и сервер, который принимает запросы и обрабатывает их. Эти части разделены). Пример не клиент-серверной архитектуры - блокчейн (клиент и сервер соединены, все самодостаточны)\n",
        "\n",
        "2. Stateless (обращаясь к серверу, он нигде не запоминает сам запрос. А если храним, то только на стороне клиента)\n",
        "\n",
        "3. Кэширование (можно использовать кэш, чтобы не обращаться дважды к другим источникам на основе уже ранее показанного)\n",
        "\n",
        "4. Единообразие интерфейса (сервер возвращает не только ресурс, но и его связи с другими ресурсами и действия, которые можно с ним совершить)\n",
        "\n",
        "5. Layered system (ни клиент, ни сервер не должны знать о том, как происходит цепочка вызовов дальше своих прямых соседей, то есть линейная система)\n",
        "\n",
        "6. Code on demand (передаем сам код выполнения, а не только само действие)"
      ],
      "metadata": {
        "id": "hyjTySKPxnHu"
      }
    },
    {
      "cell_type": "markdown",
      "source": [
        "Но что более интересно - каждый понимает REST по-своему, что несколько затрудняет нашу жизнь. Изложенное выше - это оригинальное трактование REST, но разные люди могут по-разному ее определять. Почему? Потому что это соглашения, а не железное правило. Но самое главное, что REST - это всегда про HTTP протоколы (и еще обычно говорят, что для REST всегда должны быть методы GET, DELETE, POST, PUT)\n",
        "\n",
        "Теперь перейдем ко второму слову - API"
      ],
      "metadata": {
        "id": "r3HayYeH1Mt1"
      }
    },
    {
      "cell_type": "markdown",
      "source": [
        "## API"
      ],
      "metadata": {
        "id": "rvtw34FcxlfT"
      }
    },
    {
      "cell_type": "markdown",
      "source": [
        "API (Application programming interface) - некоторое соглашение (или декларация) о том, какие функции есть, как к ним обращаться и как работать. По сути - документация\n",
        "\n",
        "В качестве примера: https://requests.readthedocs.io/en/latest/api/ - вот это API"
      ],
      "metadata": {
        "id": "xoe_gSIv1sZg"
      }
    },
    {
      "cell_type": "markdown",
      "source": [
        "Тыкаем вызов функции - вызывается API, допустим pandas. А pandas еще внутри вызывает API numpy (они очень связаны). А если вы вызываете в seaborn отрисовку графика через данные в pandas, то вы понимаете, что происходит"
      ],
      "metadata": {
        "id": "Oijl3-8J2ksg"
      }
    },
    {
      "cell_type": "markdown",
      "source": [
        "И в совокупности REST API - это обмен данными между API по REST принципу. Все просто! Зачем так делать? Для простоты взаимодействия (все следуют общим правилам - есть общая система, где не надо вникать - успех!)\n",
        "\n",
        "Зачем нам это все знать? Ну вот допустим, что вы решили сделать сайт, для него же надо сделать API, чтобы клиент мог обращаться, тыкаться и работать с ним. Вот для этого\n",
        "\n",
        "На семинаре мы поговорим про Telegram API (и ботика напишем простого), а дальше будет еще лучше)"
      ],
      "metadata": {
        "id": "jboVHKs93NTQ"
      }
    },
    {
      "cell_type": "markdown",
      "source": [
        "## Docker"
      ],
      "metadata": {
        "id": "RYqKKu6ZeET0"
      }
    },
    {
      "cell_type": "markdown",
      "source": [
        "### Но... зачем?"
      ],
      "metadata": {
        "id": "9tC9yWI8zOJN"
      }
    },
    {
      "cell_type": "markdown",
      "source": [
        "Теперь мы перешли к самой сложной части - про докер.\n",
        "\n",
        "Что такое докер? Представьте себе ситуацию: у вас есть приложение, которое вы хотите запустить и показать всему миру, какие вы классные. Что делать?\n",
        "\n",
        "Можно, конечно, создать виртуалку, на нее накинуть приложение и там все делать. Но в какой-то момент вам придется класть туда несколько приложений и дальше начинается катавасия с загруженностью процесса. В какой-то момент одно приложение может стрельнуть (например, если у вас отдельное приложение для новостей, куда зайдет сразу дофига людей), сожрет все процессы и остальные части будут страдать. А еще же люди заходят с разными ОС, и надо конфигурации разные иметь, чтобы у всех все работало. Вот для этих вещей и есть контейнеры\n",
        "\n",
        "Что такое контейнер? Это способ стандартизации развертки приложения и отделения его от общей инфраструктуры. Экземпляр приложения запускается в изолированной среде, не влияющей на основную операционную систему\n",
        "\n",
        "\n",
        "![](https://d1.awsstatic.com/Developer%20Marketing/containers/monolith_2-VM-vs-Containers.78f841efba175556d82f64d1779eb8b725de398d.png)\n",
        "\n",
        "Контейнер позволяют:\n",
        "\n",
        "1. упаковать в единый образ приложение и все его зависимости: библиотеки, системные утилиты и файлы настройки. Это упрощает перенос приложения на другую инфраструктуру\n",
        "\n",
        "2. приложения работают только внутри контейнеров и не имеют доступа к основной операционной системе. Это повышает безопасность приложений:они не смогут случайно или умышленно навредить основной системе. Если приложение в контейнере завершится с ошибкой или зависнет, это никак не затронет основную ОС (изоляция ресурсов)\n",
        "\n",
        "3. избавляет от зависимости ОС: достаточно добавить необходимую конфигурацию в контейнер вместо процесса эмулирования одной ОС на другой (что трудозатратно)\n",
        "\n",
        "4. За счет оптимизации контейнеров получаем также меньшую загрузку"
      ],
      "metadata": {
        "id": "VHE-VD0t9Kgz"
      }
    },
    {
      "cell_type": "markdown",
      "source": [
        "### Ну что же, начнем"
      ],
      "metadata": {
        "id": "L49SMJvAe0sb"
      }
    },
    {
      "cell_type": "markdown",
      "source": [
        "Первое, что надо сделать - это загрузить образ из Docker Hub. Образ (Image) - это схема нашего приложения, основа контейнера, с помощью которого его можно запустить. Все возможные образы хранятся [здесь](https://hub.docker.com/search?q=&type=image) (можно будет добавить сюда же и свои образы, которые вам необходимы)\n",
        "\n",
        "Загрузим самый простой образ - busybox (дальше будет работа в терминале, а не в Колабе)"
      ],
      "metadata": {
        "id": "fpUKlp1ne29e"
      }
    },
    {
      "cell_type": "code",
      "source": [
        "docker pull busybox # загрузи образ busybox, если Permission denied, то запустите с sudo\n",
        "docker images # посмотреть на все загруженные образы\n",
        "docker rmi busybox # удалить образ"
      ],
      "metadata": {
        "id": "cte-Y0V7eGks"
      },
      "execution_count": null,
      "outputs": []
    },
    {
      "cell_type": "markdown",
      "source": [
        "Отлично, загрузили, давайте запускать!"
      ],
      "metadata": {
        "id": "5GOlBl0kf-Jb"
      }
    },
    {
      "cell_type": "code",
      "source": [
        "docker run busybox # ничего не случилось, потому что мы ничего и не задали\n",
        "docker run busybox echo \"Hello\" # о, что-то выдал\n",
        "docker ps # посмотреть запущенные контейнеры (их пока нет, потому что прошлые кончились)\n",
        "docker ps -a # посмотреть все контейнеры\n",
        "docker run -it busybox sh #запустить на больше, чем 1 команду (-it - флаг интерактива)"
      ],
      "metadata": {
        "id": "dW_LXIZThi8S"
      },
      "execution_count": null,
      "outputs": []
    },
    {
      "cell_type": "markdown",
      "source": [
        "Все запушенные и кончившиеся контейнеры занимают место, поэтому их еще стоит удалять (как минимум те, которые завершили свое действие)"
      ],
      "metadata": {
        "id": "jN4bg8MkiT1d"
      }
    },
    {
      "cell_type": "code",
      "source": [
        "docker rm <ids> # удалить все ненужные контейнеры\n",
        "docker rm $(docker ps -a -q -f status=exited) # чтобы не копировать все id\n",
        "# -a все контейнеры, -q  - вывести только ID, -f - фильтр (на статус закончившися exited)"
      ],
      "metadata": {
        "id": "YX5ZClgDicMC"
      },
      "execution_count": null,
      "outputs": []
    },
    {
      "cell_type": "markdown",
      "source": [
        "Обратите внимание сверху на значок Docker (MacOS). Видим, что Docker работает. Что это значит? Что у нас запушен процесс, с помощью которого это все вообще происходит (так называемый Docker Daemon)"
      ],
      "metadata": {
        "id": "1WT-HeUNjB4W"
      }
    },
    {
      "cell_type": "markdown",
      "source": [
        "### Запустим сайт из под капота"
      ],
      "metadata": {
        "id": "I4OHH8kozCTS"
      }
    },
    {
      "cell_type": "markdown",
      "source": [
        "Окей, повеселились с каким-то образом. Как приложения-то запускать? Давайте попробуем запустить какой-нибудь более интересный образ"
      ],
      "metadata": {
        "id": "xtbsVg98jYiB"
      }
    },
    {
      "cell_type": "code",
      "source": [
        "docker pull prakhar1989/static-site\n",
        "docker run prakhar1989/static-site #ничего не происходит, видим просто что is running\n",
        "docker stop $(docker ps -a -q -f status=running) #выключаем все активные контейнеры\n",
        "docker run -d -P --name static-site prakhar1989/static-site #давайте сделаем так:\n",
        "# -d - открепляем наш терминал от контейнера(не будет прикреплен, можем продолжить работу в терминале)\n",
        "# -P - сделаем порты открытыми и публичными, чтобы подключиться\n",
        "# --name переименуем для удоства в static-site\n",
        "docker port static-site #смотрим на порты, открываем на localhost:<порт>"
      ],
      "metadata": {
        "id": "6OUIrOl6jXyc"
      },
      "execution_count": null,
      "outputs": []
    },
    {
      "cell_type": "markdown",
      "source": [
        "Ура, запустили простенький сайт! А если поменять порт? Можно"
      ],
      "metadata": {
        "id": "1HME4SyAlSFG"
      }
    },
    {
      "cell_type": "code",
      "source": [
        "docker run -d -P -p 8888:80 prakhar1989/static-site --name static-site prakhar1989/static-site #теперь он на порту 8888\n",
        "# окей, остановим все и удалим"
      ],
      "metadata": {
        "id": "_PMzMh7VlawV"
      },
      "execution_count": null,
      "outputs": []
    },
    {
      "cell_type": "markdown",
      "source": [
        "### Хотим быть крутыми со своим образом!"
      ],
      "metadata": {
        "id": "EhgX2qTDzGF4"
      }
    },
    {
      "cell_type": "markdown",
      "source": [
        "Теперь хотим создать свой собственный образ и сделать еще интереснее. Образы делятся на 2 типа:\n",
        "\n",
        "* Официальные образы - поддерживаются командой docker, скачать можно по названию (например, docker pull python)\n",
        "\n",
        "* Неофициальные образы - образ, созданный пользователем, чаще всего выглядит как user/name"
      ],
      "metadata": {
        "id": "T1pC2sMgoXb2"
      }
    },
    {
      "cell_type": "markdown",
      "source": [
        "Скачаем простенький сайт, сделанный на Flask (о нем мы будет говорить в других семинарах) и запустим его локально"
      ],
      "metadata": {
        "id": "2g_LyDA-qoiR"
      }
    },
    {
      "cell_type": "code",
      "source": [
        "git clone https://github.com/prakhar1989/docker-curriculum.git #скачаем для простого приложения на Flask (о нем мы будет говорить в других семинарах)\n",
        "cd docker-curriculum/flask-app; pip install -r requirements.txt #установим все, что нужно для сайта\n",
        "vim app.py #для того, чтобы у меня запустилась, так как порт 5000 у меня занят, я поменял в коде на 8888\n",
        "python app.py"
      ],
      "metadata": {
        "id": "BieoVS1UpG7w"
      },
      "execution_count": null,
      "outputs": []
    },
    {
      "cell_type": "markdown",
      "source": [
        "Получилось! Теперь создадим образ с этим приложением. Что нужно?\n",
        "\n",
        "Так как сайт написан на Python, то надо скачать базовый образ python"
      ],
      "metadata": {
        "id": "fKmxqUANqx5t"
      }
    },
    {
      "cell_type": "code",
      "source": [
        "docker pull python:3-onbuild #Какой onbuild, це шо? Это надстройка при запуске возьмет на requirements.txt и установит за нас все, что нужно\n",
        "# То есть такой помощник при запуске"
      ],
      "metadata": {
        "id": "SIQifsR2q_lV"
      },
      "execution_count": null,
      "outputs": []
    },
    {
      "cell_type": "markdown",
      "source": [
        "Теперь надо как-то соединить приложение и образ. Это делается с помощью DockerFile - текстовый документ для автоматизации сборки (код для DockerFile почти идентичен аналогам bash)\n",
        "\n",
        "Создаем там же, где и наше приложение файл Dockerfile и прописываем:"
      ],
      "metadata": {
        "id": "C1gCamwvrlia"
      }
    },
    {
      "cell_type": "code",
      "source": [
        "vim Dockerfile"
      ],
      "metadata": {
        "id": "1GhIiSYQsOLx"
      },
      "execution_count": null,
      "outputs": []
    },
    {
      "cell_type": "code",
      "source": [
        "FROM python:3-onbuild #указываем образ, который надо использовать\n",
        "\n",
        "#благодаря тому, что у нас onbuild, нам не надо копировать файлы и устанавливать зависимости здесь\n",
        "\n",
        "EXPOSE 8888 #говорим, на какой порт это все отправлять\n",
        "\n",
        "CMD [\"python\", \"./app.py\"] # команды для запуска (то есть что надо сделать)"
      ],
      "metadata": {
        "id": "t6NghDySsT4U"
      },
      "execution_count": null,
      "outputs": []
    },
    {
      "cell_type": "markdown",
      "source": [
        "Осталось собрать образ через docker build:"
      ],
      "metadata": {
        "id": "1YXybSwZszSf"
      }
    },
    {
      "cell_type": "code",
      "source": [
        "docker build -t palladain7/catgif . #здесь надо зарегаться на Docker Hub (это быстро) и в качестве user ввести свой ник\n",
        "docker run -p 8888:8888 palladain/catgif #собрали-запустили\n",
        "docker images #проверяем образ"
      ],
      "metadata": {
        "id": "7ISTmHENs2d3"
      },
      "execution_count": null,
      "outputs": []
    },
    {
      "cell_type": "markdown",
      "source": [
        "Ура, мы собрали образ докера! Теперь осталось его загрузить на Docker Hub, чтобы его могли увидеть все и использовать)"
      ],
      "metadata": {
        "id": "wmlMnMKpvJaR"
      }
    },
    {
      "cell_type": "code",
      "source": [
        "docker login #вначале надо авторизоваться\n",
        "docker push palladain7/catgif #пушим\n",
        "https://hub.docker.com/r/palladain7/catgif/ - проверяем, успех"
      ],
      "metadata": {
        "id": "xm-qlptCvhRs"
      },
      "execution_count": null,
      "outputs": []
    },
    {
      "cell_type": "markdown",
      "source": [
        "# Животное дня"
      ],
      "metadata": {
        "id": "dnX2-9ABPUE2"
      }
    },
    {
      "cell_type": "markdown",
      "source": [
        "![](https://cherepah.ru/wp-content/uploads/f/e/d/fed867b6875cf5a53f93f381c0aba25d.jpeg)"
      ],
      "metadata": {
        "id": "4OhgrJIKPgU_"
      }
    },
    {
      "cell_type": "markdown",
      "source": [
        "Это ленивец!"
      ],
      "metadata": {
        "id": "gXE6zq0OPws1"
      }
    },
    {
      "cell_type": "markdown",
      "source": [
        "![](https://farm4.staticflickr.com/3194/2733424567_d254e0b359_b.jpg)"
      ],
      "metadata": {
        "id": "feRzIFJKP4RM"
      }
    },
    {
      "cell_type": "markdown",
      "source": [
        "И это тоже ленивец, но они разные! В чем прикол?\n",
        "\n",
        "Первый - это трехпалый ленивец, второй - двупалый ленивец, отличаются числом когтей (логично)\n",
        "\n",
        "Но в чем главный прикол? Так в том, что они вообще не родственники! Они проихошли от совсем разных видов, но эволюция привела их к тому, чтобы быть ленивцами (прям как с крабами).\n",
        "\n",
        "Ленивцы ленивые, буквально, они спят по 20 часов в сутки, а остальное время едят. За счет того, что они питаются листьями, то у них почти полностью атрофированная мускулатура (на дереве они держатся чисто за счет когтей), плохо видят. Но при этом достаточно неплохо слышат и плавают! (а ходят очень нелепо)\n",
        "\n",
        "А еще у них 8микамерный желудок (занимает примерно 40% всего тела), что позволяет выжать максимум энергии из листьев. Они живут на деревьях, но при этом не умеют ходить в туалет с воздуха, поэтому раз в неделю им приходится спускаться (вот тогда их обычно и ловят)\n",
        "\n",
        "Когда конкистадоры прибыли в Латинскую Америку, они пробовали использовать ленивцев в качестве пищи. Но когда они их подстреливали, ленивцы продолжали висеть высоко в деревьях, поэтому на это забили"
      ],
      "metadata": {
        "id": "z0U7oyMrQDV5"
      }
    }
  ]
}