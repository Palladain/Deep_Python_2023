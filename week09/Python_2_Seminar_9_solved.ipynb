{
  "nbformat": 4,
  "nbformat_minor": 0,
  "metadata": {
    "colab": {
      "provenance": []
    },
    "kernelspec": {
      "name": "python3",
      "display_name": "Python 3"
    },
    "language_info": {
      "name": "python"
    }
  },
  "cells": [
    {
      "cell_type": "markdown",
      "source": [
        "# Продвинутый Python, семинар 9\n",
        "\n",
        "**Лектор:** Петров Тимур\n",
        "\n",
        "**Семинаристы:** Петров Тимур, Коган Александра, Бузаев Федор, Дешеулин Олег\n",
        "\n",
        "**Spoiler Alert:** в рамках курса нельзя изучить ни одну из тем от и до досконально (к сожалению, на это требуется больше времени, чем даже 3 часа в неделю). Но мы попробуем рассказать столько, сколько возможно :)"
      ],
      "metadata": {
        "id": "AbZhZkEGkvxx"
      }
    },
    {
      "cell_type": "markdown",
      "source": [
        "## Telegram Bot API"
      ],
      "metadata": {
        "id": "WaGTHbgnk7r5"
      }
    },
    {
      "cell_type": "markdown",
      "source": [
        "Итак, мы обсудили API, что это вообще такое. Давайте теперь на практике попрактикуемся с API бота в Telegram (достаточно многим нужен кастомный бот, но не умеют в него, хех)\n",
        "\n",
        "Конечно же мы не будем делать все это через GET реквесты etc, для этого тоже есть красивая библиотека [pytelegrambot](https://pytba.readthedocs.io/en/latest/index.html) и [aiogram](https://docs.aiogram.dev/en/dev-3.x/index.html), которая будет в домашке\n",
        "\n",
        "\n",
        "Отдельно еще [API](https://core.telegram.org/api#getting-started)"
      ],
      "metadata": {
        "id": "CGW2yB38lAHA"
      }
    },
    {
      "cell_type": "code",
      "execution_count": null,
      "metadata": {
        "colab": {
          "base_uri": "https://localhost:8080/"
        },
        "id": "VA28aB7XksQZ",
        "outputId": "6fbf05a1-006e-4193-bcb8-dbc42c4fe802"
      },
      "outputs": [
        {
          "output_type": "stream",
          "name": "stdout",
          "text": [
            "Looking in indexes: https://pypi.org/simple, https://us-python.pkg.dev/colab-wheels/public/simple/\n",
            "Collecting pytelegrambotapi\n",
            "  Downloading pyTelegramBotAPI-4.7.0.tar.gz (210 kB)\n",
            "\u001b[K     |████████████████████████████████| 210 kB 4.3 MB/s \n",
            "\u001b[?25hRequirement already satisfied: requests in /usr/local/lib/python3.7/dist-packages (from pytelegrambotapi) (2.23.0)\n",
            "Requirement already satisfied: urllib3!=1.25.0,!=1.25.1,<1.26,>=1.21.1 in /usr/local/lib/python3.7/dist-packages (from requests->pytelegrambotapi) (1.24.3)\n",
            "Requirement already satisfied: chardet<4,>=3.0.2 in /usr/local/lib/python3.7/dist-packages (from requests->pytelegrambotapi) (3.0.4)\n",
            "Requirement already satisfied: certifi>=2017.4.17 in /usr/local/lib/python3.7/dist-packages (from requests->pytelegrambotapi) (2022.9.24)\n",
            "Requirement already satisfied: idna<3,>=2.5 in /usr/local/lib/python3.7/dist-packages (from requests->pytelegrambotapi) (2.10)\n",
            "Building wheels for collected packages: pytelegrambotapi\n",
            "  Building wheel for pytelegrambotapi (setup.py) ... \u001b[?25l\u001b[?25hdone\n",
            "  Created wheel for pytelegrambotapi: filename=pyTelegramBotAPI-4.7.0-py3-none-any.whl size=192826 sha256=e5226c5058f88c092ff01614129b3601544d628b534621884ca4dc8d627b07ca\n",
            "  Stored in directory: /root/.cache/pip/wheels/ba/13/da/8abf941f7cf9f993cde6118a56a7c24e12ed791507acd8ea39\n",
            "Successfully built pytelegrambotapi\n",
            "Installing collected packages: pytelegrambotapi\n",
            "Successfully installed pytelegrambotapi-4.7.0\n"
          ]
        }
      ],
      "source": [
        "!pip install pytelegrambotapi"
      ]
    },
    {
      "cell_type": "code",
      "source": [
        "import telebot\n",
        "from telebot import types\n",
        "\n",
        "TOKEN = '5674479560:AAHI0lWyLHZQUa91Di-6NmNqdWbE7lL_6H8' # указываем токен нашего бота (для этого надо создать бота в @BotFather)\n",
        "# Создайте собственного бота, чтобы наши наработки друг друга не перебивали\n",
        "\n",
        "bot = telebot.TeleBot(TOKEN) # инициализируем нашего бота"
      ],
      "metadata": {
        "id": "iCMjtHHpl5Se"
      },
      "execution_count": null,
      "outputs": []
    },
    {
      "cell_type": "markdown",
      "source": [
        "Отлично, подключились к нашему боту! Теперь надо задавать его поведение, что делать, обработку сценариев\n",
        "\n",
        "Для начала приветствие, то есть то, что происходит при нажатии на кнопочку /start:"
      ],
      "metadata": {
        "id": "pYWzxPQynP6b"
      }
    },
    {
      "cell_type": "code",
      "source": [
        "@bot.message_handler(commands=['start'])\n",
        "def hello_message(message):\n",
        "    bot.send_message(message.chat.id,\"Привет ✌️, тренируемся создавать ботов, давай с нами\")"
      ],
      "metadata": {
        "id": "9ZUeWXUAnQqV"
      },
      "execution_count": null,
      "outputs": []
    },
    {
      "cell_type": "code",
      "source": [
        "bot.polling(none_stop=True, interval=0) #запускаем нашего бота"
      ],
      "metadata": {
        "id": "K5T8FQVdnfzu"
      },
      "execution_count": null,
      "outputs": []
    },
    {
      "cell_type": "markdown",
      "source": [
        "Какие есть базовые функции у бота для коммуникации?\n",
        "\n",
        "* send_message - отправь сообщение\n",
        "\n",
        "* send_photo - отправь фотку\n",
        "\n",
        "* send_voice - отправь войс\n",
        "\n",
        "* send_poll - отправь голосовалку\n",
        "\n",
        "* send_sticker - отправь стикер"
      ],
      "metadata": {
        "id": "cPVzodCG0p2t"
      }
    },
    {
      "cell_type": "markdown",
      "source": [
        "Давайте теперь добавим кнопочку, на которую можно будет тыкать.\n",
        "\n",
        "Так как API у ботов достаточное богатое, то оно разбито по [частям](https://pytba.readthedocs.io/en/latest/types.html), каждая часть лежит в модуле types\n",
        "\n",
        "В данном случае нам понадобится 2 модуля: KeyBoardButton и ReplyKeyBoardMarkup (первый - это кнопочка, вторая - расположить кнопочку)"
      ],
      "metadata": {
        "id": "FR0apJPWy0SQ"
      }
    },
    {
      "cell_type": "code",
      "source": [
        "@bot.message_handler(commands=['button'])\n",
        "def button_message(message):\n",
        "    markup = types.ReplyKeyboardMarkup(resize_keyboard=True)\n",
        "    item_1 = types.KeyboardButton(\"Тык\")\n",
        "    markup.add(item_1)\n",
        "    bot.send_message(message.chat.id,'Выберите что вам надо',reply_markup=markup)"
      ],
      "metadata": {
        "id": "iHzLVCwszWGX"
      },
      "execution_count": null,
      "outputs": []
    },
    {
      "cell_type": "markdown",
      "source": [
        "Отлично, вот мы с вами сделали кнопку, она отправляет текст и... ничего не делает! Почему? Потому что мы не настроили сценарий. Давайте настроим"
      ],
      "metadata": {
        "id": "F9bKD9_G117h"
      }
    },
    {
      "cell_type": "code",
      "source": [
        "@bot.message_handler(content_types='text')\n",
        "def message_reply(message):\n",
        "    if message.text==\"Тык\":\n",
        "        bot.send_message(message.chat.id,\"Ссылка на наш github: https://github.com/Palladain/Deep_Python\")"
      ],
      "metadata": {
        "id": "C7c8Up8u1_Hc"
      },
      "execution_count": null,
      "outputs": []
    },
    {
      "cell_type": "code",
      "source": [
        "bot.polling(none_stop=True, interval=0) #запускаем нашего бота"
      ],
      "metadata": {
        "id": "9JcvGTZ4zoos"
      },
      "execution_count": null,
      "outputs": []
    },
    {
      "cell_type": "markdown",
      "source": [
        "Итак, магия работает, но откуда магия работает? Правильно, все дело в декораторах, которые мы указываем\n",
        "\n",
        "Пока мы с вами использовали только 1 такой декоратор:\n",
        "\n",
        "* bot.message_handler() - обработка сообщений\n",
        "\n",
        "В качестве аргумента мы передаем функцию, которая обрабатывает message, отправленный пользователем. Message в данном случае - это будет объект типа [Message](https://pytba.readthedocs.io/en/latest/types.html#telebot.types.Message), у которого есть несколько аргументов (самый базовый - text, то, что написал пользователь). Но в качестве аргументв можно передавать почти все, что угодно\n",
        "\n",
        "Например, кубик!"
      ],
      "metadata": {
        "id": "-yHrINDr2dgf"
      }
    },
    {
      "cell_type": "code",
      "source": [
        "@bot.message_handler(content_types='dice')\n",
        "def dice_reply(message):\n",
        "    bot.send_message(message.dice.value)"
      ],
      "metadata": {
        "id": "8-GgtNhA5oZC"
      },
      "execution_count": null,
      "outputs": []
    },
    {
      "cell_type": "code",
      "source": [
        "bot.polling(none_stop=True, interval=0) #запускаем нашего бота"
      ],
      "metadata": {
        "id": "xvxXfJPD5pc8"
      },
      "execution_count": null,
      "outputs": []
    },
    {
      "cell_type": "markdown",
      "source": [
        "Давайте реализуем теперь нашего бота следующим образом:"
      ],
      "metadata": {
        "id": "aGcEEqHC5-_d"
      }
    },
    {
      "cell_type": "markdown",
      "source": [
        "### Задание 1\n",
        "\n",
        "Сделайте бот, который будет на старте выдавать две кнопки: одна с вашим любимым попугаем, вторая - с подкидыванием кубика. В зависимости от кубика мы тоже выводим рандомного попугая!"
      ],
      "metadata": {
        "id": "xnfPe5346DCW"
      }
    },
    {
      "cell_type": "code",
      "source": [
        "TOKEN = '5674479560:AAHI0lWyLHZQUa91Di-6NmNqdWbE7lL_6H8' # указываем токен нашего бота (для этого надо создать бота в @BotFather)\n",
        "# Создайте собственного бота, чтобы наши наработки друг друга не перебивали\n",
        "\n",
        "bot = telebot.TeleBot(TOKEN) # инициализируем нашего бота\n",
        "\n",
        "parrots = {1: 'https://cindygurmann.files.wordpress.com/2018/06/ea2530ad-e913-4d5b-8036-762b5b227c04.jpeg',\n",
        "           2: 'https://cherepah.ru/wp-content/uploads/2/2/8/228937ec782b8755993a3241e1d6c039.jpeg',\n",
        "           3: 'https://kotsobaka.com/wp-content/uploads/2018/08/2748131046_8a253489b5_b.jpg',\n",
        "           4: 'https://bestpopugai.ru/wp-content/uploads/2022/05/1-5.jpg',\n",
        "           5: 'https://i.artfile.ru/1920x1200_952300_[www.ArtFile.ru].jpg',\n",
        "           6: 'https://s1.1zoom.ru/big0/612/Parrots_Birds_Ara_(genus)_Hyacinth_macaw_Blue_570002_1280x853.jpg'}\n",
        "\n",
        "favourite_parrot = 'https://pet7.ru/wp-content/uploads/2017/09/Popugaj-zhako-osobennosti-vida.jpg'"
      ],
      "metadata": {
        "id": "FK11QstZ6dkw"
      },
      "execution_count": null,
      "outputs": []
    },
    {
      "cell_type": "markdown",
      "source": [
        "Окей, выглядит прикольно! Уже умеем как-то отвечать на запросы. Но что можно улучшить? Например, кнопочки (можно сделать в одной строке). Давайте сделаем"
      ],
      "metadata": {
        "id": "4RGMVqwv-Wno"
      }
    },
    {
      "cell_type": "code",
      "source": [
        "@bot.message_handler(commands=['start'])\n",
        "def hello_message(message):\n",
        "    markup = types.ReplyKeyboardMarkup(resize_keyboard=True, row_width=2) # указываем, сколько кнопок может быть в строке\n",
        "    item_1 = types.KeyboardButton(\"Любимый попугай\")\n",
        "    item_2 = types.KeyboardButton(\"🎲\")\n",
        "    markup.add(item_1, item_2) #добавляем\n",
        "    bot.send_message(message.chat.id, \"Привет, тут будут попугаи!\", reply_markup=markup)\n",
        "\n",
        "bot.polling(none_stop=True, interval=0) #запускаем нашего бота"
      ],
      "metadata": {
        "id": "-UrvYZtL-tfE"
      },
      "execution_count": null,
      "outputs": []
    },
    {
      "cell_type": "markdown",
      "source": [
        "Чего не хватает? Правильно, дальнейших кнопок!\n",
        "\n",
        "Давайте добавим так, чтобы при выводе любимого попугая можно было отослать гифку с попугаем"
      ],
      "metadata": {
        "id": "8eLyoqKJBdbB"
      }
    },
    {
      "cell_type": "code",
      "source": [
        "@bot.message_handler(content_types=['text', 'emoji'])\n",
        "def message_reply(message):\n",
        "    if message.text==\"Любимый попугай\":\n",
        "        markup = types.ReplyKeyboardMarkup()\n",
        "        item = types.KeyboardButton(text='Хочу GIF-ку!')\n",
        "        markup.add(item)\n",
        "        bot.send_photo(message.chat.id, favourite_parrot, reply_markup = markup)\n",
        "    elif message.text == \"🎲\":\n",
        "        r = bot.send_dice(message.chat.id)\n",
        "        bot.send_photo(message.chat.id, parrots[r.dice.value])\n",
        "    elif message.text == 'Хочу GIF-ку!':\n",
        "        bot.send_animation(message.chat.id, parrot_gif)"
      ],
      "metadata": {
        "id": "wVvj7dwwCG9N"
      },
      "execution_count": null,
      "outputs": []
    },
    {
      "cell_type": "markdown",
      "source": [
        "Что еще можем добавить? Ссылку на саму гифку внутри сообщения!\n",
        "\n",
        "Есть такая вещь, как InlineKeyboardButton - чтобы вывести кнопку в самом сообщении, другое дело, что она работает по-другому:\n",
        "\n",
        "* types.InlineKeyboardButton(text, url=None, callback_data=None, web_app=None, switch_inline_query=None, switch_inline_query_current_chat=None, callback_game=None, pay=None, login_url=None)\n",
        "\n",
        "Один из параметров (и только один) должен быть:\n",
        "\n",
        "* url - ссылка\n",
        "\n",
        "* callback_data - то, что отправляется назад при нажатии на кнопку\n",
        "\n",
        "* web_app - запуск app\n",
        "\n",
        "* switch_inline_query - вызов для выбора чатика, куда вставляется адрес бота и сообщение\n",
        "\n",
        "* switch_inline_query_current_chat - вызов внутри чата (скажем, полезно для встроенных ботов в чате)\n",
        "\n",
        "* callback_game - запуск игры\n",
        "\n",
        "* pay - кнопка оплаты (работает только для кнопок Invoice)"
      ],
      "metadata": {
        "id": "T1rI5B_xEam7"
      }
    },
    {
      "cell_type": "code",
      "source": [
        "TOKEN = '5674479560:AAHI0lWyLHZQUa91Di-6NmNqdWbE7lL_6H8' # указываем токен нашего бота (для этого надо создать бота в @BotFather)\n",
        "# Создайте собственного бота, чтобы наши наработки друг друга не перебивали\n",
        "\n",
        "bot = telebot.TeleBot(TOKEN) # инициализируем нашего бота\n",
        "\n",
        "parrots = {1: 'https://cindygurmann.files.wordpress.com/2018/06/ea2530ad-e913-4d5b-8036-762b5b227c04.jpeg',\n",
        "           2: 'https://cherepah.ru/wp-content/uploads/2/2/8/228937ec782b8755993a3241e1d6c039.jpeg',\n",
        "           3: 'https://kotsobaka.com/wp-content/uploads/2018/08/2748131046_8a253489b5_b.jpg',\n",
        "           4: 'https://bestpopugai.ru/wp-content/uploads/2022/05/1-5.jpg',\n",
        "           5: 'https://i.artfile.ru/1920x1200_952300_[www.ArtFile.ru].jpg',\n",
        "           6: 'https://s1.1zoom.ru/big0/612/Parrots_Birds_Ara_(genus)_Hyacinth_macaw_Blue_570002_1280x853.jpg'}\n",
        "\n",
        "favourite_parrot = 'https://pet7.ru/wp-content/uploads/2017/09/Popugaj-zhako-osobennosti-vida.jpg'\n",
        "\n",
        "parrot_gif = 'https://i1.wp.com/cdn.dribbble.com/users/104127/screenshots/2589080/parrots.gif'\n",
        "\n",
        "@bot.message_handler(commands=['start'])\n",
        "def hello_message(message):\n",
        "    markup = types.ReplyKeyboardMarkup(resize_keyboard=True, row_width=2) # указываем, сколько кнопок может быть в строке\n",
        "    item_1 = types.KeyboardButton(\"Любимый попугай\")\n",
        "    item_2 = types.KeyboardButton(\"🎲\")\n",
        "    markup.add(item_1, item_2) #добавляем\n",
        "    bot.send_message(message.chat.id, \"Привет, тут будут попугаи!\", reply_markup=markup)\n",
        "\n",
        "@bot.message_handler(content_types=['text', 'emoji'])\n",
        "def message_reply(message):\n",
        "    if message.text==\"Любимый попугай\":\n",
        "        markup = types.ReplyKeyboardMarkup()\n",
        "        item = types.KeyboardButton(text='Хочу GIF-ку!')\n",
        "        markup.add(item)\n",
        "        bot.send_photo(message.chat.id, favourite_parrot, reply_markup = markup)\n",
        "    elif message.text == \"🎲\":\n",
        "        r = bot.send_dice(message.chat.id)\n",
        "        bot.send_photo(message.chat.id, parrots[r.dice.value])\n",
        "    elif message.text == 'Хочу GIF-ку!':\n",
        "        markup = types.InlineKeyboardMarkup()\n",
        "        item = types.InlineKeyboardButton(text='Ссылка', url=parrot_gif)\n",
        "        markup.add(item)\n",
        "        bot.send_animation(message.chat.id, parrot_gif, reply_markup = markup)\n",
        "\n",
        "bot.polling(none_stop=True, interval=0) #запускаем нашего бота"
      ],
      "metadata": {
        "id": "FRnY6R62CyV4"
      },
      "execution_count": null,
      "outputs": []
    },
    {
      "cell_type": "markdown",
      "source": [
        "Давайте добавим еще кнопку, с помощью которой можно автоматически переслать ссылку на попуга!"
      ],
      "metadata": {
        "id": "4RcuS62DHJKs"
      }
    },
    {
      "cell_type": "code",
      "source": [
        "TOKEN = '5674479560:AAHI0lWyLHZQUa91Di-6NmNqdWbE7lL_6H8' # указываем токен нашего бота (для этого надо создать бота в @BotFather)\n",
        "# Создайте собственного бота, чтобы наши наработки друг друга не перебивали\n",
        "\n",
        "bot = telebot.TeleBot(TOKEN) # инициализируем нашего бота\n",
        "\n",
        "parrots = {1: 'https://cindygurmann.files.wordpress.com/2018/06/ea2530ad-e913-4d5b-8036-762b5b227c04.jpeg',\n",
        "           2: 'https://cherepah.ru/wp-content/uploads/2/2/8/228937ec782b8755993a3241e1d6c039.jpeg',\n",
        "           3: 'https://kotsobaka.com/wp-content/uploads/2018/08/2748131046_8a253489b5_b.jpg',\n",
        "           4: 'https://bestpopugai.ru/wp-content/uploads/2022/05/1-5.jpg',\n",
        "           5: 'https://i.artfile.ru/1920x1200_952300_[www.ArtFile.ru].jpg',\n",
        "           6: 'https://kipmu.ru/wp-content/uploads/pchppgks.jpg'}\n",
        "\n",
        "favourite_parrot = 'https://pet7.ru/wp-content/uploads/2017/09/Popugaj-zhako-osobennosti-vida.jpg'\n",
        "\n",
        "parrot_gif = 'https://i1.wp.com/cdn.dribbble.com/users/104127/screenshots/2589080/parrots.gif'\n",
        "\n",
        "@bot.message_handler(commands=['start'])\n",
        "def hello_message(message):\n",
        "    markup = types.ReplyKeyboardMarkup(resize_keyboard=True, row_width=2) # указываем, сколько кнопок может быть в строке\n",
        "    item_1 = types.KeyboardButton(\"Любимый попугай\")\n",
        "    item_2 = types.KeyboardButton(\"🎲\")\n",
        "    markup.add(item_1, item_2) #добавляем\n",
        "    bot.send_message(message.chat.id, \"Привет, тут будут попугаи!\", reply_markup=markup)\n",
        "\n",
        "@bot.message_handler(content_types=['text', 'emoji'])\n",
        "def message_reply(message):\n",
        "    if message.text==\"Любимый попугай\":\n",
        "        markup = types.ReplyKeyboardMarkup()\n",
        "        item = types.KeyboardButton(text='Хочу GIF-ку!')\n",
        "        markup.add(item)\n",
        "        bot.send_photo(message.chat.id, favourite_parrot, reply_markup = markup)\n",
        "    elif message.text == \"🎲\":\n",
        "        r = bot.send_dice(message.chat.id)\n",
        "        bot.send_photo(message.chat.id, parrots[r.dice.value])\n",
        "    elif message.text == 'Хочу GIF-ку!':\n",
        "        markup = types.InlineKeyboardMarkup()\n",
        "        item = types.InlineKeyboardButton(text='Ссылка', url=parrot_gif)\n",
        "        item_1 = types.InlineKeyboardButton(text='Переслать', switch_inline_query=parrot_gif)\n",
        "        markup.add(item, item_1)\n",
        "        bot.send_animation(message.chat.id, parrot_gif, reply_markup = markup)\n",
        "        markup = types.ReplyKeyboardMarkup(resize_keyboard=True, row_width=2) # указываем, сколько кнопок может быть в строке\n",
        "        item_1 = types.KeyboardButton(\"Любимый попугай\")\n",
        "        item_2 = types.KeyboardButton(\"🎲\")\n",
        "        markup.add(item_1, item_2) #добавляем\n",
        "        bot.send_message(message.chat.id, \"Еще попуги!\", reply_markup = markup)\n",
        "\n",
        "\n",
        "bot.polling(none_stop=True, interval=0) #запускаем нашего бота"
      ],
      "metadata": {
        "id": "V8Eznr-EHNDn"
      },
      "execution_count": null,
      "outputs": []
    },
    {
      "cell_type": "markdown",
      "source": [
        "Давайте добавим еще функциональности, чтобы его можно было вызывать из строки!"
      ],
      "metadata": {
        "id": "BNJDhuOHvbpI"
      }
    },
    {
      "cell_type": "code",
      "source": [
        "from random import seed, randrange\n",
        "from time import time\n",
        "\n",
        "@bot.inline_handler(func=lambda query: len(query.query) > 0)\n",
        "def query_text(query):\n",
        "    try:\n",
        "        seed(int(time()))\n",
        "        size = randrange(1, 100)\n",
        "        print(size)\n",
        "        r_sum = types.InlineQueryResultArticle(\n",
        "                id='1', title=\"Папуг!\",\n",
        "                input_message_content = types.InputTextMessageContent(message_text=\"Ваш папуг \" + str(size) + \" размера\" )\n",
        "        )\n",
        "        bot.answer_inline_query(query.id, [r_sum])\n",
        "    except Exception as e:\n",
        "        print(\"{!s}\\n{!s}\".format(type(e), str(e)))"
      ],
      "metadata": {
        "id": "df3rW8rdvfsU"
      },
      "execution_count": null,
      "outputs": []
    },
    {
      "cell_type": "markdown",
      "source": [
        "Ну хорошо, умеем отвечать, делать кнопочки, даже открывать ссылки и что-то пересылать. Что еще нужно для всей красоты?\n",
        "\n",
        "Ну вот как видите, у нас бот работает только тогда, когда мы тут запускаем всю работу, а больше мы ничего не можем делать :с\n",
        "\n",
        "Давайте его закинем в контейнер dockerа, чтобы можно было его запустить на фоне и жить счастливо!\n"
      ],
      "metadata": {
        "id": "y-g48t5xH5ii"
      }
    },
    {
      "cell_type": "markdown",
      "source": [
        "### Делаем бота сильным и независимым"
      ],
      "metadata": {
        "id": "DUV2mVoEJkGk"
      }
    },
    {
      "cell_type": "code",
      "source": [
        "%%writefile bot.py"
      ],
      "metadata": {
        "colab": {
          "base_uri": "https://localhost:8080/"
        },
        "id": "BwpoeQWFJlje",
        "outputId": "4997b1c1-67e2-4f50-a300-14f85aeb37d6"
      },
      "execution_count": null,
      "outputs": [
        {
          "output_type": "stream",
          "name": "stdout",
          "text": [
            "Writing bot.py\n"
          ]
        }
      ]
    },
    {
      "cell_type": "markdown",
      "source": [
        "Вспоминаем, как работать с докером:"
      ],
      "metadata": {
        "id": "Vo4Sv_JdMXHG"
      }
    },
    {
      "cell_type": "code",
      "source": [
        "docker pull python:3-onbuild\n",
        "\n",
        "vim Dockerfile"
      ],
      "metadata": {
        "id": "mZ8FSyy_MaDo"
      },
      "execution_count": null,
      "outputs": []
    },
    {
      "cell_type": "code",
      "source": [
        "FROM python:3-onbuild #указываем образ, который надо использовать\n",
        "\n",
        "#благодаря тому, что у нас onbuild, нам не надо копировать файлы и устанавливать зависимости здесь\n",
        "\n",
        "EXPOSE 8888 #говорим, на какой порт это все отправлять\n",
        "\n",
        "CMD [\"python\", \"bot.py\"] # команды для запуска (то есть что надо сделать)"
      ],
      "metadata": {
        "id": "93MA-dsKNZYn"
      },
      "execution_count": null,
      "outputs": []
    },
    {
      "cell_type": "code",
      "source": [
        "docker build -t palladain7/catgif . #здесь надо зарегаться на Docker Hub (это быстро) и в качестве user ввести свой ник\n",
        "docker run -d -P -p 8888:8888 palladain/catgif #собрали-запустили\n",
        "docker images #проверяем образ"
      ],
      "metadata": {
        "id": "akWgl2w3NcmW"
      },
      "execution_count": null,
      "outputs": []
    }
  ]
}