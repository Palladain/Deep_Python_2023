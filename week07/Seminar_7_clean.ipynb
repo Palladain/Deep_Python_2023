{
  "nbformat": 4,
  "nbformat_minor": 0,
  "metadata": {
    "colab": {
      "provenance": []
    },
    "kernelspec": {
      "name": "python3",
      "display_name": "Python 3"
    },
    "language_info": {
      "name": "python"
    }
  },
  "cells": [
    {
      "cell_type": "markdown",
      "source": [
        "# Продвинутый Python, семинар 7\n",
        "\n",
        "**Лектор:** Петров Тимур\n",
        "\n",
        "**Семинаристы:** Петров Тимур, Бузаев Федор, Дешеулин Олег, Коган Александра\n",
        "\n",
        "**Spoiler Alert:** в рамках курса нельзя изучить ни одну из тем от и до досконально (к сожалению, на это требуется больше времени, чем даже 3 часа в неделю). Но мы попробуем рассказать столько, сколько возможно :)"
      ],
      "metadata": {
        "id": "-Ks3uLhkoPG3"
      }
    },
    {
      "cell_type": "markdown",
      "source": [
        "Пилим запросы с помощью Query Builder и радуемся жизни!"
      ],
      "metadata": {
        "id": "zBGkG6OPtB1V"
      }
    },
    {
      "cell_type": "markdown",
      "source": [
        "![](https://www.sqlitetutorial.net/wp-content/uploads/2015/11/sqlite-sample-database-color.jpg)"
      ],
      "metadata": {
        "id": "xBr9tGvDtnHP"
      }
    },
    {
      "cell_type": "code",
      "source": [
        "!pip install pypika"
      ],
      "metadata": {
        "id": "tqAJViMOt7rL"
      },
      "execution_count": null,
      "outputs": []
    },
    {
      "cell_type": "code",
      "source": [
        "from pypika import Table, Query, Parameter, Order, Field, Parameter\n",
        "import pypika.functions as fn\n",
        "\n",
        "playlists = Table(\"playlists\")\n",
        "genres = Table(\"genres\")\n",
        "tracks = Table(\"tracks\")\n",
        "artists = Table(\"artists\")\n",
        "albums = Table(\"albums\")\n",
        "invoice_items = Table(\"invoice_items\")\n",
        "invoices = Table(\"invoices\")\n",
        "customers = Table(\"customers\")\n",
        "playlist_track = Table(\"playlist_track\")"
      ],
      "metadata": {
        "id": "Bu-spJhvuXEB"
      },
      "execution_count": 13,
      "outputs": []
    },
    {
      "cell_type": "code",
      "execution_count": 3,
      "metadata": {
        "id": "XcvFXFMVoJy2"
      },
      "outputs": [],
      "source": [
        "import sqlite3\n",
        "\n",
        "def get_res(query):\n",
        "    with sqlite3.connect('chinook.db') as connection:\n",
        "        cursor = connection.cursor()\n",
        "        cursor.execute(str(query))\n",
        "        cols = [full_column_info[0] for full_column_info in cursor.description]\n",
        "        res = cursor.fetchall()\n",
        "        return [{name: value for name, value in zip(cols, r)} for r in res]"
      ]
    },
    {
      "cell_type": "markdown",
      "source": [
        "### Задание 1\n",
        "\n",
        "Выведите кол-во треков в каждом плейлисте"
      ],
      "metadata": {
        "id": "bV6MSBL5uCx3"
      }
    },
    {
      "cell_type": "code",
      "source": [
        "result = #YOUR CODE\n",
        "get_res(result)"
      ],
      "metadata": {
        "colab": {
          "base_uri": "https://localhost:8080/"
        },
        "id": "F5gjz4miuR2c",
        "outputId": "5069bde4-abc8-407d-a1f8-632753303e1c"
      },
      "execution_count": 6,
      "outputs": [
        {
          "output_type": "execute_result",
          "data": {
            "text/plain": [
              "[{'PlaylistId': 1, 'num_tracks': 8715}]"
            ]
          },
          "metadata": {},
          "execution_count": 6
        }
      ]
    },
    {
      "cell_type": "markdown",
      "source": [
        "### Задание 2\n",
        "\n",
        "Выведите кол-во треков по каждому жанру по убыванию (жанр должен быть в виде имени, не Id)"
      ],
      "metadata": {
        "id": "oESnlRetwiRU"
      }
    },
    {
      "cell_type": "code",
      "source": [
        "result = #YOUR CODE\n",
        "get_res(result)"
      ],
      "metadata": {
        "colab": {
          "base_uri": "https://localhost:8080/"
        },
        "id": "SpD7RFg6wsVJ",
        "outputId": "339ee384-4e89-43c7-92c0-30870f7e9bc6"
      },
      "execution_count": 12,
      "outputs": [
        {
          "output_type": "execute_result",
          "data": {
            "text/plain": [
              "[{'Name': 'Rock', 'num_tracks': 1297},\n",
              " {'Name': 'Latin', 'num_tracks': 579},\n",
              " {'Name': 'Metal', 'num_tracks': 374},\n",
              " {'Name': 'Alternative & Punk', 'num_tracks': 332},\n",
              " {'Name': 'Jazz', 'num_tracks': 130},\n",
              " {'Name': 'TV Shows', 'num_tracks': 93},\n",
              " {'Name': 'Blues', 'num_tracks': 81},\n",
              " {'Name': 'Classical', 'num_tracks': 74},\n",
              " {'Name': 'Drama', 'num_tracks': 64},\n",
              " {'Name': 'R&B/Soul', 'num_tracks': 61},\n",
              " {'Name': 'Reggae', 'num_tracks': 58},\n",
              " {'Name': 'Pop', 'num_tracks': 48},\n",
              " {'Name': 'Soundtrack', 'num_tracks': 43},\n",
              " {'Name': 'Alternative', 'num_tracks': 40},\n",
              " {'Name': 'Hip Hop/Rap', 'num_tracks': 35},\n",
              " {'Name': 'Electronica/Dance', 'num_tracks': 30},\n",
              " {'Name': 'World', 'num_tracks': 28},\n",
              " {'Name': 'Heavy Metal', 'num_tracks': 28},\n",
              " {'Name': 'Sci Fi & Fantasy', 'num_tracks': 26},\n",
              " {'Name': 'Easy Listening', 'num_tracks': 24},\n",
              " {'Name': 'Comedy', 'num_tracks': 17},\n",
              " {'Name': 'Bossa Nova', 'num_tracks': 15},\n",
              " {'Name': 'Science Fiction', 'num_tracks': 13},\n",
              " {'Name': 'Rock And Roll', 'num_tracks': 12},\n",
              " {'Name': 'Opera', 'num_tracks': 1}]"
            ]
          },
          "metadata": {},
          "execution_count": 12
        }
      ]
    },
    {
      "cell_type": "markdown",
      "source": [
        "### Задание 3\n",
        "\n",
        "Выведите названия всех треков по выбранному названию жанра"
      ],
      "metadata": {
        "id": "lMWGOOF0x8eZ"
      }
    },
    {
      "cell_type": "code",
      "source": [
        "def get_res_by_name(query, name):\n",
        "    with sqlite3.connect('chinook.db') as connection:\n",
        "        cursor = connection.cursor()\n",
        "        cursor.execute(str(query), {\"name\": f'%{name}%'})\n",
        "        cols = [full_column_info[0] for full_column_info in cursor.description]\n",
        "        res = cursor.fetchall()\n",
        "        return [{name: value for name, value in zip(cols, r)} for r in res]\n",
        "\n",
        "our_genre = input()\n",
        "result = #YOUR CODE\n",
        "get_res_by_name(result, our_genre)"
      ],
      "metadata": {
        "colab": {
          "base_uri": "https://localhost:8080/"
        },
        "id": "5LzHa4kayVpV",
        "outputId": "e6371e35-ae8c-45d5-8c9d-cd03fb8bac54"
      },
      "execution_count": 16,
      "outputs": [
        {
          "name": "stdout",
          "output_type": "stream",
          "text": [
            "Bossa Nova\n"
          ]
        },
        {
          "output_type": "execute_result",
          "data": {
            "text/plain": [
              "[{'Name': 'Samba Da Bênção'},\n",
              " {'Name': 'Pot-Pourri N.º 4'},\n",
              " {'Name': 'Onde Anda Você'},\n",
              " {'Name': 'Samba Da Volta'},\n",
              " {'Name': 'Canto De Ossanha'},\n",
              " {'Name': 'Pot-Pourri N.º 5'},\n",
              " {'Name': 'Formosa'},\n",
              " {'Name': 'Como É Duro Trabalhar'},\n",
              " {'Name': 'Minha Namorada'},\n",
              " {'Name': 'Por Que Será'},\n",
              " {'Name': 'Berimbau'},\n",
              " {'Name': 'Deixa'},\n",
              " {'Name': 'Pot-Pourri N.º 2'},\n",
              " {'Name': 'Samba Em Prelúdio'},\n",
              " {'Name': 'Carta Ao Tom 74'}]"
            ]
          },
          "metadata": {},
          "execution_count": 16
        }
      ]
    },
    {
      "cell_type": "markdown",
      "source": [
        "### Задание 4\n",
        "\n",
        "Выведите топ-10 самых дорогих альбомов (цена альбома - сумма оплат по всем трекам)"
      ],
      "metadata": {
        "id": "P80Eh7nS0BXY"
      }
    },
    {
      "cell_type": "code",
      "source": [
        "res = #YOUR CODE\n",
        "get_res(res)"
      ],
      "metadata": {
        "colab": {
          "base_uri": "https://localhost:8080/"
        },
        "id": "Pz5bmc4i0YNm",
        "outputId": "72db8529-7398-406d-d66f-1bc0f261c4fa"
      },
      "execution_count": 33,
      "outputs": [
        {
          "output_type": "execute_result",
          "data": {
            "text/plain": [
              "[{'Title': 'The Office, Season 3', 'all_price': 39.8},\n",
              " {'Title': 'Battlestar Galactica (Classic), Season 1',\n",
              "  'all_price': 35.81999999999999},\n",
              " {'Title': 'Minha Historia', 'all_price': 34.649999999999984},\n",
              " {'Title': 'Heroes, Season 1', 'all_price': 33.82999999999999},\n",
              " {'Title': 'Acústico', 'all_price': 29.69999999999998},\n",
              " {'Title': 'Unplugged', 'all_price': 28.709999999999983},\n",
              " {'Title': 'Battlestar Galactica, Season 3', 'all_price': 27.859999999999992},\n",
              " {'Title': 'Greatest Hits', 'all_price': 27.719999999999985},\n",
              " {'Title': 'Lost, Season 2', 'all_price': 25.869999999999994},\n",
              " {'Title': 'Greatest Kiss', 'all_price': 25.739999999999988}]"
            ]
          },
          "metadata": {},
          "execution_count": 33
        }
      ]
    },
    {
      "cell_type": "markdown",
      "source": [
        "Так, помучались с вами немного с Query Builder. А зачем? На самом деле это все основа для ORM, о котором не успели поговорить на лекции. Что же, давайте говорить!"
      ],
      "metadata": {
        "id": "I7MTjDiZ4a3Y"
      }
    },
    {
      "cell_type": "markdown",
      "source": [
        "### Часть 3. ORM"
      ],
      "metadata": {
        "id": "HR7eL8t3UILW"
      }
    },
    {
      "cell_type": "markdown",
      "source": [
        "Ну и теперь вершина - ORM (Object-Relational Mapping)\n",
        "\n",
        "Плюсы:\n",
        "\n",
        "* Еще удобнее, чем Query Builder (вообще SQL не почувствуем)\n",
        "\n",
        "* Таблицы - почти DataClass\n",
        "\n",
        "* Результат автоматически отображается в красивые объекты\n",
        "\n",
        "Минусы:\n",
        "\n",
        "* Иногда нафиг не надо (бывает хуже производительность)\n",
        "\n",
        "Пример: [SQLAlchemy](https://www.sqlalchemy.org/)"
      ],
      "metadata": {
        "id": "Q8USp8rNiZDB"
      }
    },
    {
      "cell_type": "markdown",
      "source": [
        "Выглядит это вот так:\n",
        "\n",
        "![](https://s3.amazonaws.com/media-p.slid.es/uploads/10882/images/5116660/sqlalchemy__3_.png)"
      ],
      "metadata": {
        "id": "G5Tikw7-jsts"
      }
    },
    {
      "cell_type": "markdown",
      "source": [
        "* Python core - все, что про cursor, connection etc\n",
        "\n",
        "* Core - это похожее на Query Builder структура, возможность создавать запросы\n",
        "\n",
        "* ORM - уже модуль для маппинга результатов к объектам"
      ],
      "metadata": {
        "id": "PD5vvb4Lj169"
      }
    },
    {
      "cell_type": "markdown",
      "source": [
        "#### Движок"
      ],
      "metadata": {
        "id": "lP1glGlXkJPX"
      }
    },
    {
      "cell_type": "code",
      "source": [
        "!pip install sqlalchemy"
      ],
      "metadata": {
        "id": "XfiVna_AkM0S",
        "colab": {
          "base_uri": "https://localhost:8080/"
        },
        "outputId": "c38d23de-7534-4c3d-a168-1705dbd3abcf"
      },
      "execution_count": 34,
      "outputs": [
        {
          "output_type": "stream",
          "name": "stdout",
          "text": [
            "Requirement already satisfied: sqlalchemy in /usr/local/lib/python3.10/dist-packages (2.0.22)\n",
            "Requirement already satisfied: typing-extensions>=4.2.0 in /usr/local/lib/python3.10/dist-packages (from sqlalchemy) (4.5.0)\n",
            "Requirement already satisfied: greenlet!=0.4.17 in /usr/local/lib/python3.10/dist-packages (from sqlalchemy) (3.0.0)\n"
          ]
        }
      ]
    },
    {
      "cell_type": "code",
      "source": [
        "from sqlalchemy import create_engine, Column, Integer, String, Float\n",
        "from sqlalchemy.ext.declarative import declarative_base\n",
        "\n",
        "# Единственное место с подсоединением к СУБД\n",
        "engine = create_engine('sqlite+pysqlite:///chinook.db', echo=True)\n",
        "Base = declarative_base() # предок для всех моделей (таблиц)"
      ],
      "metadata": {
        "id": "vuAl8VNykLk1",
        "colab": {
          "base_uri": "https://localhost:8080/"
        },
        "outputId": "b1fe5fcb-6aa2-4145-fcdd-7e13bebd04dc"
      },
      "execution_count": 67,
      "outputs": [
        {
          "output_type": "stream",
          "name": "stderr",
          "text": [
            "<ipython-input-67-22dd3c689ed3>:6: MovedIn20Warning: The ``declarative_base()`` function is now available as sqlalchemy.orm.declarative_base(). (deprecated since: 2.0) (Background on SQLAlchemy 2.0 at: https://sqlalche.me/e/b8d9)\n",
            "  Base = declarative_base() # предок для всех моделей (таблиц)\n"
          ]
        }
      ]
    },
    {
      "cell_type": "markdown",
      "source": [
        "#### Модели"
      ],
      "metadata": {
        "id": "AoYJV5G3k207"
      }
    },
    {
      "cell_type": "code",
      "source": [
        "class Tracks(Base):\n",
        "    __tablename__ = 'tracks' # имя таблицы\n",
        "\n",
        "    track_id = Column(Integer, name='TrackId', primary_key=True) # обязательно должен быть PrimaryKey\n",
        "    Name = Column(String)\n",
        "    GenreId = Column(Integer)\n",
        "    UnitPrice = Column(Float)\n",
        "    MediaTypeId = Column(Integer)\n",
        "    Milliseconds = Column(Integer)\n",
        "\n",
        "    def __repr__(self):\n",
        "        return f\"{self.Name}, {self.GenreId}\"\n",
        "\n",
        "    # создаем колонки, дублируя БД"
      ],
      "metadata": {
        "id": "bgZBQ9hLk4sO"
      },
      "execution_count": 58,
      "outputs": []
    },
    {
      "cell_type": "markdown",
      "source": [
        "#### Сессия"
      ],
      "metadata": {
        "id": "c_aoJUDNltsv"
      }
    },
    {
      "cell_type": "markdown",
      "source": [
        "Что такое Session? По сути дела Connection в другом виде, содержит в себе объекты моделей, ленивое подключение (когда надо)"
      ],
      "metadata": {
        "id": "0hDEYlxRl-KC"
      }
    },
    {
      "cell_type": "code",
      "source": [
        "from sqlalchemy.orm import sessionmaker\n",
        "\n",
        "Session = sessionmaker(bind=engine, future=True, expire_on_commit=False) #future - использование второй версии, expire_on_commit - убиваем на commitе\n",
        "\n",
        "session = Session() #объект сессии\n",
        "session_2 = Session()"
      ],
      "metadata": {
        "id": "GyrikIVqlwu1"
      },
      "execution_count": 59,
      "outputs": []
    },
    {
      "cell_type": "markdown",
      "source": [
        "#### Select"
      ],
      "metadata": {
        "id": "JdUp4U4Cms2g"
      }
    },
    {
      "cell_type": "code",
      "source": [
        "from sqlalchemy import select\n",
        "\n",
        "query = select(Tracks).where(Tracks.Name.like('%name%'))\n",
        "\n",
        "for track in session.scalars(query):\n",
        "    print(track)"
      ],
      "metadata": {
        "id": "Ik_EllNymwUI",
        "colab": {
          "base_uri": "https://localhost:8080/"
        },
        "outputId": "428a2079-96de-4ca0-d4f8-0a47321a0534"
      },
      "execution_count": 60,
      "outputs": [
        {
          "output_type": "stream",
          "name": "stdout",
          "text": [
            "2023-10-31 18:07:46,556 INFO sqlalchemy.engine.Engine BEGIN (implicit)\n"
          ]
        },
        {
          "output_type": "stream",
          "name": "stderr",
          "text": [
            "INFO:sqlalchemy.engine.Engine:BEGIN (implicit)\n"
          ]
        },
        {
          "output_type": "stream",
          "name": "stdout",
          "text": [
            "2023-10-31 18:07:46,565 INFO sqlalchemy.engine.Engine SELECT tracks.\"TrackId\", tracks.\"Name\", tracks.\"GenreId\", tracks.\"UnitPrice\", tracks.\"MediaTypeId\", tracks.\"Milliseconds\" \n",
            "FROM tracks \n",
            "WHERE tracks.\"Name\" LIKE ?\n"
          ]
        },
        {
          "output_type": "stream",
          "name": "stderr",
          "text": [
            "INFO:sqlalchemy.engine.Engine:SELECT tracks.\"TrackId\", tracks.\"Name\", tracks.\"GenreId\", tracks.\"UnitPrice\", tracks.\"MediaTypeId\", tracks.\"Milliseconds\" \n",
            "FROM tracks \n",
            "WHERE tracks.\"Name\" LIKE ?\n"
          ]
        },
        {
          "output_type": "stream",
          "name": "stdout",
          "text": [
            "2023-10-31 18:07:46,571 INFO sqlalchemy.engine.Engine [generated in 0.00620s] ('%name%',)\n"
          ]
        },
        {
          "output_type": "stream",
          "name": "stderr",
          "text": [
            "INFO:sqlalchemy.engine.Engine:[generated in 0.00620s] ('%name%',)\n"
          ]
        },
        {
          "output_type": "stream",
          "name": "stdout",
          "text": [
            "Whatsername, 4\n",
            "Hallowed Be Thy Name (Live) [Non Album Bonus Track], 1\n",
            "Hallowed Be Thy Name, 3\n",
            "Hallowed Be Thy Name, 3\n",
            "Hallowed Be Thy Name, 1\n",
            "Hallowed Be Thy Name, 1\n",
            "Hallowed Be Thy Name, 3\n",
            "The Unnamed Feeling, 3\n",
            "Pride (In The Name Of Love), 1\n",
            "Pride (In The Name Of Love), 1\n",
            "Where The Streets Have No Name, 1\n",
            "You Know My Name, 23\n"
          ]
        }
      ]
    },
    {
      "cell_type": "markdown",
      "source": [
        "Вообще запросы такие же, как и в Query Builder"
      ],
      "metadata": {
        "id": "rAFw6iprnsOy"
      }
    },
    {
      "cell_type": "markdown",
      "source": [
        "#### Insert"
      ],
      "metadata": {
        "id": "8FH8gsRRnwbo"
      }
    },
    {
      "cell_type": "code",
      "source": [
        "new_track = Tracks(track_id=100000, MediaTypeId=1, Name='new_track', GenreId=1, UnitPrice=1.0, Milliseconds=15)\n",
        "session.add(new_track)\n",
        "# ничего не сделал..."
      ],
      "metadata": {
        "id": "Mhv3tYSDnkmO"
      },
      "execution_count": 61,
      "outputs": []
    },
    {
      "cell_type": "code",
      "source": [
        "res = session.execute(select(Tracks).filter_by(Name='new_track')).scalar() #а вот тут случился insert\n",
        "res is new_track"
      ],
      "metadata": {
        "colab": {
          "base_uri": "https://localhost:8080/"
        },
        "id": "_8XA8z3XoHDG",
        "outputId": "8b570a13-a34e-4fec-b75e-1a0a662317d9"
      },
      "execution_count": 62,
      "outputs": [
        {
          "output_type": "stream",
          "name": "stdout",
          "text": [
            "2023-10-31 18:08:13,736 INFO sqlalchemy.engine.Engine INSERT INTO tracks (\"TrackId\", \"Name\", \"GenreId\", \"UnitPrice\", \"MediaTypeId\", \"Milliseconds\") VALUES (?, ?, ?, ?, ?, ?)\n"
          ]
        },
        {
          "output_type": "stream",
          "name": "stderr",
          "text": [
            "INFO:sqlalchemy.engine.Engine:INSERT INTO tracks (\"TrackId\", \"Name\", \"GenreId\", \"UnitPrice\", \"MediaTypeId\", \"Milliseconds\") VALUES (?, ?, ?, ?, ?, ?)\n"
          ]
        },
        {
          "output_type": "stream",
          "name": "stdout",
          "text": [
            "2023-10-31 18:08:13,745 INFO sqlalchemy.engine.Engine [generated in 0.00858s] (100000, 'new_track', 1, 1.0, 1, 15)\n"
          ]
        },
        {
          "output_type": "stream",
          "name": "stderr",
          "text": [
            "INFO:sqlalchemy.engine.Engine:[generated in 0.00858s] (100000, 'new_track', 1, 1.0, 1, 15)\n"
          ]
        },
        {
          "output_type": "stream",
          "name": "stdout",
          "text": [
            "2023-10-31 18:08:13,753 INFO sqlalchemy.engine.Engine SELECT tracks.\"TrackId\", tracks.\"Name\", tracks.\"GenreId\", tracks.\"UnitPrice\", tracks.\"MediaTypeId\", tracks.\"Milliseconds\" \n",
            "FROM tracks \n",
            "WHERE tracks.\"Name\" = ?\n"
          ]
        },
        {
          "output_type": "stream",
          "name": "stderr",
          "text": [
            "INFO:sqlalchemy.engine.Engine:SELECT tracks.\"TrackId\", tracks.\"Name\", tracks.\"GenreId\", tracks.\"UnitPrice\", tracks.\"MediaTypeId\", tracks.\"Milliseconds\" \n",
            "FROM tracks \n",
            "WHERE tracks.\"Name\" = ?\n"
          ]
        },
        {
          "output_type": "stream",
          "name": "stdout",
          "text": [
            "2023-10-31 18:08:13,759 INFO sqlalchemy.engine.Engine [generated in 0.00605s] ('new_track',)\n"
          ]
        },
        {
          "output_type": "stream",
          "name": "stderr",
          "text": [
            "INFO:sqlalchemy.engine.Engine:[generated in 0.00605s] ('new_track',)\n"
          ]
        },
        {
          "output_type": "execute_result",
          "data": {
            "text/plain": [
              "True"
            ]
          },
          "metadata": {},
          "execution_count": 62
        }
      ]
    },
    {
      "cell_type": "markdown",
      "source": [
        "#### Relations (или же Joins)"
      ],
      "metadata": {
        "id": "sAclwkEgpOLf"
      }
    },
    {
      "cell_type": "code",
      "source": [
        "from sqlalchemy import ForeignKey, select\n",
        "from sqlalchemy.orm import relationship\n",
        "\n",
        "class RelatedTrack(Base):\n",
        "    __tablename__ = 'tracks'\n",
        "    __table_args__ = {'extend_existing': True} #дабы не было конфликтов\n",
        "\n",
        "\n",
        "    track_id = Column(Integer, name='TrackId', primary_key=True) # обязательно должен быть PrimaryKey\n",
        "    Name = Column(String)\n",
        "    GenreId = Column(Integer, ForeignKey('genres.GenreId'))\n",
        "    UnitPrice = Column(Float)\n",
        "    MediaTypeId = Column(Integer)\n",
        "    Milliseconds = Column(Integer)\n",
        "\n",
        "    genre = relationship('Genre', back_populates='tracks')\n",
        "\n",
        "class Genre(Base):\n",
        "    __tablename__ = 'genres'\n",
        "    __table_args__ = {'extend_existing': True}\n",
        "\n",
        "    GenreId = Column(Integer, primary_key=True)\n",
        "    Name = Column(String)\n",
        "\n",
        "    tracks = relationship(\"RelatedTrack\", back_populates='genre', uselist=True) #uselist - список"
      ],
      "metadata": {
        "id": "-ffYgF3fpThO"
      },
      "execution_count": 63,
      "outputs": []
    },
    {
      "cell_type": "code",
      "source": [
        "genre_1 = session.execute(select(Genre).filter_by(GenreId=1)).scalar()\n",
        "len(genre_1.tracks)"
      ],
      "metadata": {
        "id": "-pqRc8w0rPKR"
      },
      "execution_count": null,
      "outputs": []
    },
    {
      "cell_type": "code",
      "source": [
        "genre_1.tracks[0].Name"
      ],
      "metadata": {
        "colab": {
          "base_uri": "https://localhost:8080/",
          "height": 36
        },
        "id": "TUvSrQ2trwR9",
        "outputId": "1b8a29a2-c46f-44d5-ae65-11e0a7e7e01f"
      },
      "execution_count": 65,
      "outputs": [
        {
          "output_type": "execute_result",
          "data": {
            "text/plain": [
              "'For Those About To Rock (We Salute You)'"
            ],
            "application/vnd.google.colaboratory.intrinsic+json": {
              "type": "string"
            }
          },
          "metadata": {},
          "execution_count": 65
        }
      ]
    },
    {
      "cell_type": "code",
      "source": [
        "genre_1.tracks[0].genre is genre_1 #есть обратная связь"
      ],
      "metadata": {
        "colab": {
          "base_uri": "https://localhost:8080/"
        },
        "id": "c2ZgGF_lrzaA",
        "outputId": "2ffa37dc-013e-4004-fbce-b1f30845c8fb"
      },
      "execution_count": 66,
      "outputs": [
        {
          "output_type": "execute_result",
          "data": {
            "text/plain": [
              "True"
            ]
          },
          "metadata": {},
          "execution_count": 66
        }
      ]
    },
    {
      "cell_type": "markdown",
      "source": [
        "Зачем это все нужно? На самом деле мы можем загнать абсолютно весь наш датасет со всеми связями, которые нам нужны, таким образом, мы можем спокойно делать запросы сразу по всему! Обнулимся и сделаем по красоте"
      ],
      "metadata": {
        "id": "ckqJDoOg7k4c"
      }
    },
    {
      "cell_type": "code",
      "source": [
        "from sqlalchemy import create_engine, Column, Integer, String, Float\n",
        "from sqlalchemy.ext.declarative import declarative_base\n",
        "\n",
        "# Единственное место с подсоединением к СУБД\n",
        "engine = create_engine('sqlite+pysqlite:///chinook.db')\n",
        "Base = declarative_base() # предок для всех моделей (таблиц)"
      ],
      "metadata": {
        "colab": {
          "base_uri": "https://localhost:8080/"
        },
        "id": "TSoj4xzi-Y1k",
        "outputId": "2b8fb47c-eaa6-49d7-c02f-bb6485457bab"
      },
      "execution_count": 96,
      "outputs": [
        {
          "output_type": "stream",
          "name": "stderr",
          "text": [
            "<ipython-input-96-cf680697690b>:6: MovedIn20Warning: The ``declarative_base()`` function is now available as sqlalchemy.orm.declarative_base(). (deprecated since: 2.0) (Background on SQLAlchemy 2.0 at: https://sqlalche.me/e/b8d9)\n",
            "  Base = declarative_base() # предок для всех моделей (таблиц)\n"
          ]
        }
      ]
    },
    {
      "cell_type": "code",
      "source": [
        "#YOUR CODE"
      ],
      "metadata": {
        "id": "allCNKh27unM"
      },
      "execution_count": 97,
      "outputs": []
    },
    {
      "cell_type": "code",
      "source": [
        "genre_1 = session.execute(select(Artists).filter_by(ArtistId=1)).scalar()"
      ],
      "metadata": {
        "colab": {
          "base_uri": "https://localhost:8080/"
        },
        "id": "TOGhHmFS-aYE",
        "outputId": "97bcd2ac-f3eb-4c25-8aae-a7a5e9bd591d"
      },
      "execution_count": 100,
      "outputs": [
        {
          "output_type": "stream",
          "name": "stdout",
          "text": [
            "2023-10-31 18:31:27,878 INFO sqlalchemy.engine.Engine SELECT artists.\"ArtistId\", artists.\"Name\" \n",
            "FROM artists \n",
            "WHERE artists.\"ArtistId\" = ?\n"
          ]
        },
        {
          "output_type": "stream",
          "name": "stderr",
          "text": [
            "INFO:sqlalchemy.engine.Engine:SELECT artists.\"ArtistId\", artists.\"Name\" \n",
            "FROM artists \n",
            "WHERE artists.\"ArtistId\" = ?\n"
          ]
        },
        {
          "output_type": "stream",
          "name": "stdout",
          "text": [
            "2023-10-31 18:31:27,884 INFO sqlalchemy.engine.Engine [cached since 36.28s ago] (1,)\n"
          ]
        },
        {
          "output_type": "stream",
          "name": "stderr",
          "text": [
            "INFO:sqlalchemy.engine.Engine:[cached since 36.28s ago] (1,)\n"
          ]
        }
      ]
    },
    {
      "cell_type": "code",
      "source": [
        "for album in genre_1.albums:\n",
        "    print(album.tracks[0].Name)"
      ],
      "metadata": {
        "colab": {
          "base_uri": "https://localhost:8080/"
        },
        "id": "2QjnXttWAUho",
        "outputId": "67872827-8ea9-4367-cfd6-27127e25ba2b"
      },
      "execution_count": 101,
      "outputs": [
        {
          "output_type": "stream",
          "name": "stdout",
          "text": [
            "For Those About To Rock (We Salute You)\n",
            "Go Down\n"
          ]
        }
      ]
    },
    {
      "cell_type": "markdown",
      "source": [
        "То есть у вас сразу есть все связи, которые в дальнейшем можно использовать!"
      ],
      "metadata": {
        "id": "NRA-LuCYAXWS"
      }
    }
  ]
}